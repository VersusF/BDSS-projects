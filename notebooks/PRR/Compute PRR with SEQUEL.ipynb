{
 "cells": [
  {
   "cell_type": "code",
   "execution_count": 1,
   "metadata": {},
   "outputs": [
    {
     "data": {
      "text/plain": [
       "#<Sequel::Postgres::Database: {:adapter=>\"postgres\", :host=>\"postgres\", :user=>\"postgres\", :password=>\"mysecretpassword\", :database=>\"adr\", :search_path=>[\"mpd\", \"meddra\", \"reports\"]}>"
      ]
     },
     "execution_count": 1,
     "metadata": {},
     "output_type": "execute_result"
    }
   ],
   "source": [
    "require 'sequel'\n",
    "DB = Sequel.connect(adapter: 'postgres',\n",
    "                    host: 'postgres', \n",
    "                    user: 'postgres',\n",
    "                    password: 'mysecretpassword',\n",
    "                    database: 'adr',\n",
    "                    search_path: ['mpd', 'meddra','reports'])"
   ]
  },
  {
   "cell_type": "markdown",
   "metadata": {},
   "source": [
    "## Model"
   ]
  },
  {
   "cell_type": "code",
   "execution_count": 40,
   "metadata": {},
   "outputs": [
    {
     "data": {
      "text/plain": [
       ":count_occurrences"
      ]
     },
     "execution_count": 40,
     "metadata": {},
     "output_type": "execute_result"
    }
   ],
   "source": [
    "\n",
    "\n",
    "Object.send(:remove_const, :Drug) if defined?(Drug)\n",
    "Object.send(:remove_const, :Report) if defined?(Report)\n",
    "Object.send(:remove_const, :Adr) if defined?(Adr)\n",
    "Object.send(:remove_const, :CommercialDrug) if defined?(CommercialDrug)\n",
    "Object.send(:remove_const, :DrugAdministration) if defined?(DrugAdministration)\n",
    "Object.send(:remove_const, :AtcClass) if defined?(AtcClass)\n",
    "\n",
    "\n",
    "\n",
    "class Drug < Sequel::Model(DB[:pharmaceutical_products])\n",
    "  set_primary_key [:id]\n",
    "  one_to_many :commercial_drugs, key: :pharmaceutical_product_id\n",
    "end \n",
    "\n",
    "class Report < Sequel::Model(DB)\n",
    "  \n",
    "  set_primary_key [:id]\n",
    "  one_to_many :drug_administrations\n",
    "  many_to_many :adrs, join_table: :meddra_adrs, left_key: :report_id,\n",
    "  right_key: :meddra_low_level_term_id\n",
    "  many_to_many :commercial_drugs, join_table: :treatments, left_key: :report_id, right_key: :mpd_medicinal_product_id\n",
    "  \n",
    "end \n",
    "\n",
    "class Adr < Sequel::Model(DB[:low_level_terms])\n",
    "  set_primary_key [:id]\n",
    "  many_to_many :reports, join_table: :meddra_adrs, left_key: :meddra_low_level_term_id ,\n",
    "  right_key: :report_id\n",
    "  \n",
    "  def drug_count(params = {})\n",
    "    \n",
    "    default_params = {\n",
    "      include_nil_dates: true,\n",
    "      start_date: Date.parse(\"1014-11-17\"), \n",
    "      end_date: Date.today, \n",
    "      atc_prefix: \"\"}\n",
    "    \n",
    "    p = default_params.merge(params)\n",
    "    \n",
    "    selected_reports = reports.select do |report| \n",
    "      if report.fill_date.nil?\n",
    "        p[:include_nil_dates]\n",
    "      else  \n",
    "        p[:start_date] <=  report.fill_date && \n",
    "        report.fill_date <= p[:end_date]\n",
    "      end  \n",
    "    end #array of reports\n",
    "    \n",
    "    report_drugs = selected_reports.map do |report|\n",
    "      report.commercial_drugs\n",
    "    end  # array of arrays of commercial_drugs\n",
    "    \n",
    "    adr_drugs =  report_drugs.flatten #array of commercial_drugs\n",
    "    \n",
    "    adr_selected_drugs = adr_drugs.select do |drug|\n",
    "      (not drug.nil?) && drug.atc_code.start_with?(p[:atc_prefix])\n",
    "    end  #array of commercial_drugs\n",
    "        \n",
    "    adr_selected_drugs.count_occurrences\n",
    "    \n",
    "  end  \n",
    "\n",
    "end \n",
    "\n",
    "class CommercialDrug < Sequel::Model(DB[:medicinal_products])\n",
    "  set_primary_key [:id]\n",
    "  one_to_one :drug, primary_key: :pharmaceutical_product_id, key: :id\n",
    "  one_to_many :drug_administrations, primary_key: :id, key: :mpd_medicinal_product_id\n",
    "  one_to_one :atc_class, primary_key: :atc_class_id, key: :id\n",
    "  \n",
    "  def atc_code\n",
    "    atc_class.code\n",
    "  end  \n",
    "  \n",
    "end  \n",
    "\n",
    "class AtcClass< Sequel::Model(DB)\n",
    "end  \n",
    "\n",
    "class DrugAdministration < Sequel::Model(DB[:treatments])\n",
    "  set_primary_key [:id]\n",
    "  one_to_one :commercial_drug,  primary_key: :mpd_medicinal_product_id, key: :id\n",
    "  one_to_one :report,  primary_key: :report_id, key: :id\n",
    "  \n",
    "  def adr_count\n",
    "     ## EXERCISE\n",
    "  end  \n",
    "    \n",
    "end \n",
    "\n",
    "\n",
    "class Array\n",
    "  \n",
    "  def count_occurrences\n",
    "    r = {}\n",
    "    group_by{|item| item}.each do |item, copies|\n",
    "      r[item] = copies.length\n",
    "    end  \n",
    "    r\n",
    "  end  \n",
    "  \n",
    "end "
   ]
  },
  {
   "cell_type": "code",
   "execution_count": 48,
   "metadata": {},
   "outputs": [
    {
     "name": "stdout",
     "output_type": "stream",
     "text": [
      "[1, \"C09BA05\", \"RAMIPRIL/IDROCLOROTIAZIDE\", \"TRIATEC HCT*14 cpr 5 mg + 25 mg\"]\n",
      "[1, \"B01AX05\", \"FONDAPARINUX SODICO\", \"ARIXTRA*10 siringhe SC 2,5 mg 0,5 ml\"]\n",
      "[4, \"B01AA03\", \"WARFARIN SODICO\", \"COUMADIN*30 cpr div 5 mg\"]\n",
      "[1, \"C10AA05\", \"ATORVASTATINA CALCIO TRIIDRATO\", \"TORVAST*10 cpr riv 10 mg\"]\n",
      "[1, \"A10BD07\", \"SITAGLIPTIN FOSFATO MONOIDRATO/METFORMINA CLORIDRATO\", \"JANUMET*56 cpr riv 50 mg + 1.000 mg\"]\n",
      "[1, \"B01AC06\", \"ACIDO ACETILSALICILICO\", \"CARDIOASPIRIN*30 cpr gastrores 100 mg\"]\n",
      "[1, \"B01AB05\", \"ENOXAPARINA SODICA\", \"CLEXANE*6 siringhe 4.000 UI 0,4 ml\"]\n",
      "[1, \"B01AB05\", \"ENOXAPARINA SODICA\", \"CLEXANE*6 siringhe 2.000 UI 0,2 ml\"]\n",
      "[1, \"C08CA01\", \"AMLODIPINA BESILATO\", \"NORVASC*14 cpr 10 mg\"]\n",
      "[1, \"C09DA04\", \"IRBESARTAN/IDROCLOROTIAZIDE\", \"COAPROVEL*28 cpr riv 300 mg + 25 mg\"]\n",
      "[1, \"N02AA55\", \"OXICODONE CLORIDRATO/NALOXONE CLORIDRATO DIIDRATO\", \"TARGIN*28 cpr riv 5 mg + 2,5 mg rilascio prolungato\"]\n",
      "[1, \"A10BA02\", \"METFORMINA CLORIDRATO\", \"METFORALMILLE*60 cpr riv 1.000 mg\"]\n",
      "[1, \"B01AB05\", \"ENOXAPARINA SODICA\", \"CLEXANE T*10 fialesiringhe SC 6.000 UI 0,6 ml\"]\n",
      "[1, \"N05AA03\", \"PROMAZINA CLORIDRATO\", \"TALOFEN*os gtt 30 ml 4 g/100 ml\"]\n",
      "[1, \"N05AX08\", \"RISPERIDONE\", \"RISPERDAL*60 cpr riv 3 mg gialle\"]\n",
      "[1, \"B03AB\", \"SODIO FERRIGLUCONATO\", \"FERLIXIT*5 fiale OS EV 62,5 mg 5 ml\"]\n",
      "[1, \"L04AX04\", \"LENALIDOMIDE\", \"REVLIMID*21 cps 25 mg\"]\n",
      "[1, \"C09AA05\", \"RAMIPRIL\", \"TRIATEC*14 cpr div 5 mg\"]\n",
      "[1, \"C07AB07\", \"BISOPROLOLO EMIFUMARATO\", \"SEQUACOR*28 cpr riv 1,25 mg\"]\n",
      "[1, \"C10AA05\", \"ATORVASTATINA CALCIO TRIIDRATO\", \"TOTALIP*30 cpr mast 10 mg\"]\n",
      "[1, \"B03AA07\", \"FERROSO SOLFATO\", \"FERRO-GRAD*40 cpr 105 mg rilascio prolungato\"]\n",
      "[1, \"B01AC06\", \"ACIDO ACETILSALICILICO/MAGNESIO IDROSSIDO/ALGELDRATO\", \"ASCRIPTIN*20 cpr div 300 mg\"]\n",
      "[1, \"C10AA07\", \"ROSUVASTATINA SALE DI CALCIO\", \"CRESTOR*28 cpr riv 10 mg\"]\n",
      "[1, \"C07AB07\", \"BISOPROLOLO EMIFUMARATO\", \"CARDICOR*28 cpr riv 1,25 mg\"]\n",
      "[1, \"M03BX03\", \"PRIDINOLO MESILATO\", \"LYSEEN*5 fiale 2 mg 1 ml\"]\n",
      "[1, \"L04AX03\", \"METOTREXATO SODICO\", \"METHOTREXATE*25 cpr 2,5 mg\"]\n",
      "[1, \"A03FA01\", \"METOCLOPRAMIDE MONOCLORIDRATO MONOIDRATO\", \"PLASIL*10 mg/2 ml soluzione iniettabile 5 fiale 2 ml\"]\n",
      "[1, \"L01BC05\", \"GEMCITABINA CLORIDRATO\", \"GEMCITABINA (TEVA)*1 flacone EV 1 g polv\"]\n",
      "[1, \"C08CA05\", \"NIFEDIPINA\", \"ADALAT CRONO*14 cpr 30 mg rilascio modificato\"]\n"
     ]
    },
    {
     "data": {
      "text/plain": [
       "{#<CommercialDrug @values={:id=>28531022, :aic_code=>\"028531022\", :ean_code=>nil, :emea_code=>nil, :pharmaceutical_company_code=>nil, :abbreviated_name=>\"TRIATEC HCT*14CPR 5MG+25MG\", :abbreviated_brand_name=>\"TRIATEC HCT\", :name=>\"TRIATEC HCT*14 cpr 5 mg + 25 mg\", :brand_name=>\"TRIATEC HCT\", :manufacturer__pharmaceutical_company_id=>631709991, :authorization_holder__pharmaceutical_company_id=>nil, :atc_class_id=>1167084536, :pharmaceutical_product_id=>900513, :authorization_date=>#<Date: 1994-11-15 ((2449672j,0s,0n),+0s,2299161j)>, :marketing_date=>#<Date: 1996-04-10 ((2450184j,0s,0n),+0s,2299161j)>, :suspension_date=>nil, :suspension_reason=>nil, :suspension_source=>nil, :suspension_source_act_nbr=>nil, :suspension_source_act_year=>nil, :remarketing_date=>nil, :remarketing_reason=>nil, :remarketing_source=>nil, :remarketing_source_act_nbr=>nil, :remarketing_source_act_year=>nil, :withdrawal_date=>nil, :withdrawal_reason=>nil, :withdrawal_source=>nil, :withdrawal_source_act_nbr=>nil, :withdrawal_source_act_year=>nil, :is_marketed=>false, :is_marketed_only_to_healthcare_worker=>true, :replaced__medicinal_product_id=>nil, :replacement__medicinal_product_id=>nil, :national_range_of_fees_id=>nil, :national_drug_formulary_inclusion_date=>#<Date: 1996-01-29 ((2450112j,0s,0n),+0s,2299161j)>, :national_drug_formulary_execlusion_date=>nil, :national_healthcare_system_regime_id=>0, :national_healthcare_system_class=>\"A\", :prescribability_type=>nil, :medical_prescription_type=>nil, :pharmaceutical_form_id=>nil, :category_id=>15, :price=>0.463e1, :price_per_uom_unit=>nil, :price_per_uom_value=>nil, :national_rate_unit=>nil, :national_rate_value=>nil, :is_returnable_to_assinde=>nil, :user_spc_document_id=>65194}>=>1, #<CommercialDrug @values={:id=>35606033, :aic_code=>\"035606033\", :ean_code=>nil, :emea_code=>\"EU/1/02/206/003\", :pharmaceutical_company_code=>nil, :abbreviated_name=>\"ARIXTRA*SC 10SIR 2,5MG 0,5ML\", :abbreviated_brand_name=>\"ARIXTRA\", :name=>\"ARIXTRA*10 siringhe SC 2,5 mg 0,5 ml\", :brand_name=>\"ARIXTRA\", :manufacturer__pharmaceutical_company_id=>554918674, :authorization_holder__pharmaceutical_company_id=>1993264, :atc_class_id=>775409603, :pharmaceutical_product_id=>902830, :authorization_date=>#<Date: 2003-03-01 ((2452700j,0s,0n),+0s,2299161j)>, :marketing_date=>#<Date: 2003-03-31 ((2452730j,0s,0n),+0s,2299161j)>, :suspension_date=>nil, :suspension_reason=>nil, :suspension_source=>nil, :suspension_source_act_nbr=>nil, :suspension_source_act_year=>nil, :remarketing_date=>nil, :remarketing_reason=>nil, :remarketing_source=>nil, :remarketing_source_act_nbr=>nil, :remarketing_source_act_year=>nil, :withdrawal_date=>nil, :withdrawal_reason=>nil, :withdrawal_source=>nil, :withdrawal_source_act_nbr=>nil, :withdrawal_source_act_year=>nil, :is_marketed=>false, :is_marketed_only_to_healthcare_worker=>true, :replaced__medicinal_product_id=>nil, :replacement__medicinal_product_id=>nil, :national_range_of_fees_id=>nil, :national_drug_formulary_inclusion_date=>#<Date: 2007-02-20 ((2454152j,0s,0n),+0s,2299161j)>, :national_drug_formulary_execlusion_date=>nil, :national_healthcare_system_regime_id=>0, :national_healthcare_system_class=>\"A\", :prescribability_type=>nil, :medical_prescription_type=>\"P\", :pharmaceutical_form_id=>nil, :category_id=>15, :price=>0.6745e2, :price_per_uom_unit=>nil, :price_per_uom_value=>nil, :national_rate_unit=>nil, :national_rate_value=>nil, :is_returnable_to_assinde=>nil, :user_spc_document_id=>72292}>=>1, #<CommercialDrug @values={:id=>16366027, :aic_code=>\"016366027\", :ean_code=>nil, :emea_code=>nil, :pharmaceutical_company_code=>nil, :abbreviated_name=>\"COUMADIN*30CPR 5MG\", :abbreviated_brand_name=>\"COUMADIN\", :name=>\"COUMADIN*30 cpr div 5 mg\", :brand_name=>\"COUMADIN\", :manufacturer__pharmaceutical_company_id=>431058399, :authorization_holder__pharmaceutical_company_id=>nil, :atc_class_id=>775392834, :pharmaceutical_product_id=>398501, :authorization_date=>#<Date: 1980-01-01 ((2444240j,0s,0n),+0s,2299161j)>, :marketing_date=>nil, :suspension_date=>nil, :suspension_reason=>nil, :suspension_source=>nil, :suspension_source_act_nbr=>nil, :suspension_source_act_year=>nil, :remarketing_date=>nil, :remarketing_reason=>nil, :remarketing_source=>nil, :remarketing_source_act_nbr=>nil, :remarketing_source_act_year=>nil, :withdrawal_date=>nil, :withdrawal_reason=>nil, :withdrawal_source=>nil, :withdrawal_source_act_nbr=>nil, :withdrawal_source_act_year=>nil, :is_marketed=>false, :is_marketed_only_to_healthcare_worker=>true, :replaced__medicinal_product_id=>nil, :replacement__medicinal_product_id=>nil, :national_range_of_fees_id=>nil, :national_drug_formulary_inclusion_date=>#<Date: 1989-01-01 ((2447528j,0s,0n),+0s,2299161j)>, :national_drug_formulary_execlusion_date=>nil, :national_healthcare_system_regime_id=>0, :national_healthcare_system_class=>\"A\", :prescribability_type=>nil, :medical_prescription_type=>nil, :pharmaceutical_form_id=>nil, :category_id=>15, :price=>0.217e1, :price_per_uom_unit=>nil, :price_per_uom_value=>nil, :national_rate_unit=>nil, :national_rate_value=>nil, :is_returnable_to_assinde=>nil, :user_spc_document_id=>70716}>=>4, #<CommercialDrug @values={:id=>33007016, :aic_code=>\"033007016\", :ean_code=>nil, :emea_code=>nil, :pharmaceutical_company_code=>nil, :abbreviated_name=>\"TORVAST*10CPR RIV 10MG\", :abbreviated_brand_name=>\"TORVAST\", :name=>\"TORVAST*10 cpr riv 10 mg\", :brand_name=>\"TORVAST\", :manufacturer__pharmaceutical_company_id=>352399766, :authorization_holder__pharmaceutical_company_id=>nil, :atc_class_id=>1176630791, :pharmaceutical_product_id=>900946, :authorization_date=>#<Date: 1997-06-23 ((2450623j,0s,0n),+0s,2299161j)>, :marketing_date=>#<Date: 1997-09-10 ((2450702j,0s,0n),+0s,2299161j)>, :suspension_date=>nil, :suspension_reason=>nil, :suspension_source=>nil, :suspension_source_act_nbr=>nil, :suspension_source_act_year=>nil, :remarketing_date=>nil, :remarketing_reason=>nil, :remarketing_source=>nil, :remarketing_source_act_nbr=>nil, :remarketing_source_act_year=>nil, :withdrawal_date=>nil, :withdrawal_reason=>nil, :withdrawal_source=>nil, :withdrawal_source_act_nbr=>nil, :withdrawal_source_act_year=>nil, :is_marketed=>false, :is_marketed_only_to_healthcare_worker=>true, :replaced__medicinal_product_id=>nil, :replacement__medicinal_product_id=>nil, :national_range_of_fees_id=>nil, :national_drug_formulary_inclusion_date=>#<Date: 1998-03-10 ((2450883j,0s,0n),+0s,2299161j)>, :national_drug_formulary_execlusion_date=>nil, :national_healthcare_system_regime_id=>5, :national_healthcare_system_class=>\"A\", :prescribability_type=>nil, :medical_prescription_type=>nil, :pharmaceutical_form_id=>nil, :category_id=>15, :price=>0.314e1, :price_per_uom_unit=>nil, :price_per_uom_value=>nil, :national_rate_unit=>nil, :national_rate_value=>nil, :is_returnable_to_assinde=>nil, :user_spc_document_id=>71979}>=>1, #<CommercialDrug @values={:id=>38672109, :aic_code=>\"038672109\", :ean_code=>nil, :emea_code=>\"EU/1/08/455/010\", :pharmaceutical_company_code=>nil, :abbreviated_name=>\"JANUMET*56CPR RIV 50MG+1000MG\", :abbreviated_brand_name=>\"JANUMET\", :name=>\"JANUMET*56 cpr riv 50 mg + 1.000 mg\", :brand_name=>\"JANUMET\", :manufacturer__pharmaceutical_company_id=>420270679, :authorization_holder__pharmaceutical_company_id=>nil, :atc_class_id=>401811685, :pharmaceutical_product_id=>903480, :authorization_date=>#<Date: 2009-02-27 ((2454890j,0s,0n),+0s,2299161j)>, :marketing_date=>#<Date: 2009-03-09 ((2454900j,0s,0n),+0s,2299161j)>, :suspension_date=>nil, :suspension_reason=>nil, :suspension_source=>nil, :suspension_source_act_nbr=>nil, :suspension_source_act_year=>nil, :remarketing_date=>nil, :remarketing_reason=>nil, :remarketing_source=>nil, :remarketing_source_act_nbr=>nil, :remarketing_source_act_year=>nil, :withdrawal_date=>nil, :withdrawal_reason=>nil, :withdrawal_source=>nil, :withdrawal_source_act_nbr=>nil, :withdrawal_source_act_year=>nil, :is_marketed=>false, :is_marketed_only_to_healthcare_worker=>true, :replaced__medicinal_product_id=>nil, :replacement__medicinal_product_id=>nil, :national_range_of_fees_id=>nil, :national_drug_formulary_inclusion_date=>#<Date: 2009-02-27 ((2454890j,0s,0n),+0s,2299161j)>, :national_drug_formulary_execlusion_date=>nil, :national_healthcare_system_regime_id=>0, :national_healthcare_system_class=>\"A\", :prescribability_type=>\"T5\", :medical_prescription_type=>\"B\", :pharmaceutical_form_id=>nil, :category_id=>15, :price=>0.6234e2, :price_per_uom_unit=>nil, :price_per_uom_value=>nil, :national_rate_unit=>nil, :national_rate_value=>nil, :is_returnable_to_assinde=>nil, :user_spc_document_id=>83375}>=>1, #<CommercialDrug @values={:id=>24840074, :aic_code=>\"024840074\", :ean_code=>nil, :emea_code=>nil, :pharmaceutical_company_code=>nil, :abbreviated_name=>\"CARDIOASPIRIN*30CPR GAST 100MG\", :abbreviated_brand_name=>\"CARDIOASPIRIN\", :name=>\"CARDIOASPIRIN*30 cpr gastrores 100 mg\", :brand_name=>\"CARDIOASPIRIN\", :manufacturer__pharmaceutical_company_id=>9786981, :authorization_holder__pharmaceutical_company_id=>nil, :atc_class_id=>775394295, :pharmaceutical_product_id=>5000, :authorization_date=>#<Date: 1995-12-15 ((2450067j,0s,0n),+0s,2299161j)>, :marketing_date=>#<Date: 1996-06-10 ((2450245j,0s,0n),+0s,2299161j)>, :suspension_date=>nil, :suspension_reason=>nil, :suspension_source=>nil, :suspension_source_act_nbr=>nil, :suspension_source_act_year=>nil, :remarketing_date=>nil, :remarketing_reason=>nil, :remarketing_source=>nil, :remarketing_source_act_nbr=>nil, :remarketing_source_act_year=>nil, :withdrawal_date=>nil, :withdrawal_reason=>nil, :withdrawal_source=>nil, :withdrawal_source_act_nbr=>nil, :withdrawal_source_act_year=>nil, :is_marketed=>false, :is_marketed_only_to_healthcare_worker=>true, :replaced__medicinal_product_id=>nil, :replacement__medicinal_product_id=>nil, :national_range_of_fees_id=>nil, :national_drug_formulary_inclusion_date=>#<Date: 1998-08-26 ((2451052j,0s,0n),+0s,2299161j)>, :national_drug_formulary_execlusion_date=>nil, :national_healthcare_system_regime_id=>0, :national_healthcare_system_class=>\"A\", :prescribability_type=>nil, :medical_prescription_type=>nil, :pharmaceutical_form_id=>nil, :category_id=>15, :price=>0.235e1, :price_per_uom_unit=>nil, :price_per_uom_value=>nil, :national_rate_unit=>nil, :national_rate_value=>nil, :is_returnable_to_assinde=>nil, :user_spc_document_id=>85425}>=>1, #<CommercialDrug @values={:id=>26966046, :aic_code=>\"026966046\", :ean_code=>nil, :emea_code=>nil, :pharmaceutical_company_code=>nil, :abbreviated_name=>\"CLEXANE*6SIR 4000UI 0,4ML\", :abbreviated_brand_name=>\"CLEXANE\", :name=>\"CLEXANE*6 siringhe 4.000 UI 0,4 ml\", :brand_name=>\"CLEXANE\", :manufacturer__pharmaceutical_company_id=>631709991, :authorization_holder__pharmaceutical_company_id=>nil, :atc_class_id=>775393565, :pharmaceutical_product_id=>183200, :authorization_date=>#<Date: 1993-02-16 ((2449035j,0s,0n),+0s,2299161j)>, :marketing_date=>#<Date: 1996-01-05 ((2450088j,0s,0n),+0s,2299161j)>, :suspension_date=>nil, :suspension_reason=>nil, :suspension_source=>nil, :suspension_source_act_nbr=>nil, :suspension_source_act_year=>nil, :remarketing_date=>nil, :remarketing_reason=>nil, :remarketing_source=>nil, :remarketing_source_act_nbr=>nil, :remarketing_source_act_year=>nil, :withdrawal_date=>nil, :withdrawal_reason=>nil, :withdrawal_source=>nil, :withdrawal_source_act_nbr=>nil, :withdrawal_source_act_year=>nil, :is_marketed=>false, :is_marketed_only_to_healthcare_worker=>true, :replaced__medicinal_product_id=>nil, :replacement__medicinal_product_id=>nil, :national_range_of_fees_id=>nil, :national_drug_formulary_inclusion_date=>#<Date: 1999-04-24 ((2451293j,0s,0n),+0s,2299161j)>, :national_drug_formulary_execlusion_date=>nil, :national_healthcare_system_regime_id=>0, :national_healthcare_system_class=>\"A\", :prescribability_type=>nil, :medical_prescription_type=>\"O\", :pharmaceutical_form_id=>nil, :category_id=>15, :price=>0.327e2, :price_per_uom_unit=>nil, :price_per_uom_value=>nil, :national_rate_unit=>nil, :national_rate_value=>nil, :is_returnable_to_assinde=>nil, :user_spc_document_id=>73570}>=>1, #<CommercialDrug @values={:id=>26966034, :aic_code=>\"026966034\", :ean_code=>nil, :emea_code=>nil, :pharmaceutical_company_code=>nil, :abbreviated_name=>\"CLEXANE*6SIR 2000UI 0,2ML\", :abbreviated_brand_name=>\"CLEXANE\", :name=>\"CLEXANE*6 siringhe 2.000 UI 0,2 ml\", :brand_name=>\"CLEXANE\", :manufacturer__pharmaceutical_company_id=>631709991, :authorization_holder__pharmaceutical_company_id=>nil, :atc_class_id=>775393565, :pharmaceutical_product_id=>183200, :authorization_date=>#<Date: 1993-02-16 ((2449035j,0s,0n),+0s,2299161j)>, :marketing_date=>#<Date: 1996-01-05 ((2450088j,0s,0n),+0s,2299161j)>, :suspension_date=>nil, :suspension_reason=>nil, :suspension_source=>nil, :suspension_source_act_nbr=>nil, :suspension_source_act_year=>nil, :remarketing_date=>nil, :remarketing_reason=>nil, :remarketing_source=>nil, :remarketing_source_act_nbr=>nil, :remarketing_source_act_year=>nil, :withdrawal_date=>nil, :withdrawal_reason=>nil, :withdrawal_source=>nil, :withdrawal_source_act_nbr=>nil, :withdrawal_source_act_year=>nil, :is_marketed=>false, :is_marketed_only_to_healthcare_worker=>true, :replaced__medicinal_product_id=>nil, :replacement__medicinal_product_id=>nil, :national_range_of_fees_id=>nil, :national_drug_formulary_inclusion_date=>#<Date: 1999-04-24 ((2451293j,0s,0n),+0s,2299161j)>, :national_drug_formulary_execlusion_date=>nil, :national_healthcare_system_regime_id=>0, :national_healthcare_system_class=>\"A\", :prescribability_type=>nil, :medical_prescription_type=>\"O\", :pharmaceutical_form_id=>nil, :category_id=>15, :price=>0.1724e2, :price_per_uom_unit=>nil, :price_per_uom_value=>nil, :national_rate_unit=>nil, :national_rate_value=>nil, :is_returnable_to_assinde=>nil, :user_spc_document_id=>73570}>=>1, #<CommercialDrug @values={:id=>27428022, :aic_code=>\"027428022\", :ean_code=>nil, :emea_code=>nil, :pharmaceutical_company_code=>nil, :abbreviated_name=>\"NORVASC*14CPR 10MG\", :abbreviated_brand_name=>\"NORVASC\", :name=>\"NORVASC*14 cpr 10 mg\", :brand_name=>\"NORVASC\", :manufacturer__pharmaceutical_company_id=>352399766, :authorization_holder__pharmaceutical_company_id=>nil, :atc_class_id=>1166572774, :pharmaceutical_product_id=>520001, :authorization_date=>#<Date: 1990-04-02 ((2447984j,0s,0n),+0s,2299161j)>, :marketing_date=>nil, :suspension_date=>nil, :suspension_reason=>nil, :suspension_source=>nil, :suspension_source_act_nbr=>nil, :suspension_source_act_year=>nil, :remarketing_date=>nil, :remarketing_reason=>nil, :remarketing_source=>nil, :remarketing_source_act_nbr=>nil, :remarketing_source_act_year=>nil, :withdrawal_date=>nil, :withdrawal_reason=>nil, :withdrawal_source=>nil, :withdrawal_source_act_nbr=>nil, :withdrawal_source_act_year=>nil, :is_marketed=>false, :is_marketed_only_to_healthcare_worker=>true, :replaced__medicinal_product_id=>nil, :replacement__medicinal_product_id=>nil, :national_range_of_fees_id=>nil, :national_drug_formulary_inclusion_date=>#<Date: 1990-06-01 ((2448044j,0s,0n),+0s,2299161j)>, :national_drug_formulary_execlusion_date=>nil, :national_healthcare_system_regime_id=>0, :national_healthcare_system_class=>\"A\", :prescribability_type=>nil, :medical_prescription_type=>nil, :pharmaceutical_form_id=>nil, :category_id=>15, :price=>0.493e1, :price_per_uom_unit=>nil, :price_per_uom_value=>nil, :national_rate_unit=>nil, :national_rate_value=>nil, :is_returnable_to_assinde=>nil, :user_spc_document_id=>84243}>=>1, #<CommercialDrug @values={:id=>34191080, :aic_code=>\"034191080\", :ean_code=>nil, :emea_code=>\"EU/1/98/086/024\", :pharmaceutical_company_code=>nil, :abbreviated_name=>\"COAPROVEL*28CPR RIV 300MG+25MG\", :abbreviated_brand_name=>\"COAPROVEL\", :name=>\"COAPROVEL*28 cpr riv 300 mg + 25 mg\", :brand_name=>\"COAPROVEL\", :manufacturer__pharmaceutical_company_id=>631709991, :authorization_holder__pharmaceutical_company_id=>nil, :atc_class_id=>1167123901, :pharmaceutical_product_id=>901285, :authorization_date=>#<Date: 2007-04-13 ((2454204j,0s,0n),+0s,2299161j)>, :marketing_date=>#<Date: 2007-06-18 ((2454270j,0s,0n),+0s,2299161j)>, :suspension_date=>nil, :suspension_reason=>nil, :suspension_source=>nil, :suspension_source_act_nbr=>nil, :suspension_source_act_year=>nil, :remarketing_date=>nil, :remarketing_reason=>nil, :remarketing_source=>nil, :remarketing_source_act_nbr=>nil, :remarketing_source_act_year=>nil, :withdrawal_date=>nil, :withdrawal_reason=>nil, :withdrawal_source=>nil, :withdrawal_source_act_nbr=>nil, :withdrawal_source_act_year=>nil, :is_marketed=>false, :is_marketed_only_to_healthcare_worker=>true, :replaced__medicinal_product_id=>nil, :replacement__medicinal_product_id=>nil, :national_range_of_fees_id=>nil, :national_drug_formulary_inclusion_date=>#<Date: 2007-04-13 ((2454204j,0s,0n),+0s,2299161j)>, :national_drug_formulary_execlusion_date=>nil, :national_healthcare_system_regime_id=>0, :national_healthcare_system_class=>\"A\", :prescribability_type=>nil, :medical_prescription_type=>nil, :pharmaceutical_form_id=>nil, :category_id=>15, :price=>0.1018e2, :price_per_uom_unit=>nil, :price_per_uom_value=>nil, :national_rate_unit=>nil, :national_rate_value=>nil, :is_returnable_to_assinde=>nil, :user_spc_document_id=>73465}>=>1, #<CommercialDrug @values={:id=>39586045, :aic_code=>\"039586045\", :ean_code=>nil, :emea_code=>nil, :pharmaceutical_company_code=>nil, :abbreviated_name=>\"TARGIN*28CPR 5MG+2,5MG RP\", :abbreviated_brand_name=>\"TARGIN\", :name=>\"TARGIN*28 cpr riv 5 mg + 2,5 mg rilascio prolungato\", :brand_name=>\"TARGIN\", :manufacturer__pharmaceutical_company_id=>292781185, :authorization_holder__pharmaceutical_company_id=>nil, :atc_class_id=>5424970280, :pharmaceutical_product_id=>903654, :authorization_date=>#<Date: 2010-12-12 ((2455543j,0s,0n),+0s,2299161j)>, :marketing_date=>#<Date: 2011-02-07 ((2455600j,0s,0n),+0s,2299161j)>, :suspension_date=>nil, :suspension_reason=>nil, :suspension_source=>nil, :suspension_source_act_nbr=>nil, :suspension_source_act_year=>nil, :remarketing_date=>nil, :remarketing_reason=>nil, :remarketing_source=>nil, :remarketing_source_act_nbr=>nil, :remarketing_source_act_year=>nil, :withdrawal_date=>nil, :withdrawal_reason=>nil, :withdrawal_source=>nil, :withdrawal_source_act_nbr=>nil, :withdrawal_source_act_year=>nil, :is_marketed=>false, :is_marketed_only_to_healthcare_worker=>true, :replaced__medicinal_product_id=>nil, :replacement__medicinal_product_id=>nil, :national_range_of_fees_id=>nil, :national_drug_formulary_inclusion_date=>#<Date: 2010-12-12 ((2455543j,0s,0n),+0s,2299161j)>, :national_drug_formulary_execlusion_date=>nil, :national_healthcare_system_regime_id=>0, :national_healthcare_system_class=>\"A\", :prescribability_type=>\"t\", :medical_prescription_type=>nil, :pharmaceutical_form_id=>nil, :category_id=>15, :price=>0.1844e2, :price_per_uom_unit=>nil, :price_per_uom_value=>nil, :national_rate_unit=>nil, :national_rate_value=>nil, :is_returnable_to_assinde=>nil, :user_spc_document_id=>83379}>=>1, #<CommercialDrug @values={:id=>37062039, :aic_code=>\"037062039\", :ean_code=>nil, :emea_code=>nil, :pharmaceutical_company_code=>nil, :abbreviated_name=>\"METFORALMILLE*60CPR RIV 1000MG\", :abbreviated_brand_name=>\"METFORALMILLE\", :name=>\"METFORALMILLE*60 cpr riv 1.000 mg\", :brand_name=>\"METFORALMILLE\", :manufacturer__pharmaceutical_company_id=>208085262, :authorization_holder__pharmaceutical_company_id=>nil, :atc_class_id=>401809493, :pharmaceutical_product_id=>229501, :authorization_date=>#<Date: 2006-08-02 ((2453950j,0s,0n),+0s,2299161j)>, :marketing_date=>#<Date: 2006-10-13 ((2454022j,0s,0n),+0s,2299161j)>, :suspension_date=>nil, :suspension_reason=>nil, :suspension_source=>nil, :suspension_source_act_nbr=>nil, :suspension_source_act_year=>nil, :remarketing_date=>nil, :remarketing_reason=>nil, :remarketing_source=>nil, :remarketing_source_act_nbr=>nil, :remarketing_source_act_year=>nil, :withdrawal_date=>nil, :withdrawal_reason=>nil, :withdrawal_source=>nil, :withdrawal_source_act_nbr=>nil, :withdrawal_source_act_year=>nil, :is_marketed=>false, :is_marketed_only_to_healthcare_worker=>true, :replaced__medicinal_product_id=>nil, :replacement__medicinal_product_id=>nil, :national_range_of_fees_id=>nil, :national_drug_formulary_inclusion_date=>#<Date: 2006-08-02 ((2453950j,0s,0n),+0s,2299161j)>, :national_drug_formulary_execlusion_date=>nil, :national_healthcare_system_regime_id=>0, :national_healthcare_system_class=>\"A\", :prescribability_type=>nil, :medical_prescription_type=>nil, :pharmaceutical_form_id=>nil, :category_id=>15, :price=>0.549e1, :price_per_uom_unit=>nil, :price_per_uom_value=>nil, :national_rate_unit=>nil, :national_rate_value=>nil, :is_returnable_to_assinde=>nil, :user_spc_document_id=>79896}>=>1, #<CommercialDrug @values={:id=>29111085, :aic_code=>\"029111085\", :ean_code=>nil, :emea_code=>nil, :pharmaceutical_company_code=>nil, :abbreviated_name=>\"CLEXANE T*10FSIR 6000UI 0,6ML\", :abbreviated_brand_name=>\"CLEXANE T\", :name=>\"CLEXANE T*10 fialesiringhe SC 6.000 UI 0,6 ml\", :brand_name=>\"CLEXANE T\", :manufacturer__pharmaceutical_company_id=>631709991, :authorization_holder__pharmaceutical_company_id=>nil, :atc_class_id=>775393565, :pharmaceutical_product_id=>183200, :authorization_date=>#<Date: 2009-02-26 ((2454889j,0s,0n),+0s,2299161j)>, :marketing_date=>#<Date: 2009-05-26 ((2454978j,0s,0n),+0s,2299161j)>, :suspension_date=>nil, :suspension_reason=>nil, :suspension_source=>nil, :suspension_source_act_nbr=>nil, :suspension_source_act_year=>nil, :remarketing_date=>nil, :remarketing_reason=>nil, :remarketing_source=>nil, :remarketing_source_act_nbr=>nil, :remarketing_source_act_year=>nil, :withdrawal_date=>nil, :withdrawal_reason=>nil, :withdrawal_source=>nil, :withdrawal_source_act_nbr=>nil, :withdrawal_source_act_year=>nil, :is_marketed=>false, :is_marketed_only_to_healthcare_worker=>true, :replaced__medicinal_product_id=>nil, :replacement__medicinal_product_id=>nil, :national_range_of_fees_id=>nil, :national_drug_formulary_inclusion_date=>#<Date: 2009-02-26 ((2454889j,0s,0n),+0s,2299161j)>, :national_drug_formulary_execlusion_date=>nil, :national_healthcare_system_regime_id=>0, :national_healthcare_system_class=>\"A\", :prescribability_type=>nil, :medical_prescription_type=>nil, :pharmaceutical_form_id=>nil, :category_id=>15, :price=>0.6702e2, :price_per_uom_unit=>nil, :price_per_uom_value=>nil, :national_rate_unit=>nil, :national_rate_value=>nil, :is_returnable_to_assinde=>nil, :user_spc_document_id=>72695}>=>1, #<CommercialDrug @values={:id=>12611125, :aic_code=>\"012611125\", :ean_code=>nil, :emea_code=>nil, :pharmaceutical_company_code=>nil, :abbreviated_name=>\"TALOFEN*GTT FL 30ML 4G/100ML\", :abbreviated_brand_name=>\"TALOFEN\", :name=>\"TALOFEN*os gtt 30 ml 4 g/100 ml\", :brand_name=>\"TALOFEN\", :manufacturer__pharmaceutical_company_id=>281549909, :authorization_holder__pharmaceutical_company_id=>348703466, :atc_class_id=>5426564466, :pharmaceutical_product_id=>324001, :authorization_date=>#<Date: 1995-07-28 ((2449927j,0s,0n),+0s,2299161j)>, :marketing_date=>nil, :suspension_date=>nil, :suspension_reason=>nil, :suspension_source=>nil, :suspension_source_act_nbr=>nil, :suspension_source_act_year=>nil, :remarketing_date=>nil, :remarketing_reason=>nil, :remarketing_source=>nil, :remarketing_source_act_nbr=>nil, :remarketing_source_act_year=>nil, :withdrawal_date=>nil, :withdrawal_reason=>nil, :withdrawal_source=>nil, :withdrawal_source_act_nbr=>nil, :withdrawal_source_act_year=>nil, :is_marketed=>false, :is_marketed_only_to_healthcare_worker=>true, :replaced__medicinal_product_id=>nil, :replacement__medicinal_product_id=>nil, :national_range_of_fees_id=>nil, :national_drug_formulary_inclusion_date=>nil, :national_drug_formulary_execlusion_date=>nil, :national_healthcare_system_regime_id=>3, :national_healthcare_system_class=>\"C\", :prescribability_type=>nil, :medical_prescription_type=>nil, :pharmaceutical_form_id=>nil, :category_id=>15, :price=>0.1431e2, :price_per_uom_unit=>nil, :price_per_uom_value=>nil, :national_rate_unit=>nil, :national_rate_value=>nil, :is_returnable_to_assinde=>nil, :user_spc_document_id=>83858}>=>1, #<CommercialDrug @values={:id=>28752071, :aic_code=>\"028752071\", :ean_code=>nil, :emea_code=>nil, :pharmaceutical_company_code=>nil, :abbreviated_name=>\"RISPERDAL*60CPR 3MG GIALLE\", :abbreviated_brand_name=>\"RISPERDAL\", :name=>\"RISPERDAL*60 cpr riv 3 mg gialle\", :brand_name=>\"RISPERDAL\", :manufacturer__pharmaceutical_company_id=>219437010, :authorization_holder__pharmaceutical_company_id=>nil, :atc_class_id=>5426581238, :pharmaceutical_product_id=>737600, :authorization_date=>#<Date: 1995-07-15 ((2449914j,0s,0n),+0s,2299161j)>, :marketing_date=>nil, :suspension_date=>nil, :suspension_reason=>nil, :suspension_source=>nil, :suspension_source_act_nbr=>nil, :suspension_source_act_year=>nil, :remarketing_date=>nil, :remarketing_reason=>nil, :remarketing_source=>nil, :remarketing_source_act_nbr=>nil, :remarketing_source_act_year=>nil, :withdrawal_date=>nil, :withdrawal_reason=>nil, :withdrawal_source=>nil, :withdrawal_source_act_nbr=>nil, :withdrawal_source_act_year=>nil, :is_marketed=>false, :is_marketed_only_to_healthcare_worker=>true, :replaced__medicinal_product_id=>nil, :replacement__medicinal_product_id=>nil, :national_range_of_fees_id=>nil, :national_drug_formulary_inclusion_date=>#<Date: 1997-05-17 ((2450586j,0s,0n),+0s,2299161j)>, :national_drug_formulary_execlusion_date=>nil, :national_healthcare_system_regime_id=>0, :national_healthcare_system_class=>\"A\", :prescribability_type=>nil, :medical_prescription_type=>nil, :pharmaceutical_form_id=>nil, :category_id=>15, :price=>0.3937e2, :price_per_uom_unit=>nil, :price_per_uom_value=>nil, :national_rate_unit=>nil, :national_rate_value=>nil, :is_returnable_to_assinde=>nil, :user_spc_document_id=>74779}>=>1, #<CommercialDrug @values={:id=>21455023, :aic_code=>\"021455023\", :ean_code=>nil, :emea_code=>nil, :pharmaceutical_company_code=>nil, :abbreviated_name=>\"FERLIXIT*OS IV 5F 62,5MG 5ML\", :abbreviated_brand_name=>\"FERLIXIT\", :name=>\"FERLIXIT*5 fiale OS EV 62,5 mg 5 ml\", :brand_name=>\"FERLIXIT\", :manufacturer__pharmaceutical_company_id=>631709991, :authorization_holder__pharmaceutical_company_id=>nil, :atc_class_id=>776456442, :pharmaceutical_product_id=>253900, :authorization_date=>#<Date: 1969-08-26 ((2440460j,0s,0n),+0s,2299161j)>, :marketing_date=>nil, :suspension_date=>#<Date: 1995-11-07 ((2450029j,0s,0n),+0s,2299161j)>, :suspension_reason=>\"SOSPENSIONE DELLA REGISTRAZIONE\", :suspension_source=>\"GAZZETTA UFFICIALE DELLA REPUBBLICA ITALIANA\", :suspension_source_act_nbr=>\"266\", :suspension_source_act_year=>\"1995\", :remarketing_date=>#<Date: 1970-01-01 ((2440588j,0s,0n),+0s,2299161j)>, :remarketing_reason=>\"ANNULLO DI REVOCA, DI SOSPENSIONE, DI RITIRO O DI DIVIETO DI UTILIZZO\", :remarketing_source=>\"GAZZETTA UFFICIALE DELLA REPUBBLICA ITALIANA\", :remarketing_source_act_nbr=>\"089\", :remarketing_source_act_year=>\"1996\", :withdrawal_date=>nil, :withdrawal_reason=>nil, :withdrawal_source=>nil, :withdrawal_source_act_nbr=>nil, :withdrawal_source_act_year=>nil, :is_marketed=>false, :is_marketed_only_to_healthcare_worker=>true, :replaced__medicinal_product_id=>nil, :replacement__medicinal_product_id=>nil, :national_range_of_fees_id=>nil, :national_drug_formulary_inclusion_date=>nil, :national_drug_formulary_execlusion_date=>#<Date: 1998-04-06 ((2450910j,0s,0n),+0s,2299161j)>, :national_healthcare_system_regime_id=>32, :national_healthcare_system_class=>\"H\", :prescribability_type=>nil, :medical_prescription_type=>\"P\", :pharmaceutical_form_id=>nil, :category_id=>16, :price=>0.65e1, :price_per_uom_unit=>nil, :price_per_uom_value=>nil, :national_rate_unit=>nil, :national_rate_value=>nil, :is_returnable_to_assinde=>nil, :user_spc_document_id=>78421}>=>1, #<CommercialDrug @values={:id=>38016046, :aic_code=>\"038016046\", :ean_code=>nil, :emea_code=>\"EU/1/07/391/004\", :pharmaceutical_company_code=>nil, :abbreviated_name=>\"REVLIMID*21CPS 25MG\", :abbreviated_brand_name=>\"REVLIMID\", :name=>\"REVLIMID*21 cps 25 mg\", :brand_name=>\"REVLIMID\", :manufacturer__pharmaceutical_company_id=>78777736, :authorization_holder__pharmaceutical_company_id=>nil, :atc_class_id=>4651208815, :pharmaceutical_product_id=>903395, :authorization_date=>#<Date: 2008-03-14 ((2454540j,0s,0n),+0s,2299161j)>, :marketing_date=>#<Date: 2008-03-20 ((2454546j,0s,0n),+0s,2299161j)>, :suspension_date=>nil, :suspension_reason=>nil, :suspension_source=>nil, :suspension_source_act_nbr=>nil, :suspension_source_act_year=>nil, :remarketing_date=>nil, :remarketing_reason=>nil, :remarketing_source=>nil, :remarketing_source_act_nbr=>nil, :remarketing_source_act_year=>nil, :withdrawal_date=>nil, :withdrawal_reason=>nil, :withdrawal_source=>nil, :withdrawal_source_act_nbr=>nil, :withdrawal_source_act_year=>nil, :is_marketed=>true, :is_marketed_only_to_healthcare_worker=>false, :replaced__medicinal_product_id=>nil, :replacement__medicinal_product_id=>nil, :national_range_of_fees_id=>nil, :national_drug_formulary_inclusion_date=>nil, :national_drug_formulary_execlusion_date=>nil, :national_healthcare_system_regime_id=>32, :national_healthcare_system_class=>\"H\", :prescribability_type=>\"B4\", :medical_prescription_type=>\"P\", :pharmaceutical_form_id=>nil, :category_id=>16, :price=>0.960271e4, :price_per_uom_unit=>nil, :price_per_uom_value=>nil, :national_rate_unit=>nil, :national_rate_value=>nil, :is_returnable_to_assinde=>nil, :user_spc_document_id=>65799}>=>1, #<CommercialDrug @values={:id=>27161064, :aic_code=>\"027161064\", :ean_code=>nil, :emea_code=>nil, :pharmaceutical_company_code=>nil, :abbreviated_name=>\"TRIATEC*14CPR DIV 5MG\", :abbreviated_brand_name=>\"TRIATEC\", :name=>\"TRIATEC*14 cpr div 5 mg\", :brand_name=>\"TRIATEC\", :manufacturer__pharmaceutical_company_id=>631709991, :authorization_holder__pharmaceutical_company_id=>nil, :atc_class_id=>1167064853, :pharmaceutical_product_id=>595500, :authorization_date=>#<Date: 1993-10-16 ((2449277j,0s,0n),+0s,2299161j)>, :marketing_date=>nil, :suspension_date=>nil, :suspension_reason=>nil, :suspension_source=>nil, :suspension_source_act_nbr=>nil, :suspension_source_act_year=>nil, :remarketing_date=>nil, :remarketing_reason=>nil, :remarketing_source=>nil, :remarketing_source_act_nbr=>nil, :remarketing_source_act_year=>nil, :withdrawal_date=>nil, :withdrawal_reason=>nil, :withdrawal_source=>nil, :withdrawal_source_act_nbr=>nil, :withdrawal_source_act_year=>nil, :is_marketed=>false, :is_marketed_only_to_healthcare_worker=>true, :replaced__medicinal_product_id=>nil, :replacement__medicinal_product_id=>nil, :national_range_of_fees_id=>nil, :national_drug_formulary_inclusion_date=>#<Date: 1993-10-16 ((2449277j,0s,0n),+0s,2299161j)>, :national_drug_formulary_execlusion_date=>nil, :national_healthcare_system_regime_id=>0, :national_healthcare_system_class=>\"A\", :prescribability_type=>nil, :medical_prescription_type=>nil, :pharmaceutical_form_id=>nil, :category_id=>15, :price=>0.34e1, :price_per_uom_unit=>nil, :price_per_uom_value=>nil, :national_rate_unit=>nil, :national_rate_value=>nil, :is_returnable_to_assinde=>nil, :user_spc_document_id=>81078}>=>1, #<CommercialDrug @values={:id=>34952022, :aic_code=>\"034952022\", :ean_code=>nil, :emea_code=>nil, :pharmaceutical_company_code=>nil, :abbreviated_name=>\"SEQUACOR*28CPR RIV 1,25MG\", :abbreviated_brand_name=>\"SEQUACOR\", :name=>\"SEQUACOR*28 cpr riv 1,25 mg\", :brand_name=>\"SEQUACOR\", :manufacturer__pharmaceutical_company_id=>17327433, :authorization_holder__pharmaceutical_company_id=>627968514, :atc_class_id=>1166002702, :pharmaceutical_product_id=>903323, :authorization_date=>#<Date: 2001-02-20 ((2451961j,0s,0n),+0s,2299161j)>, :marketing_date=>#<Date: 2003-07-14 ((2452835j,0s,0n),+0s,2299161j)>, :suspension_date=>nil, :suspension_reason=>nil, :suspension_source=>nil, :suspension_source_act_nbr=>nil, :suspension_source_act_year=>nil, :remarketing_date=>nil, :remarketing_reason=>nil, :remarketing_source=>nil, :remarketing_source_act_nbr=>nil, :remarketing_source_act_year=>nil, :withdrawal_date=>nil, :withdrawal_reason=>nil, :withdrawal_source=>nil, :withdrawal_source_act_nbr=>nil, :withdrawal_source_act_year=>nil, :is_marketed=>false, :is_marketed_only_to_healthcare_worker=>true, :replaced__medicinal_product_id=>nil, :replacement__medicinal_product_id=>nil, :national_range_of_fees_id=>nil, :national_drug_formulary_inclusion_date=>#<Date: 2001-02-20 ((2451961j,0s,0n),+0s,2299161j)>, :national_drug_formulary_execlusion_date=>nil, :national_healthcare_system_regime_id=>0, :national_healthcare_system_class=>\"A\", :prescribability_type=>nil, :medical_prescription_type=>nil, :pharmaceutical_form_id=>nil, :category_id=>15, :price=>0.457e1, :price_per_uom_unit=>nil, :price_per_uom_value=>nil, :national_rate_unit=>nil, :national_rate_value=>nil, :is_returnable_to_assinde=>nil, :user_spc_document_id=>67949}>=>1, #<CommercialDrug @values={:id=>33006406, :aic_code=>\"033006406\", :ean_code=>nil, :emea_code=>nil, :pharmaceutical_company_code=>nil, :abbreviated_name=>\"TOTALIP*30CPR MAST 10MG\", :abbreviated_brand_name=>\"TOTALIP\", :name=>\"TOTALIP*30 cpr mast 10 mg\", :brand_name=>\"TOTALIP\", :manufacturer__pharmaceutical_company_id=>208085262, :authorization_holder__pharmaceutical_company_id=>nil, :atc_class_id=>1176630791, :pharmaceutical_product_id=>900946, :authorization_date=>#<Date: 2011-03-31 ((2455652j,0s,0n),+0s,2299161j)>, :marketing_date=>#<Date: 2012-02-13 ((2455971j,0s,0n),+0s,2299161j)>, :suspension_date=>nil, :suspension_reason=>nil, :suspension_source=>nil, :suspension_source_act_nbr=>nil, :suspension_source_act_year=>nil, :remarketing_date=>nil, :remarketing_reason=>nil, :remarketing_source=>nil, :remarketing_source_act_nbr=>nil, :remarketing_source_act_year=>nil, :withdrawal_date=>nil, :withdrawal_reason=>nil, :withdrawal_source=>nil, :withdrawal_source_act_nbr=>nil, :withdrawal_source_act_year=>nil, :is_marketed=>false, :is_marketed_only_to_healthcare_worker=>true, :replaced__medicinal_product_id=>nil, :replacement__medicinal_product_id=>nil, :national_range_of_fees_id=>nil, :national_drug_formulary_inclusion_date=>nil, :national_drug_formulary_execlusion_date=>nil, :national_healthcare_system_regime_id=>3, :national_healthcare_system_class=>\"C\", :prescribability_type=>nil, :medical_prescription_type=>nil, :pharmaceutical_form_id=>nil, :category_id=>15, :price=>0.37e2, :price_per_uom_unit=>nil, :price_per_uom_value=>nil, :national_rate_unit=>nil, :national_rate_value=>nil, :is_returnable_to_assinde=>nil, :user_spc_document_id=>nil}>=>1, #<CommercialDrug @values={:id=>21922024, :aic_code=>\"021922024\", :ean_code=>nil, :emea_code=>nil, :pharmaceutical_company_code=>nil, :abbreviated_name=>\"FERROGRAD*40CPR 105MG RP\", :abbreviated_brand_name=>\"FERROGRAD\", :name=>\"FERRO-GRAD*40 cpr 105 mg rilascio prolungato\", :brand_name=>\"FERRO-GRAD\", :manufacturer__pharmaceutical_company_id=>485521326, :authorization_holder__pharmaceutical_company_id=>nil, :atc_class_id=>776455720, :pharmaceutical_product_id=>151700, :authorization_date=>#<Date: 1973-10-11 ((2441967j,0s,0n),+0s,2299161j)>, :marketing_date=>nil, :suspension_date=>nil, :suspension_reason=>nil, :suspension_source=>nil, :suspension_source_act_nbr=>nil, :suspension_source_act_year=>nil, :remarketing_date=>nil, :remarketing_reason=>nil, :remarketing_source=>nil, :remarketing_source_act_nbr=>nil, :remarketing_source_act_year=>nil, :withdrawal_date=>nil, :withdrawal_reason=>nil, :withdrawal_source=>nil, :withdrawal_source_act_nbr=>nil, :withdrawal_source_act_year=>nil, :is_marketed=>false, :is_marketed_only_to_healthcare_worker=>true, :replaced__medicinal_product_id=>nil, :replacement__medicinal_product_id=>nil, :national_range_of_fees_id=>nil, :national_drug_formulary_inclusion_date=>#<Date: 1985-03-24 ((2446149j,0s,0n),+0s,2299161j)>, :national_drug_formulary_execlusion_date=>nil, :national_healthcare_system_regime_id=>0, :national_healthcare_system_class=>\"A\", :prescribability_type=>nil, :medical_prescription_type=>nil, :pharmaceutical_form_id=>nil, :category_id=>15, :price=>0.649e1, :price_per_uom_unit=>nil, :price_per_uom_value=>nil, :national_rate_unit=>nil, :national_rate_value=>nil, :is_returnable_to_assinde=>nil, :user_spc_document_id=>78438}>=>1, #<CommercialDrug @values={:id=>23075029, :aic_code=>\"023075029\", :ean_code=>nil, :emea_code=>nil, :pharmaceutical_company_code=>nil, :abbreviated_name=>\"ASCRIPTIN*20CPR DIV 300MG\", :abbreviated_brand_name=>\"ASCRIPTIN\", :name=>\"ASCRIPTIN*20 cpr div 300 mg\", :brand_name=>\"ASCRIPTIN\", :manufacturer__pharmaceutical_company_id=>631709991, :authorization_holder__pharmaceutical_company_id=>nil, :atc_class_id=>775394295, :pharmaceutical_product_id=>506800, :authorization_date=>#<Date: 1975-04-16 ((2442519j,0s,0n),+0s,2299161j)>, :marketing_date=>nil, :suspension_date=>nil, :suspension_reason=>nil, :suspension_source=>nil, :suspension_source_act_nbr=>nil, :suspension_source_act_year=>nil, :remarketing_date=>nil, :remarketing_reason=>nil, :remarketing_source=>nil, :remarketing_source_act_nbr=>nil, :remarketing_source_act_year=>nil, :withdrawal_date=>nil, :withdrawal_reason=>nil, :withdrawal_source=>nil, :withdrawal_source_act_nbr=>nil, :withdrawal_source_act_year=>nil, :is_marketed=>false, :is_marketed_only_to_healthcare_worker=>true, :replaced__medicinal_product_id=>nil, :replacement__medicinal_product_id=>nil, :national_range_of_fees_id=>nil, :national_drug_formulary_inclusion_date=>#<Date: 1994-03-08 ((2449420j,0s,0n),+0s,2299161j)>, :national_drug_formulary_execlusion_date=>nil, :national_healthcare_system_regime_id=>0, :national_healthcare_system_class=>\"A\", :prescribability_type=>nil, :medical_prescription_type=>nil, :pharmaceutical_form_id=>nil, :category_id=>15, :price=>0.232e1, :price_per_uom_unit=>nil, :price_per_uom_value=>nil, :national_rate_unit=>nil, :national_rate_value=>nil, :is_returnable_to_assinde=>nil, :user_spc_document_id=>81560}>=>1, #<CommercialDrug @values={:id=>35885058, :aic_code=>\"035885058\", :ean_code=>nil, :emea_code=>nil, :pharmaceutical_company_code=>nil, :abbreviated_name=>\"CRESTOR*28CPR RIV 10MG\", :abbreviated_brand_name=>\"CRESTOR\", :name=>\"CRESTOR*28 cpr riv 10 mg\", :brand_name=>\"CRESTOR\", :manufacturer__pharmaceutical_company_id=>7807407, :authorization_holder__pharmaceutical_company_id=>nil, :atc_class_id=>1176630793, :pharmaceutical_product_id=>902955, :authorization_date=>#<Date: 2004-03-06 ((2453071j,0s,0n),+0s,2299161j)>, :marketing_date=>#<Date: 2004-03-25 ((2453090j,0s,0n),+0s,2299161j)>, :suspension_date=>nil, :suspension_reason=>nil, :suspension_source=>nil, :suspension_source_act_nbr=>nil, :suspension_source_act_year=>nil, :remarketing_date=>nil, :remarketing_reason=>nil, :remarketing_source=>nil, :remarketing_source_act_nbr=>nil, :remarketing_source_act_year=>nil, :withdrawal_date=>nil, :withdrawal_reason=>nil, :withdrawal_source=>nil, :withdrawal_source_act_nbr=>nil, :withdrawal_source_act_year=>nil, :is_marketed=>false, :is_marketed_only_to_healthcare_worker=>true, :replaced__medicinal_product_id=>nil, :replacement__medicinal_product_id=>nil, :national_range_of_fees_id=>nil, :national_drug_formulary_inclusion_date=>#<Date: 2004-03-06 ((2453071j,0s,0n),+0s,2299161j)>, :national_drug_formulary_execlusion_date=>nil, :national_healthcare_system_regime_id=>5, :national_healthcare_system_class=>\"A\", :prescribability_type=>nil, :medical_prescription_type=>nil, :pharmaceutical_form_id=>nil, :category_id=>15, :price=>0.2735e2, :price_per_uom_unit=>nil, :price_per_uom_value=>nil, :national_rate_unit=>nil, :national_rate_value=>nil, :is_returnable_to_assinde=>nil, :user_spc_document_id=>83096}>=>1, #<CommercialDrug @values={:id=>34954014, :aic_code=>\"034954014\", :ean_code=>nil, :emea_code=>nil, :pharmaceutical_company_code=>\"11036000     \", :abbreviated_name=>\"CARDICOR*28CPR RIV 1,25MG\", :abbreviated_brand_name=>\"CARDICOR\", :name=>\"CARDICOR*28 cpr riv 1,25 mg\", :brand_name=>\"CARDICOR\", :manufacturer__pharmaceutical_company_id=>360204435, :authorization_holder__pharmaceutical_company_id=>nil, :atc_class_id=>1166002702, :pharmaceutical_product_id=>903323, :authorization_date=>#<Date: 2002-05-03 ((2452398j,0s,0n),+0s,2299161j)>, :marketing_date=>#<Date: 2004-03-23 ((2453088j,0s,0n),+0s,2299161j)>, :suspension_date=>nil, :suspension_reason=>nil, :suspension_source=>nil, :suspension_source_act_nbr=>nil, :suspension_source_act_year=>nil, :remarketing_date=>nil, :remarketing_reason=>nil, :remarketing_source=>nil, :remarketing_source_act_nbr=>nil, :remarketing_source_act_year=>nil, :withdrawal_date=>nil, :withdrawal_reason=>nil, :withdrawal_source=>nil, :withdrawal_source_act_nbr=>nil, :withdrawal_source_act_year=>nil, :is_marketed=>false, :is_marketed_only_to_healthcare_worker=>true, :replaced__medicinal_product_id=>nil, :replacement__medicinal_product_id=>nil, :national_range_of_fees_id=>nil, :national_drug_formulary_inclusion_date=>#<Date: 2002-05-03 ((2452398j,0s,0n),+0s,2299161j)>, :national_drug_formulary_execlusion_date=>nil, :national_healthcare_system_regime_id=>0, :national_healthcare_system_class=>\"A\", :prescribability_type=>nil, :medical_prescription_type=>nil, :pharmaceutical_form_id=>nil, :category_id=>15, :price=>0.455e1, :price_per_uom_unit=>nil, :price_per_uom_value=>nil, :national_rate_unit=>nil, :national_rate_value=>nil, :is_returnable_to_assinde=>nil, :user_spc_document_id=>83196}>=>1, #<CommercialDrug @values={:id=>11987029, :aic_code=>\"011987029\", :ean_code=>nil, :emea_code=>nil, :pharmaceutical_company_code=>nil, :abbreviated_name=>\"LYSEEN*INIET 5F 1ML 2MG/ML\", :abbreviated_brand_name=>\"LYSEEN\", :name=>\"LYSEEN*5 fiale 2 mg 1 ml\", :brand_name=>\"LYSEEN\", :manufacturer__pharmaceutical_company_id=>155660776, :authorization_holder__pharmaceutical_company_id=>nil, :atc_class_id=>5038117545, :pharmaceutical_product_id=>317502, :authorization_date=>#<Date: 1961-10-01 ((2437574j,0s,0n),+0s,2299161j)>, :marketing_date=>nil, :suspension_date=>nil, :suspension_reason=>nil, :suspension_source=>nil, :suspension_source_act_nbr=>nil, :suspension_source_act_year=>nil, :remarketing_date=>nil, :remarketing_reason=>nil, :remarketing_source=>nil, :remarketing_source_act_nbr=>nil, :remarketing_source_act_year=>nil, :withdrawal_date=>nil, :withdrawal_reason=>nil, :withdrawal_source=>nil, :withdrawal_source_act_nbr=>nil, :withdrawal_source_act_year=>nil, :is_marketed=>false, :is_marketed_only_to_healthcare_worker=>true, :replaced__medicinal_product_id=>nil, :replacement__medicinal_product_id=>nil, :national_range_of_fees_id=>nil, :national_drug_formulary_inclusion_date=>nil, :national_drug_formulary_execlusion_date=>#<Date: 1993-12-31 ((2449353j,0s,0n),+0s,2299161j)>, :national_healthcare_system_regime_id=>3, :national_healthcare_system_class=>\"C\", :prescribability_type=>nil, :medical_prescription_type=>nil, :pharmaceutical_form_id=>nil, :category_id=>15, :price=>0.1169e2, :price_per_uom_unit=>nil, :price_per_uom_value=>nil, :national_rate_unit=>nil, :national_rate_value=>nil, :is_returnable_to_assinde=>nil, :user_spc_document_id=>82237}>=>1, #<CommercialDrug @values={:id=>19888015, :aic_code=>\"019888015\", :ean_code=>nil, :emea_code=>nil, :pharmaceutical_company_code=>nil, :abbreviated_name=>\"METHOTREXATE*25CPR 2,5MG\", :abbreviated_brand_name=>\"METHOTREXATE\", :name=>\"METHOTREXATE*25 cpr 2,5 mg\", :brand_name=>\"METHOTREXATE\", :manufacturer__pharmaceutical_company_id=>352399766, :authorization_holder__pharmaceutical_company_id=>nil, :atc_class_id=>4651208814, :pharmaceutical_product_id=>236001, :authorization_date=>#<Date: 1962-06-30 ((2437846j,0s,0n),+0s,2299161j)>, :marketing_date=>nil, :suspension_date=>nil, :suspension_reason=>nil, :suspension_source=>nil, :suspension_source_act_nbr=>nil, :suspension_source_act_year=>nil, :remarketing_date=>nil, :remarketing_reason=>nil, :remarketing_source=>nil, :remarketing_source_act_nbr=>nil, :remarketing_source_act_year=>nil, :withdrawal_date=>nil, :withdrawal_reason=>nil, :withdrawal_source=>nil, :withdrawal_source_act_nbr=>nil, :withdrawal_source_act_year=>nil, :is_marketed=>false, :is_marketed_only_to_healthcare_worker=>true, :replaced__medicinal_product_id=>nil, :replacement__medicinal_product_id=>nil, :national_range_of_fees_id=>nil, :national_drug_formulary_inclusion_date=>#<Date: 1980-06-15 ((2444406j,0s,0n),+0s,2299161j)>, :national_drug_formulary_execlusion_date=>nil, :national_healthcare_system_regime_id=>0, :national_healthcare_system_class=>\"A\", :prescribability_type=>nil, :medical_prescription_type=>nil, :pharmaceutical_form_id=>nil, :category_id=>15, :price=>0.499e1, :price_per_uom_unit=>nil, :price_per_uom_value=>nil, :national_rate_unit=>nil, :national_rate_value=>nil, :is_returnable_to_assinde=>nil, :user_spc_document_id=>60957}>=>1, #<CommercialDrug @values={:id=>20766010, :aic_code=>\"020766010\", :ean_code=>nil, :emea_code=>nil, :pharmaceutical_company_code=>nil, :abbreviated_name=>\"PLASIL*INIET 5F 2ML 10MG/2ML\", :abbreviated_brand_name=>\"PLASIL\", :name=>\"PLASIL*10 mg/2 ml soluzione iniettabile 5 fiale 2 ml\", :brand_name=>\"PLASIL\", :manufacturer__pharmaceutical_company_id=>631709991, :authorization_holder__pharmaceutical_company_id=>nil, :atc_class_id=>389133640, :pharmaceutical_product_id=>904518, :authorization_date=>#<Date: 1967-03-01 ((2439551j,0s,0n),+0s,2299161j)>, :marketing_date=>nil, :suspension_date=>nil, :suspension_reason=>nil, :suspension_source=>nil, :suspension_source_act_nbr=>nil, :suspension_source_act_year=>nil, :remarketing_date=>nil, :remarketing_reason=>nil, :remarketing_source=>nil, :remarketing_source_act_nbr=>nil, :remarketing_source_act_year=>nil, :withdrawal_date=>nil, :withdrawal_reason=>nil, :withdrawal_source=>nil, :withdrawal_source_act_nbr=>nil, :withdrawal_source_act_year=>nil, :is_marketed=>false, :is_marketed_only_to_healthcare_worker=>true, :replaced__medicinal_product_id=>nil, :replacement__medicinal_product_id=>nil, :national_range_of_fees_id=>nil, :national_drug_formulary_inclusion_date=>#<Date: 1980-06-15 ((2444406j,0s,0n),+0s,2299161j)>, :national_drug_formulary_execlusion_date=>nil, :national_healthcare_system_regime_id=>0, :national_healthcare_system_class=>\"A\", :prescribability_type=>nil, :medical_prescription_type=>nil, :pharmaceutical_form_id=>nil, :category_id=>15, :price=>0.189e1, :price_per_uom_unit=>nil, :price_per_uom_value=>nil, :national_rate_unit=>nil, :national_rate_value=>nil, :is_returnable_to_assinde=>nil, :user_spc_document_id=>81950}>=>1, #<CommercialDrug @values={:id=>38843025, :aic_code=>\"038843025\", :ean_code=>nil, :emea_code=>nil, :pharmaceutical_company_code=>nil, :abbreviated_name=>\"GEMCITABINA TEVA*INF FL 1G\", :abbreviated_brand_name=>\"GEMCITABINA TEVA\", :name=>\"GEMCITABINA (TEVA)*1 flacone EV 1 g polv\", :brand_name=>\"GEMCITABINA (TEVA)\", :manufacturer__pharmaceutical_company_id=>485774591, :authorization_holder__pharmaceutical_company_id=>nil, :atc_class_id=>4649618867, :pharmaceutical_product_id=>900759, :authorization_date=>#<Date: 2009-05-27 ((2454979j,0s,0n),+0s,2299161j)>, :marketing_date=>#<Date: 2009-05-28 ((2454980j,0s,0n),+0s,2299161j)>, :suspension_date=>nil, :suspension_reason=>nil, :suspension_source=>nil, :suspension_source_act_nbr=>nil, :suspension_source_act_year=>nil, :remarketing_date=>nil, :remarketing_reason=>nil, :remarketing_source=>nil, :remarketing_source_act_nbr=>nil, :remarketing_source_act_year=>nil, :withdrawal_date=>nil, :withdrawal_reason=>nil, :withdrawal_source=>nil, :withdrawal_source_act_nbr=>nil, :withdrawal_source_act_year=>nil, :is_marketed=>true, :is_marketed_only_to_healthcare_worker=>false, :replaced__medicinal_product_id=>nil, :replacement__medicinal_product_id=>nil, :national_range_of_fees_id=>nil, :national_drug_formulary_inclusion_date=>nil, :national_drug_formulary_execlusion_date=>nil, :national_healthcare_system_regime_id=>3, :national_healthcare_system_class=>\"H\", :prescribability_type=>nil, :medical_prescription_type=>nil, :pharmaceutical_form_id=>nil, :category_id=>17, :price=>0.11322e3, :price_per_uom_unit=>nil, :price_per_uom_value=>nil, :national_rate_unit=>nil, :national_rate_value=>nil, :is_returnable_to_assinde=>nil, :user_spc_document_id=>67455}>=>1, #<CommercialDrug @values={:id=>27980010, :aic_code=>\"027980010\", :ean_code=>nil, :emea_code=>nil, :pharmaceutical_company_code=>nil, :abbreviated_name=>\"ADALAT CRONO*14CPR 30MG RM\", :abbreviated_brand_name=>\"ADALAT CRONO\", :name=>\"ADALAT CRONO*14 cpr 30 mg rilascio modificato\", :brand_name=>\"ADALAT CRONO\", :manufacturer__pharmaceutical_company_id=>9786981, :authorization_holder__pharmaceutical_company_id=>nil, :atc_class_id=>1166572778, :pharmaceutical_product_id=>263200, :authorization_date=>#<Date: 1992-03-13 ((2448695j,0s,0n),+0s,2299161j)>, :marketing_date=>nil, :suspension_date=>nil, :suspension_reason=>nil, :suspension_source=>nil, :suspension_source_act_nbr=>nil, :suspension_source_act_year=>nil, :remarketing_date=>nil, :remarketing_reason=>nil, :remarketing_source=>nil, :remarketing_source_act_nbr=>nil, :remarketing_source_act_year=>nil, :withdrawal_date=>nil, :withdrawal_reason=>nil, :withdrawal_source=>nil, :withdrawal_source_act_nbr=>nil, :withdrawal_source_act_year=>nil, :is_marketed=>false, :is_marketed_only_to_healthcare_worker=>true, :replaced__medicinal_product_id=>nil, :replacement__medicinal_product_id=>nil, :national_range_of_fees_id=>nil, :national_drug_formulary_inclusion_date=>#<Date: 1992-05-01 ((2448744j,0s,0n),+0s,2299161j)>, :national_drug_formulary_execlusion_date=>nil, :national_healthcare_system_regime_id=>0, :national_healthcare_system_class=>\"A\", :prescribability_type=>nil, :medical_prescription_type=>nil, :pharmaceutical_form_id=>nil, :category_id=>15, :price=>0.677e1, :price_per_uom_unit=>nil, :price_per_uom_value=>nil, :national_rate_unit=>nil, :national_rate_value=>nil, :is_returnable_to_assinde=>nil, :user_spc_document_id=>82829}>=>1}"
      ]
     },
     "execution_count": 48,
     "metadata": {},
     "output_type": "execute_result"
    }
   ],
   "source": [
    "Adr[10030109].drug_count.each{|cdrug, count| puts [count,cdrug.atc_code,cdrug.drug.name, cdrug.name]  }"
   ]
  },
  {
   "cell_type": "markdown",
   "metadata": {},
   "source": [
    "## PRR"
   ]
  },
  {
   "cell_type": "code",
   "execution_count": null,
   "metadata": {},
   "outputs": [],
   "source": []
  },
  {
   "cell_type": "code",
   "execution_count": null,
   "metadata": {},
   "outputs": [],
   "source": [
    "r = Adr[10030109].drug_count start_date: Date.today - (365*10),  atc_prefix: \"B01AA03\"\n",
    "\n",
    "r.to_a\n",
    ".map{|k,v| [ {name: k[0].name, atc: k[1]} , v ] }.to_h\n",
    ".each{|k,v| puts \"#{k} => #{v}\"} \n",
    "nil"
   ]
  },
  {
   "cell_type": "code",
   "execution_count": null,
   "metadata": {},
   "outputs": [],
   "source": [
    "{:name=>\"ENOXAPARINA SODICA\", :atc=>\"B01AB05\"} => 3\n",
    "{:name=>\"ATORVASTATINA CALCIO TRIIDRATO\", :atc=>\"C10AA05\"} => 2\n",
    "{:name=>\"SITAGLIPTIN FOSFATO MONOIDRATO/METFORMINA CLORIDRATO\", :atc=>\"A10BD07\"} => 1\n",
    "{:name=>\"ACIDO ACETILSALICILICO\", :atc=>\"B01AC06\"} => 1\n",
    "{:name=>\"WARFARIN SODICO\", :atc=>\"B01AA03\"} => 4\n",
    "{:name=>\"FONDAPARINUX SODICO\", :atc=>\"B01AX05\"} => 1\n",
    "{:name=>\"RAMIPRIL/IDROCLOROTIAZIDE\", :atc=>\"C09BA05\"} => 1\n",
    "{:name=>\"OXICODONE CLORIDRATO/NALOXONE CLORIDRATO DIIDRATO\", :atc=>\"N02AA55\"} => 1\n",
    "{:name=>\"AMLODIPINA BESILATO\", :atc=>\"C08CA01\"} => 1\n",
    "{:name=>\"IRBESARTAN/IDROCLOROTIAZIDE\", :atc=>\"C09DA04\"} => 1\n",
    "{:name=>\"METFORMINA CLORIDRATO\", :atc=>\"A10BA02\"} => 1\n",
    "{:name=>\"RISPERIDONE\", :atc=>\"N05AX08\"} => 1\n",
    "{:name=>\"PROMAZINA CLORIDRATO\", :atc=>\"N05AA03\"} => 1\n",
    "{:name=>\"METOTREXATO SODICO\", :atc=>\"L04AX03\"} => 1\n",
    "{:name=>\"GEMCITABINA CLORIDRATO\", :atc=>\"L01BC05\"} => 1\n",
    "{:name=>\"METOCLOPRAMIDE MONOCLORIDRATO MONOIDRATO\", :atc=>\"A03FA01\"} => 1\n",
    "{:name=>\"LENALIDOMIDE\", :atc=>\"L04AX04\"} => 1\n",
    "{:name=>\"BISOPROLOLO EMIFUMARATO\", :atc=>\"C07AB07\"} => 2\n",
    "{:name=>\"ROSUVASTATINA SALE DI CALCIO\", :atc=>\"C10AA07\"} => 1\n",
    "{:name=>\"RAMIPRIL\", :atc=>\"C09AA05\"} => 1\n",
    "{:name=>\"ACIDO ACETILSALICILICO/MAGNESIO IDROSSIDO/ALGELDRATO\", :atc=>\"B01AC06\"} => 1\n",
    "{:name=>\"FERROSO SOLFATO\", :atc=>\"B03AA07\"} => 1\n",
    "{:name=>\"SODIO FERRIGLUCONATO\", :atc=>\"B03AB\"} => 1\n",
    "{:name=>\"NIFEDIPINA\", :atc=>\"C08CA05\"} => 1\n",
    "{:name=>\"PRIDINOLO MESILATO\", :atc=>\"M03BX03\"} => 1"
   ]
  },
  {
   "cell_type": "markdown",
   "metadata": {},
   "source": [
    "## Query example"
   ]
  },
  {
   "cell_type": "code",
   "execution_count": null,
   "metadata": {},
   "outputs": [],
   "source": [
    "Treatment.all\n",
    ".select{|t| not t.mpd_medicinal_product_id.nil? }\n",
    ".group_by{|t| t.mpd_medicinal_product_id}\n",
    ".to_a.map{|k, items| [k, items.length] }\n",
    ".select{|_, count| count >= 1000 }"
   ]
  },
  {
   "cell_type": "code",
   "execution_count": null,
   "metadata": {},
   "outputs": [],
   "source": [
    "[[12,12], [12,10], [23, 56],[14, 55], [23, 23], [23,78]]\n",
    ".group_by{|item| item[0]}\n",
    ".to_a.map{|k, items| [k, items.length] }"
   ]
  },
  {
   "cell_type": "code",
   "execution_count": null,
   "metadata": {},
   "outputs": [],
   "source": [
    "a = [[12, [2, 67]], [23, 3], [14, 1]]"
   ]
  },
  {
   "cell_type": "code",
   "execution_count": null,
   "metadata": {},
   "outputs": [],
   "source": [
    "a.flatten"
   ]
  },
  {
   "cell_type": "code",
   "execution_count": null,
   "metadata": {},
   "outputs": [],
   "source": [
    "a.flatten(1)"
   ]
  },
  {
   "cell_type": "code",
   "execution_count": null,
   "metadata": {},
   "outputs": [],
   "source": [
    "{a: 23, b:67 }.to_a.to_h"
   ]
  },
  {
   "cell_type": "code",
   "execution_count": null,
   "metadata": {},
   "outputs": [],
   "source": []
  }
 ],
 "metadata": {
  "kernelspec": {
   "display_name": "Ruby 2.5.1",
   "language": "ruby",
   "name": "ruby"
  },
  "language_info": {
   "file_extension": ".rb",
   "mimetype": "application/x-ruby",
   "name": "ruby",
   "version": "2.5.1"
  }
 },
 "nbformat": 4,
 "nbformat_minor": 4
}
