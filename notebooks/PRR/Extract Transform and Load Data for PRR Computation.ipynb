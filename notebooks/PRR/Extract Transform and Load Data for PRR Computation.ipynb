{
 "cells": [
  {
   "cell_type": "code",
   "execution_count": 1,
   "metadata": {},
   "outputs": [
    {
     "data": {
      "text/plain": [
       "true"
      ]
     },
     "execution_count": 1,
     "metadata": {},
     "output_type": "execute_result"
    }
   ],
   "source": [
    "require 'sequel'\n",
    "DB = Sequel.connect(adapter: 'postgres', \n",
    "                    host: 'postgres', \n",
    "                    user: 'postgres',\n",
    "                    password: 'mysecretpassword',\n",
    "                    database: 'adr',\n",
    "                    search_path: ['mpd', 'meddra','reports'])\n",
    "load 'etl_prr/source_model.rb'\n",
    "load 'etl_prr/extensions.rb'\n",
    "load 'etl_prr/transformations.rb'"
   ]
  },
  {
   "cell_type": "markdown",
   "metadata": {},
   "source": [
    "## Target Model"
   ]
  },
  {
   "cell_type": "code",
   "execution_count": 2,
   "metadata": {},
   "outputs": [
    {
     "data": {
      "text/plain": [
       "#<Sequel::Postgres::Database: {:adapter=>\"postgres\", :host=>\"postgres\", :user=>\"postgres\", :password=>\"mysecretpassword\", :database=>\"prr\"}>"
      ]
     },
     "execution_count": 2,
     "metadata": {},
     "output_type": "execute_result"
    }
   ],
   "source": [
    "TB = Sequel.connect(adapter: 'postgres', \n",
    "                    host: 'postgres', \n",
    "                    user: 'postgres',\n",
    "                    password: 'mysecretpassword',\n",
    "                    database: 'prr',\n",
    "                    )"
   ]
  },
  {
   "cell_type": "markdown",
   "metadata": {},
   "source": [
    "## Relational layer"
   ]
  },
  {
   "cell_type": "code",
   "execution_count": 3,
   "metadata": {},
   "outputs": [],
   "source": [
    "def create_treports_table!(db_connection)\n",
    "  db_connection.create_table!(:treports) do\n",
    "    primary_key :id\n",
    "    Integer :source_id, unique: true\n",
    "    Date :vt\n",
    "  end  \n",
    "end \n",
    "\n",
    "def create_tdrugs_table!(db_connection)\n",
    "  db_connection.create_table!(:tdrugs) do\n",
    "    primary_key :id\n",
    "    Integer :treport_id\n",
    "    String  :name\n",
    "    String  :brand_name\n",
    "    String  :atc\n",
    "  end  \n",
    "end \n",
    "\n",
    "def create_tadrs_table!(db_connection)\n",
    "  db_connection.create_table!(:tadrs) do\n",
    "    primary_key :id\n",
    "    Integer :treport_id\n",
    "    String :name\n",
    "    String :preferred_name\n",
    "    String :soc\n",
    "  end  \n",
    "end  \n",
    "\n",
    "create_treports_table!(TB)\n",
    "create_tdrugs_table!(TB)\n",
    "create_tadrs_table!(TB)\n"
   ]
  },
  {
   "cell_type": "markdown",
   "metadata": {},
   "source": [
    "## Model layer"
   ]
  },
  {
   "cell_type": "code",
   "execution_count": 4,
   "metadata": {},
   "outputs": [
    {
     "data": {
      "text/plain": [
       ":tadrs"
      ]
     },
     "execution_count": 4,
     "metadata": {},
     "output_type": "execute_result"
    }
   ],
   "source": [
    "Object.send(:remove_const, :Tdrug) if defined?(Tdrug)\n",
    "Object.send(:remove_const, :Treport) if defined?(Treport)\n",
    "Object.send(:remove_const, :Tadr) if defined?(Tadr)\n",
    "\n",
    "class Treport < Sequel::Model(TB)\n",
    "  one_to_many :tdrugs\n",
    "  one_to_many :tadrs \n",
    "  one_to_one :source, class: Report, primary_key: :source_id, key: :id \n",
    "end \n",
    "\n",
    "class Tadr < Sequel::Model(TB)\n",
    "  one_to_one :treport, primary_key: :treport_id, key: :id\n",
    "\n",
    "  def tdrugs\n",
    "    treport.tdrugs\n",
    "  end\n",
    "    \n",
    "end \n",
    "\n",
    "class Tdrug < Sequel::Model(TB)\n",
    "  one_to_one :treport, primary_key: :treport_id, key: :id\n",
    "  \n",
    "  def tadrs\n",
    "    treport.tadrs\n",
    "  end\n",
    "  \n",
    "end "
   ]
  },
  {
   "cell_type": "code",
   "execution_count": 5,
   "metadata": {},
   "outputs": [
    {
     "data": {
      "text/plain": [
       ":prr_transform_batch_load"
      ]
     },
     "execution_count": 5,
     "metadata": {},
     "output_type": "execute_result"
    }
   ],
   "source": [
    "def prr_transform_batch_load\n",
    "  \n",
    "  Report.all.select{|report|  \n",
    "    report.commercial_drug_administrations(has_atc: true).length >= 1 &&\n",
    "    report.adrs.length >= 1 &&\n",
    "    !report.fill_date.nil?\n",
    "  }.each do |report| \n",
    "    \n",
    "    treport = Treport.create(vt: report.fill_date, source_id: report.id) # create treport\n",
    "    \n",
    "    report.commercial_drug_administrations.each do |da| # create treport.tdrugs\n",
    "      treport.add_tdrug(\n",
    "        name: da.commercial_drug.drug.name, \n",
    "        brand_name: da.commercial_drug.name , \n",
    "        atc: da.commercial_drug.atc_code)\n",
    "    end\n",
    "    \n",
    "    report.adrs.each do |adr| # create treport.tadrs\n",
    "      treport.add_tadr(\n",
    "      name: adr.name_en, \n",
    "      preferred_name: adr.adr_preferred_term.name_en , \n",
    "      soc: adr.adr_preferred_term.soc.name_en)\n",
    "    end \n",
    "    \n",
    "  end  \n",
    "  \n",
    "end  "
   ]
  },
  {
   "cell_type": "code",
   "execution_count": 6,
   "metadata": {},
   "outputs": [
    {
     "data": {
      "text/plain": [
       ":prr_update_data"
      ]
     },
     "execution_count": 6,
     "metadata": {},
     "output_type": "execute_result"
    }
   ],
   "source": [
    "def prr_update_data\n",
    "  \n",
    "  sources = Treport.all.to_a.map{|treport| treport.source}\n",
    "  \n",
    "  Report.all.each do |report| \n",
    "    \n",
    "    if (report.commercial_drug_administrations(has_atc: true).length >= 1 &&\n",
    "        report.adrs.length >= 1 &&\n",
    "        !report.fill_date.nil?  &&\n",
    "        !sources.include?(report)) then\n",
    "    \n",
    "        puts \"INSERTED report #{report.id}\"  \n",
    "          \n",
    "        treport = Treport.create(vt: report.fill_date)\n",
    "        treport.source_id = report.id\n",
    "        treport.save  \n",
    "        \n",
    "        report.commercial_drug_administrations.each do |da| # create treport.tdrugs\n",
    "          treport.add_tdrug(\n",
    "            name: da.commercial_drug.drug.name, \n",
    "            brand_name: da.commercial_drug.name , \n",
    "            atc: da.commercial_drug.atc_code)\n",
    "        end\n",
    "        \n",
    "        report.adrs.each do |adr| # create treport.tadrs\n",
    "          treport.add_tadr(\n",
    "          name: adr.name_en, \n",
    "          preferred_name: adr.adr_preferred_term.name_en , \n",
    "          soc: adr.adr_preferred_term.soc.name_en)\n",
    "        end \n",
    "        \n",
    "    end\n",
    "    \n",
    "  end  \n",
    "  \n",
    "end"
   ]
  },
  {
   "cell_type": "code",
   "execution_count": null,
   "metadata": {},
   "outputs": [
    {
     "name": "stdout",
     "output_type": "stream",
     "text": [
      "INSERTED report 214813\n",
      "INSERTED report 44434\n",
      "INSERTED report 332173\n",
      "INSERTED report 248516\n",
      "INSERTED report 344293\n",
      "INSERTED report 258213\n",
      "INSERTED report 35113\n",
      "INSERTED report 346813\n",
      "INSERTED report 347604\n",
      "INSERTED report 35172\n",
      "INSERTED report 27992\n",
      "INSERTED report 74797\n",
      "INSERTED report 28029\n",
      "INSERTED report 28055\n",
      "INSERTED report 262329\n",
      "INSERTED report 358425\n",
      "INSERTED report 28180\n",
      "INSERTED report 358763\n",
      "INSERTED report 44928\n",
      "INSERTED report 28362\n",
      "INSERTED report 365493\n",
      "INSERTED report 362073\n",
      "INSERTED report 28421\n",
      "INSERTED report 28427\n",
      "INSERTED report 248845\n",
      "INSERTED report 28513\n",
      "INSERTED report 368640\n",
      "INSERTED report 373012\n",
      "INSERTED report 63321\n",
      "INSERTED report 373592\n",
      "INSERTED report 249021\n",
      "INSERTED report 374512\n",
      "INSERTED report 376190\n",
      "INSERTED report 45474\n",
      "INSERTED report 375371\n",
      "INSERTED report 381452\n",
      "INSERTED report 352145\n",
      "INSERTED report 386152\n",
      "INSERTED report 40414\n",
      "INSERTED report 258690\n",
      "INSERTED report 276707\n",
      "INSERTED report 382550\n",
      "INSERTED report 385625\n",
      "INSERTED report 249292\n",
      "INSERTED report 386879\n",
      "INSERTED report 387213\n",
      "INSERTED report 389155\n",
      "INSERTED report 389250\n",
      "INSERTED report 54383\n",
      "INSERTED report 284476\n",
      "INSERTED report 391520\n",
      "INSERTED report 390453\n",
      "INSERTED report 46589\n",
      "INSERTED report 392743\n",
      "INSERTED report 37472\n",
      "INSERTED report 394760\n",
      "INSERTED report 285555\n",
      "INSERTED report 395196\n",
      "INSERTED report 395486\n",
      "INSERTED report 187027\n",
      "INSERTED report 286235\n",
      "INSERTED report 259612\n",
      "INSERTED report 259191\n",
      "INSERTED report 132242\n",
      "INSERTED report 259219\n",
      "INSERTED report 37861\n",
      "INSERTED report 398587\n",
      "INSERTED report 38106\n",
      "INSERTED report 50469\n",
      "INSERTED report 399560\n",
      "INSERTED report 399776\n",
      "INSERTED report 251427\n",
      "INSERTED report 399866\n",
      "INSERTED report 250045\n",
      "INSERTED report 259442\n",
      "INSERTED report 38462\n",
      "INSERTED report 399892\n",
      "INSERTED report 399894\n",
      "INSERTED report 52915\n",
      "INSERTED report 38489\n",
      "INSERTED report 400084\n",
      "INSERTED report 38718\n",
      "INSERTED report 400518\n",
      "INSERTED report 250143\n",
      "INSERTED report 315537\n",
      "INSERTED report 38796\n",
      "INSERTED report 47794\n",
      "INSERTED report 349978\n",
      "INSERTED report 349993\n",
      "INSERTED report 401112\n",
      "INSERTED report 401329\n",
      "INSERTED report 401402\n",
      "INSERTED report 401716\n",
      "INSERTED report 250749\n",
      "INSERTED report 70707\n",
      "INSERTED report 402643\n",
      "INSERTED report 402526\n",
      "INSERTED report 39478\n",
      "INSERTED report 137530\n",
      "INSERTED report 403107\n",
      "INSERTED report 287970\n",
      "INSERTED report 404420\n",
      "INSERTED report 250532\n",
      "INSERTED report 403801\n",
      "INSERTED report 259956\n",
      "INSERTED report 403935\n",
      "INSERTED report 39904\n",
      "INSERTED report 404211\n",
      "INSERTED report 404295\n",
      "INSERTED report 404286\n",
      "INSERTED report 250731\n",
      "INSERTED report 288171\n",
      "INSERTED report 404513\n",
      "INSERTED report 288201\n",
      "INSERTED report 404579\n",
      "INSERTED report 404846\n",
      "INSERTED report 82850\n",
      "INSERTED report 49138\n",
      "INSERTED report 40635\n",
      "INSERTED report 40777\n",
      "INSERTED report 40801\n",
      "INSERTED report 40802\n",
      "INSERTED report 405026\n",
      "INSERTED report 405285\n",
      "INSERTED report 251045\n",
      "INSERTED report 251110\n",
      "INSERTED report 405329\n",
      "INSERTED report 288496\n",
      "INSERTED report 41186\n",
      "INSERTED report 41208\n",
      "INSERTED report 405369\n",
      "INSERTED report 405448\n",
      "INSERTED report 144462\n",
      "INSERTED report 144472\n",
      "INSERTED report 405457\n",
      "INSERTED report 144477\n",
      "INSERTED report 144480\n",
      "INSERTED report 405499\n",
      "INSERTED report 187331\n",
      "INSERTED report 405542\n",
      "INSERTED report 41382\n",
      "INSERTED report 42044\n",
      "INSERTED report 405622\n",
      "INSERTED report 405779\n",
      "INSERTED report 71614\n",
      "INSERTED report 405662\n",
      "INSERTED report 405640\n",
      "INSERTED report 405732\n",
      "INSERTED report 288665\n",
      "INSERTED report 405925\n",
      "INSERTED report 406023\n",
      "INSERTED report 245782\n",
      "INSERTED report 406127\n",
      "INSERTED report 406070\n",
      "INSERTED report 42113\n",
      "INSERTED report 288836\n",
      "INSERTED report 406156\n",
      "INSERTED report 260527\n",
      "INSERTED report 170904\n",
      "INSERTED report 50484\n",
      "INSERTED report 42340\n",
      "INSERTED report 42389\n",
      "INSERTED report 42490\n",
      "INSERTED report 406328\n",
      "INSERTED report 406270\n",
      "INSERTED report 251626\n",
      "INSERTED report 406525\n",
      "INSERTED report 406539\n",
      "INSERTED report 72150\n",
      "INSERTED report 43956\n",
      "INSERTED report 42184\n",
      "INSERTED report 350364\n",
      "INSERTED report 406562\n",
      "INSERTED report 260820\n",
      "INSERTED report 406700\n",
      "INSERTED report 110253\n",
      "INSERTED report 406713\n",
      "INSERTED report 406711\n",
      "INSERTED report 72326\n",
      "INSERTED report 406714\n",
      "INSERTED report 94868\n",
      "INSERTED report 406807\n",
      "INSERTED report 43375\n",
      "INSERTED report 350293\n",
      "INSERTED report 72479\n",
      "INSERTED report 72481\n",
      "INSERTED report 72482\n",
      "INSERTED report 72498\n",
      "INSERTED report 407055\n",
      "INSERTED report 110963\n",
      "INSERTED report 43861\n",
      "INSERTED report 261173\n",
      "INSERTED report 121250\n",
      "INSERTED report 82680\n",
      "INSERTED report 261212\n",
      "INSERTED report 407154\n",
      "INSERTED report 261331\n",
      "INSERTED report 261261\n",
      "INSERTED report 261269\n",
      "INSERTED report 261287\n",
      "INSERTED report 121223\n",
      "INSERTED report 407195\n",
      "INSERTED report 407193\n",
      "INSERTED report 261344\n",
      "INSERTED report 407357\n",
      "INSERTED report 121274\n",
      "INSERTED report 407428\n",
      "INSERTED report 407413\n",
      "INSERTED report 407452\n",
      "INSERTED report 407471\n",
      "INSERTED report 121388\n",
      "INSERTED report 407475\n",
      "INSERTED report 407484\n",
      "INSERTED report 407478\n",
      "INSERTED report 407501\n",
      "INSERTED report 126513\n",
      "INSERTED report 407505\n",
      "INSERTED report 62271\n",
      "INSERTED report 121482\n",
      "INSERTED report 407571\n",
      "INSERTED report 407630\n",
      "INSERTED report 407656\n",
      "INSERTED report 407653\n",
      "INSERTED report 407654\n",
      "INSERTED report 111082\n",
      "INSERTED report 407651\n",
      "INSERTED report 297688\n",
      "INSERTED report 252942\n",
      "INSERTED report 407666\n",
      "INSERTED report 407672\n",
      "INSERTED report 407678\n",
      "INSERTED report 407675\n",
      "INSERTED report 407763\n",
      "INSERTED report 253024\n",
      "INSERTED report 262008\n",
      "INSERTED report 262011\n",
      "INSERTED report 407696\n",
      "INSERTED report 407701\n",
      "INSERTED report 67611\n",
      "INSERTED report 45691\n",
      "INSERTED report 407723\n",
      "INSERTED report 407732\n",
      "INSERTED report 262226\n",
      "INSERTED report 407814\n",
      "INSERTED report 407800\n",
      "INSERTED report 407774\n",
      "INSERTED report 253542\n",
      "INSERTED report 407830\n",
      "INSERTED report 407836\n",
      "INSERTED report 407838\n",
      "INSERTED report 407842\n",
      "INSERTED report 407841\n",
      "INSERTED report 407851\n",
      "INSERTED report 68256\n",
      "INSERTED report 407847\n",
      "INSERTED report 407846\n",
      "INSERTED report 407868\n",
      "INSERTED report 407903\n",
      "INSERTED report 118991\n",
      "INSERTED report 83981\n",
      "INSERTED report 407878\n",
      "INSERTED report 262675\n"
     ]
    }
   ],
   "source": [
    "prr_update_data"
   ]
  },
  {
   "cell_type": "markdown",
   "metadata": {},
   "source": [
    "## Extraction Transformation and Loading (test)"
   ]
  },
  {
   "cell_type": "code",
   "execution_count": null,
   "metadata": {},
   "outputs": [],
   "source": []
  },
  {
   "cell_type": "code",
   "execution_count": null,
   "metadata": {},
   "outputs": [],
   "source": [
    "report = Report.all.find{|report|  \n",
    "  report.commercial_drug_administrations.length > 1 &&\n",
    "  report.adrs.length > 1 &&\n",
    "  !report.fill_date.nil?\n",
    "}; nil"
   ]
  },
  {
   "cell_type": "code",
   "execution_count": null,
   "metadata": {},
   "outputs": [],
   "source": [
    "treport = Treport.create(vt: report.fill_date); nil"
   ]
  },
  {
   "cell_type": "code",
   "execution_count": null,
   "metadata": {},
   "outputs": [],
   "source": [
    "report.commercial_drug_administrations.each do |da|\n",
    "  treport.add_tdrug(\n",
    "    name: da.commercial_drug.drug.name, \n",
    "    brand_name: da.commercial_drug.name , \n",
    "    atc: da.commercial_drug.atc_code)\n",
    "end ; nil "
   ]
  },
  {
   "cell_type": "code",
   "execution_count": null,
   "metadata": {},
   "outputs": [],
   "source": [
    "treport.tdrugs"
   ]
  },
  {
   "cell_type": "code",
   "execution_count": null,
   "metadata": {},
   "outputs": [],
   "source": [
    "report.adrs.each do |adr|\n",
    "  treport.add_tadr(\n",
    "    name: adr.name_en, \n",
    "    preferred_name: adr.adr_preferred_term.name_en , \n",
    "    soc: adr.adr_preferred_term.soc.name_en)\n",
    "end  "
   ]
  },
  {
   "cell_type": "code",
   "execution_count": null,
   "metadata": {},
   "outputs": [],
   "source": [
    "treport.tadrs"
   ]
  },
  {
   "cell_type": "code",
   "execution_count": null,
   "metadata": {},
   "outputs": [],
   "source": [
    "CommercialDrug.all.find{|d| d.drug.nil?}"
   ]
  },
  {
   "cell_type": "code",
   "execution_count": null,
   "metadata": {},
   "outputs": [],
   "source": []
  }
 ],
 "metadata": {
  "kernelspec": {
   "display_name": "Ruby 2.5.1",
   "language": "ruby",
   "name": "ruby"
  },
  "language_info": {
   "file_extension": ".rb",
   "mimetype": "application/x-ruby",
   "name": "ruby",
   "version": "2.5.1"
  }
 },
 "nbformat": 4,
 "nbformat_minor": 4
}
