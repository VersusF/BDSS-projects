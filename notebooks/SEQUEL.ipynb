{
 "cells": [
  {
   "cell_type": "code",
   "execution_count": 1,
   "metadata": {},
   "outputs": [
    {
     "data": {
      "text/plain": [
       "true"
      ]
     },
     "execution_count": 1,
     "metadata": {},
     "output_type": "execute_result"
    }
   ],
   "source": [
    "require 'csv'\n",
    "require 'benchmark'"
   ]
  },
  {
   "cell_type": "markdown",
   "metadata": {},
   "source": [
    "# [SEQUEL](https://sequel.jeremyevans.net/documentation.html) \n",
    "\n",
    "SEQUEL is an Object Relational Mapping (ORM) for Ruby, it allows to connect to various DBMS (e.g., Postgres, SQLite3, MySQL, and so on)."
   ]
  },
  {
   "cell_type": "code",
   "execution_count": 2,
   "metadata": {},
   "outputs": [
    {
     "data": {
      "text/plain": [
       "true"
      ]
     },
     "execution_count": 2,
     "metadata": {},
     "output_type": "execute_result"
    }
   ],
   "source": [
    "require 'sequel'"
   ]
  },
  {
   "cell_type": "code",
   "execution_count": 3,
   "metadata": {},
   "outputs": [
    {
     "data": {
      "text/plain": [
       "#<Sequel::Postgres::Database: {:adapter=>\"postgres\", :host=>\"postgres\", :user=>\"postgres\", :password=>\"mysecretpassword\"}>"
      ]
     },
     "execution_count": 3,
     "metadata": {},
     "output_type": "execute_result"
    }
   ],
   "source": [
    "PG_DB = Sequel.connect(adapter: 'postgres', \n",
    "                    host: 'postgres', \n",
    "                    user: 'postgres',\n",
    "                    password: 'mysecretpassword')"
   ]
  },
  {
   "cell_type": "markdown",
   "metadata": {},
   "source": [
    "## [SQLITE](https://www.sqlite.org/index.html) \n",
    "\n",
    "It is a fast and easy barebone file-based DBMS, it is extremely reliable for testing, small computations, and fast prototyping. "
   ]
  },
  {
   "cell_type": "code",
   "execution_count": 4,
   "metadata": {},
   "outputs": [
    {
     "data": {
      "text/plain": [
       "#<Sequel::SQLite::Database: {:adapter=>:sqlite, :database=>\"local.db\"}>"
      ]
     },
     "execution_count": 4,
     "metadata": {},
     "output_type": "execute_result"
    }
   ],
   "source": [
    "SI_DB = Sequel.sqlite('local.db')"
   ]
  },
  {
   "cell_type": "markdown",
   "metadata": {},
   "source": [
    "Many DBMS has the in-memory feature, but the the combination of SQLITE and SEQUEL makes it stupid simple.  "
   ]
  },
  {
   "cell_type": "code",
   "execution_count": 5,
   "metadata": {},
   "outputs": [
    {
     "data": {
      "text/plain": [
       "#<Sequel::SQLite::Database: {:adapter=>:sqlite}>"
      ]
     },
     "execution_count": 5,
     "metadata": {},
     "output_type": "execute_result"
    }
   ],
   "source": [
    "SI_DB_INMEMORY = Sequel.sqlite"
   ]
  },
  {
   "cell_type": "markdown",
   "metadata": {},
   "source": [
    "### Why in memory databases? \n",
    "\n",
    "Let us consider the following example: "
   ]
  },
  {
   "cell_type": "code",
   "execution_count": 6,
   "metadata": {},
   "outputs": [],
   "source": [
    "adrs = CSV.read('sequel_material/meddra.csv').to_a.map{|row| row[3]}; nil"
   ]
  },
  {
   "cell_type": "code",
   "execution_count": 7,
   "metadata": {},
   "outputs": [
    {
     "data": {
      "text/plain": [
       ":create_adrs_table!"
      ]
     },
     "execution_count": 7,
     "metadata": {},
     "output_type": "execute_result"
    }
   ],
   "source": [
    "def create_adrs_table!(db_connection)\n",
    "  db_connection.create_table!(:adrs) do\n",
    "    primary_key :id\n",
    "    String :name\n",
    "  end  \n",
    "end  "
   ]
  },
  {
   "cell_type": "markdown",
   "metadata": {},
   "source": [
    "The above code create a table called $\\mathbf{adrs}$ in the database pointed by $\\mathbf{db\\_connection}$"
   ]
  },
  {
   "cell_type": "markdown",
   "metadata": {},
   "source": [
    "SEQUEL has the following convention about $create\\_table$ and some other\n",
    "\"database altering\" methods:\n",
    "<ul>\n",
    "     <li>$create\\_table!$ forces the creation of a new table (if a table with the same name previously exists it will be deleted);</li>\n",
    "     <li>$create\\_table?$ create the table if it does not exist otherwise\n",
    "     such instruction is skipped;</li>\n",
    "     <li>$create\\_table$ create the table if it does not exist, \n",
    "         if the table exists already, it raises an error.</li>\n",
    "</ul>\n",
    "\n",
    "This deviates a little bit the Ruby standard practice for methods names. \n",
    "In Ruby we have the following standard practice:"
   ]
  },
  {
   "cell_type": "code",
   "execution_count": 8,
   "metadata": {},
   "outputs": [
    {
     "data": {
      "text/plain": [
       "{:a=>1, :b=>1}"
      ]
     },
     "execution_count": 8,
     "metadata": {},
     "output_type": "execute_result"
    }
   ],
   "source": [
    "h = {a: 1, b:1}"
   ]
  },
  {
   "cell_type": "markdown",
   "metadata": {},
   "source": [
    "<ul>\n",
    "     <li>$!$ MODIFY the current object;</li>\n",
    "</ul>     "
   ]
  },
  {
   "cell_type": "code",
   "execution_count": 9,
   "metadata": {},
   "outputs": [
    {
     "data": {
      "text/plain": [
       "{:a=>3, :b=>1, :c=>4}"
      ]
     },
     "execution_count": 9,
     "metadata": {},
     "output_type": "execute_result"
    }
   ],
   "source": [
    "h.merge!({a:3, c:4})\n",
    "h"
   ]
  },
  {
   "cell_type": "markdown",
   "metadata": {},
   "source": [
    "<ul>\n",
    "<li>$?$  DENOTES methods that return a boolean value WITHOUT MODIFYING the current object;</li>\n",
    "</ul>          "
   ]
  },
  {
   "cell_type": "code",
   "execution_count": 10,
   "metadata": {},
   "outputs": [
    {
     "data": {
      "text/plain": [
       "false"
      ]
     },
     "execution_count": 10,
     "metadata": {},
     "output_type": "execute_result"
    }
   ],
   "source": [
    "h.empty?"
   ]
  },
  {
   "cell_type": "code",
   "execution_count": 11,
   "metadata": {},
   "outputs": [
    {
     "data": {
      "text/plain": [
       "true"
      ]
     },
     "execution_count": 11,
     "metadata": {},
     "output_type": "execute_result"
    }
   ],
   "source": [
    "{}.empty?"
   ]
  },
  {
   "cell_type": "markdown",
   "metadata": {},
   "source": [
    "<ul>     \n",
    "<li> some methods have their version both with  and without $!$. \n",
    "In this case the method WITHOUT $!$ COPY  the current object\n",
    "and returns the copy where the  method $!$ is applied,\n",
    "the original object is NOT MODIFIED. \n",
    "</li>\n",
    "</ul>"
   ]
  },
  {
   "cell_type": "code",
   "execution_count": 12,
   "metadata": {},
   "outputs": [
    {
     "data": {
      "text/plain": [
       "{:a=>1, :b=>1}"
      ]
     },
     "execution_count": 12,
     "metadata": {},
     "output_type": "execute_result"
    }
   ],
   "source": [
    "h1 = {a: 1, b:1}"
   ]
  },
  {
   "cell_type": "code",
   "execution_count": 13,
   "metadata": {},
   "outputs": [
    {
     "data": {
      "text/plain": [
       "{:a=>3, :b=>1, :c=>4}"
      ]
     },
     "execution_count": 13,
     "metadata": {},
     "output_type": "execute_result"
    }
   ],
   "source": [
    "h2 = h1.merge({a:3, c:4})"
   ]
  },
  {
   "cell_type": "code",
   "execution_count": 14,
   "metadata": {},
   "outputs": [
    {
     "data": {
      "text/plain": [
       "{:a=>1, :b=>1}"
      ]
     },
     "execution_count": 14,
     "metadata": {},
     "output_type": "execute_result"
    }
   ],
   "source": [
    "h1"
   ]
  },
  {
   "cell_type": "code",
   "execution_count": 15,
   "metadata": {},
   "outputs": [
    {
     "data": {
      "text/plain": [
       "{:a=>3, :b=>1, :c=>4}"
      ]
     },
     "execution_count": 15,
     "metadata": {},
     "output_type": "execute_result"
    }
   ],
   "source": [
    "h2"
   ]
  },
  {
   "cell_type": "markdown",
   "metadata": {},
   "source": [
    "WARNING: this practice holds JUST for methods that have both the version with and without $!$,\n",
    "other methods may modify the object because it is in their semantics."
   ]
  },
  {
   "cell_type": "code",
   "execution_count": 16,
   "metadata": {},
   "outputs": [
    {
     "data": {
      "text/plain": [
       "{:a=>1, :b=>8}"
      ]
     },
     "execution_count": 16,
     "metadata": {},
     "output_type": "execute_result"
    }
   ],
   "source": [
    "h3 = {a: 1, b:8}"
   ]
  },
  {
   "cell_type": "markdown",
   "metadata": {},
   "source": [
    "EXAMPLE: the method delete of the Hash class delete the key from the CURRENT hash and retuns the value associated to the deleted key. "
   ]
  },
  {
   "cell_type": "code",
   "execution_count": 17,
   "metadata": {},
   "outputs": [
    {
     "data": {
      "text/plain": [
       "1"
      ]
     },
     "execution_count": 17,
     "metadata": {},
     "output_type": "execute_result"
    }
   ],
   "source": [
    "h3.delete(:a) "
   ]
  },
  {
   "cell_type": "code",
   "execution_count": 18,
   "metadata": {},
   "outputs": [
    {
     "data": {
      "text/plain": [
       "{:b=>8}"
      ]
     },
     "execution_count": 18,
     "metadata": {},
     "output_type": "execute_result"
    }
   ],
   "source": [
    "h3"
   ]
  },
  {
   "cell_type": "code",
   "execution_count": 19,
   "metadata": {},
   "outputs": [],
   "source": [
    "create_adrs_table!(SI_DB)\n",
    "create_adrs_table!(SI_DB_INMEMORY)"
   ]
  },
  {
   "cell_type": "code",
   "execution_count": 20,
   "metadata": {},
   "outputs": [],
   "source": [
    "class Adr < Sequel::Model(SI_DB)\n",
    "end"
   ]
  },
  {
   "cell_type": "markdown",
   "metadata": {},
   "source": [
    "We are mapping the class $Adr$ to lines in the $adrs$ table, in the $SI\\_DB$ database. \n",
    "There is a convenient naming convention that if no table is specified it maps \n",
    "the class to its PLURAL name. "
   ]
  },
  {
   "cell_type": "code",
   "execution_count": 21,
   "metadata": {},
   "outputs": [],
   "source": [
    "class AdrMemory < Sequel::Model(SI_DB_INMEMORY[:adrs])\n",
    "end  "
   ]
  },
  {
   "cell_type": "markdown",
   "metadata": {},
   "source": [
    "Otherwise we may specify the name of the table to map."
   ]
  },
  {
   "cell_type": "markdown",
   "metadata": {},
   "source": [
    "<div style=\"background-color: lightgreen\">\n",
    "Course exercise - SEQUEL 1 <br><br>\n",
    "class AdrMemory < Sequel::Model(SI_DB_INMEMORY)\n",
    "<br>\n",
    "end  \n",
    "<br>\n",
    "\n",
    "**Which table will be associated with the above declaration?**\n",
    "</div>"
   ]
  },
  {
   "cell_type": "markdown",
   "metadata": {},
   "source": [
    "Now rows of the table are treated as object in Ruby, we can access their fields, create them, delete them, and so on."
   ]
  },
  {
   "cell_type": "code",
   "execution_count": 22,
   "metadata": {},
   "outputs": [
    {
     "data": {
      "text/plain": [
       "#<Adr @values={:id=>1, :name=>\"Study induced Headache\"}>"
      ]
     },
     "execution_count": 22,
     "metadata": {},
     "output_type": "execute_result"
    }
   ],
   "source": [
    "Adr.create(name: \"Study induced Headache\")"
   ]
  },
  {
   "cell_type": "markdown",
   "metadata": {},
   "source": [
    "you may access the object/row by id"
   ]
  },
  {
   "cell_type": "code",
   "execution_count": 25,
   "metadata": {},
   "outputs": [
    {
     "data": {
      "text/plain": [
       "#<Adr @values={:id=>1, :name=>\"Study induced Headache\"}>"
      ]
     },
     "execution_count": 25,
     "metadata": {},
     "output_type": "execute_result"
    }
   ],
   "source": [
    "Adr[1]"
   ]
  },
  {
   "cell_type": "code",
   "execution_count": 26,
   "metadata": {},
   "outputs": [
    {
     "data": {
      "text/plain": [
       "#<Adr @values={:id=>2, :name=>\"BDSS Exercises induced Headache\"}>"
      ]
     },
     "execution_count": 26,
     "metadata": {},
     "output_type": "execute_result"
    }
   ],
   "source": [
    "Adr.create(name: \"BDSS Exercises induced Headache\")"
   ]
  },
  {
   "cell_type": "code",
   "execution_count": 29,
   "metadata": {},
   "outputs": [
    {
     "data": {
      "text/plain": [
       "[#<Adr @values={:id=>1, :name=>\"Study induced Headache\"}>]"
      ]
     },
     "execution_count": 29,
     "metadata": {},
     "output_type": "execute_result"
    }
   ],
   "source": [
    "Adr.all.to_a"
   ]
  },
  {
   "cell_type": "code",
   "execution_count": 28,
   "metadata": {},
   "outputs": [
    {
     "data": {
      "text/plain": [
       "#<Adr @values={:id=>2, :name=>\"BDSS Exercises induced Headache\"}>"
      ]
     },
     "execution_count": 28,
     "metadata": {},
     "output_type": "execute_result"
    }
   ],
   "source": [
    "Adr[2].delete"
   ]
  },
  {
   "cell_type": "code",
   "execution_count": 30,
   "metadata": {
    "scrolled": true
   },
   "outputs": [
    {
     "data": {
      "text/plain": [
       "[#<Adr @values={:id=>1, :name=>\"Study induced Headache\"}>]"
      ]
     },
     "execution_count": 30,
     "metadata": {},
     "output_type": "execute_result"
    }
   ],
   "source": [
    "Adr.all.to_a"
   ]
  },
  {
   "cell_type": "markdown",
   "metadata": {},
   "source": [
    "WARNING  $create$ and $new$ for classes extending Sequel::Model, $create$ creates the obeject and STORES it in the table, $new$ works as a standard  constructor and create the object\n",
    "in the current workspace WITHOUT STORING IT  in the table. \n",
    "\n",
    "NOTICE:You may create the object with $new$ and after some operation you may store it with the method $save$."
   ]
  },
  {
   "cell_type": "code",
   "execution_count": 31,
   "metadata": {},
   "outputs": [
    {
     "data": {
      "text/plain": [
       "#<Adr @values={:name=>\"BDSS Exercises induced Headache\"}>"
      ]
     },
     "execution_count": 31,
     "metadata": {},
     "output_type": "execute_result"
    }
   ],
   "source": [
    "adr =  Adr.new(name: \"BDSS Exercises induced Headache\")"
   ]
  },
  {
   "cell_type": "code",
   "execution_count": 32,
   "metadata": {},
   "outputs": [
    {
     "data": {
      "text/plain": [
       "[#<Adr @values={:id=>1, :name=>\"Study induced Headache\"}>]"
      ]
     },
     "execution_count": 32,
     "metadata": {},
     "output_type": "execute_result"
    }
   ],
   "source": [
    "Adr.all.to_a"
   ]
  },
  {
   "cell_type": "code",
   "execution_count": 33,
   "metadata": {},
   "outputs": [
    {
     "data": {
      "text/plain": [
       "#<Adr @values={:id=>3, :name=>\"BDSS Exercises induced Headache\"}>"
      ]
     },
     "execution_count": 33,
     "metadata": {},
     "output_type": "execute_result"
    }
   ],
   "source": [
    "adr.save"
   ]
  },
  {
   "cell_type": "code",
   "execution_count": 34,
   "metadata": {},
   "outputs": [
    {
     "data": {
      "text/plain": [
       "[#<Adr @values={:id=>1, :name=>\"Study induced Headache\"}>, #<Adr @values={:id=>3, :name=>\"BDSS Exercises induced Headache\"}>]"
      ]
     },
     "execution_count": 34,
     "metadata": {},
     "output_type": "execute_result"
    }
   ],
   "source": [
    "Adr.all.to_a"
   ]
  },
  {
   "cell_type": "markdown",
   "metadata": {},
   "source": [
    "Going back to why  In-memory database are useful, let us consider the following example:"
   ]
  },
  {
   "cell_type": "markdown",
   "metadata": {},
   "source": [
    "How many adrs are we going to load?"
   ]
  },
  {
   "cell_type": "code",
   "execution_count": 35,
   "metadata": {},
   "outputs": [
    {
     "data": {
      "text/plain": [
       "23088"
      ]
     },
     "execution_count": 35,
     "metadata": {},
     "output_type": "execute_result"
    }
   ],
   "source": [
    "adrs.size"
   ]
  },
  {
   "cell_type": "code",
   "execution_count": 36,
   "metadata": {},
   "outputs": [
    {
     "data": {
      "text/plain": [
       "#<Benchmark::Tms:0x000055a6c3962548 @label=\"\", @real=226.3676983410005, @cstime=0.0, @cutime=0.0, @stime=19.772597, @utime=17.01705, @total=36.789647>"
      ]
     },
     "execution_count": 36,
     "metadata": {},
     "output_type": "execute_result"
    }
   ],
   "source": [
    "time_storage = Benchmark.measure{adrs.each{|adr| Adr.create(name: adr)}}"
   ]
  },
  {
   "cell_type": "code",
   "execution_count": 37,
   "metadata": {},
   "outputs": [
    {
     "data": {
      "text/plain": [
       "#<Benchmark::Tms:0x000055a6c380c2c0 @label=\"\", @real=3.8225148159981472, @cstime=0.0, @cutime=0.0, @stime=0.0, @utime=3.8225729999999984, @total=3.8225729999999984>"
      ]
     },
     "execution_count": 37,
     "metadata": {},
     "output_type": "execute_result"
    }
   ],
   "source": [
    "time_memory = Benchmark.measure{adrs.each{|adr| AdrMemory.create(name: adr)}}"
   ]
  },
  {
   "cell_type": "markdown",
   "metadata": {},
   "source": [
    "In memory database allows us to  access the data in a fastest way for heavy computations while retaining the the consistency and the operation of a relational database."
   ]
  },
  {
   "cell_type": "markdown",
   "metadata": {},
   "source": [
    "## The ORM Layer"
   ]
  },
  {
   "cell_type": "code",
   "execution_count": 69,
   "metadata": {},
   "outputs": [
    {
     "data": {
      "text/plain": [
       ":create_treatments_table!"
      ]
     },
     "execution_count": 69,
     "metadata": {},
     "output_type": "execute_result"
    }
   ],
   "source": [
    "def create_reports_table!(db)\n",
    "  db.create_table!(:reports) do\n",
    "    primary_key :id\n",
    "    Date :date\n",
    "  end  \n",
    "end  \n",
    "\n",
    "def create_reported_adrs_table!(db)\n",
    "  db.create_table!(:reported_adrs) do\n",
    "    primary_key :id\n",
    "    Integer :report_id\n",
    "    Integer :adr_id\n",
    "  end  \n",
    "end  \n",
    "\n",
    "def create_adrs_table!(db)\n",
    "  db.create_table!(:adrs) do\n",
    "    primary_key :id\n",
    "    String :meddra_name\n",
    "  end\n",
    "end \n",
    "\n",
    "def create_drugs_table!(db)\n",
    "  db.create_table!(:drugs) do\n",
    "    primary_key :id\n",
    "    String :name\n",
    "    String :atc\n",
    "  end\n",
    "end \n",
    "\n",
    "def create_treatments_table!(db)\n",
    "  db.create_table!(:treatments) do\n",
    "    primary_key :id\n",
    "    Integer :report_id\n",
    "    Integer :drug_id\n",
    "  end\n",
    "end "
   ]
  },
  {
   "cell_type": "code",
   "execution_count": 39,
   "metadata": {},
   "outputs": [],
   "source": [
    "create_reports_table!(PG_DB)\n",
    "create_reported_adrs_table!(PG_DB)\n",
    "create_treatments_table!(PG_DB)\n",
    "create_adrs_table!(PG_DB)\n",
    "create_drugs_table!(PG_DB)"
   ]
  },
  {
   "cell_type": "code",
   "execution_count": 42,
   "metadata": {},
   "outputs": [
    {
     "data": {
      "text/plain": [
       "Adr"
      ]
     },
     "execution_count": 42,
     "metadata": {},
     "output_type": "execute_result"
    }
   ],
   "source": [
    "Object.send(:remove_const, :Adr) if defined?(Adr)"
   ]
  },
  {
   "cell_type": "code",
   "execution_count": 43,
   "metadata": {},
   "outputs": [],
   "source": [
    "class Adr < Sequel::Model(PG_DB)\n",
    "end \n",
    "class Report < Sequel::Model(PG_DB)\n",
    "  many_to_many :adrs, join_table: :reported_adrs\n",
    "  #,left_key: :report_id,\n",
    "  #right_key: :adr_id\n",
    "end  \n",
    "class Drug < Sequel::Model(PG_DB)\n",
    "end   "
   ]
  },
  {
   "cell_type": "code",
   "execution_count": 44,
   "metadata": {},
   "outputs": [
    {
     "data": {
      "text/plain": [
       "#<Adr @values={:id=>1, :meddra_name=>\"Headache\"}>"
      ]
     },
     "execution_count": 44,
     "metadata": {},
     "output_type": "execute_result"
    }
   ],
   "source": [
    "Adr.create(meddra_name: \"Headache\")"
   ]
  },
  {
   "cell_type": "code",
   "execution_count": 45,
   "metadata": {},
   "outputs": [
    {
     "data": {
      "text/plain": [
       "#<Report @values={:id=>1, :date=>#<Date: 2020-03-23 ((2458932j,0s,0n),+0s,2299161j)>}>"
      ]
     },
     "execution_count": 45,
     "metadata": {},
     "output_type": "execute_result"
    }
   ],
   "source": [
    "Report.create(date: Date.today)"
   ]
  },
  {
   "cell_type": "code",
   "execution_count": 46,
   "metadata": {},
   "outputs": [
    {
     "data": {
      "text/plain": [
       "#<Adr @values={:id=>1, :meddra_name=>\"Headache\"}>"
      ]
     },
     "execution_count": 46,
     "metadata": {},
     "output_type": "execute_result"
    }
   ],
   "source": [
    "Report[1].add_adr(Adr[1])"
   ]
  },
  {
   "cell_type": "code",
   "execution_count": 50,
   "metadata": {},
   "outputs": [
    {
     "data": {
      "text/plain": [
       "[#<Adr @values={:id=>1, :meddra_name=>\"Headache\"}>, #<Adr @values={:id=>2, :meddra_name=>\"Astenia\"}>]"
      ]
     },
     "execution_count": 50,
     "metadata": {},
     "output_type": "execute_result"
    }
   ],
   "source": [
    "Report[1].adrs"
   ]
  },
  {
   "cell_type": "code",
   "execution_count": 48,
   "metadata": {},
   "outputs": [
    {
     "data": {
      "text/plain": [
       "#<Adr @values={:id=>2, :meddra_name=>\"Astenia\"}>"
      ]
     },
     "execution_count": 48,
     "metadata": {},
     "output_type": "execute_result"
    }
   ],
   "source": [
    "Adr.create(meddra_name: \"Astenia\")"
   ]
  },
  {
   "cell_type": "code",
   "execution_count": 49,
   "metadata": {},
   "outputs": [
    {
     "data": {
      "text/plain": [
       "#<Adr @values={:id=>2, :meddra_name=>\"Astenia\"}>"
      ]
     },
     "execution_count": 49,
     "metadata": {},
     "output_type": "execute_result"
    }
   ],
   "source": [
    "Report[1].add_adr(Adr[2])"
   ]
  },
  {
   "cell_type": "markdown",
   "metadata": {},
   "source": [
    "WARNING: it may be the case that reloading some class will cause a class mismatch error, to avoid restarting everything just use the folllowing method  that remove the ENTIRE class and, then, \n",
    " reload the ENTIRE Class."
   ]
  },
  {
   "cell_type": "code",
   "execution_count": null,
   "metadata": {},
   "outputs": [],
   "source": [
    "Object.send(:remove_const, :Report)"
   ]
  },
  {
   "cell_type": "markdown",
   "metadata": {},
   "source": [
    "Ruby is a (very) dynamic language if you avoid its pitfalls programming even the more complex things \n",
    "may become very easy and elegant. For instance you may define add (o override methods) of a class dynamically \n",
    "in your code."
   ]
  },
  {
   "cell_type": "markdown",
   "metadata": {},
   "source": [
    "For example let us define the \"entropy\" method for the ruby Array class.\n",
    "Given a multiset $M=<a_1,\\ldots, a_n>$ on the element set $\\{\\overline{a}_1, \\ldots, \\overline{a}_m\\}$ we define the \n",
    "entropy of $M$ as\n",
    "$$  Entropy(M) = - \\sum_{i=0}^m\\left( \\frac{|\\{\\ j: a_j = \\overline{a}_i  \\}|}{n}\\log_2\\frac{|\\{\\ j: a_j = \\overline{a}_i  \\}|}{n} \\right) $$"
   ]
  },
  {
   "cell_type": "code",
   "execution_count": 51,
   "metadata": {},
   "outputs": [
    {
     "data": {
      "text/plain": [
       ":entropy"
      ]
     },
     "execution_count": 51,
     "metadata": {},
     "output_type": "execute_result"
    }
   ],
   "source": [
    "class Array\n",
    "  def entropy\n",
    "    h = {}\n",
    "    self.each{|item| h[item].nil? ? h[item] = 1 : h[item] += 1 }\n",
    "    r = 0\n",
    "    h.each{|_,v| r += (v.to_f/self.size) *  Math.log2(v.to_f/self.size) }\n",
    "    (-1) * r\n",
    "  end  \n",
    "end  "
   ]
  },
  {
   "cell_type": "code",
   "execution_count": 52,
   "metadata": {
    "scrolled": true
   },
   "outputs": [
    {
     "data": {
      "text/plain": [
       "1.5"
      ]
     },
     "execution_count": 52,
     "metadata": {},
     "output_type": "execute_result"
    }
   ],
   "source": [
    "[ \"a\",\"a\", \"c\", \"h\"].entropy"
   ]
  },
  {
   "cell_type": "markdown",
   "metadata": {},
   "source": [
    "WARNING: if you know what you are doing you may redefine even existing methods but this is not advisable if you don't \n",
    "have the complete control over the class (e.g., for Array class redefining == would be risky).\n",
    "All the current methods of a class may be retrieved with the following\n",
    "method:"
   ]
  },
  {
   "cell_type": "code",
   "execution_count": 53,
   "metadata": {},
   "outputs": [
    {
     "data": {
      "text/plain": [
       "[:try_convert, :[], :new, :json_creatable?, :allocate, :superclass, :<=>, :<=, :>=, :==, :===, :autoload?, :autoload, :included_modules, :include?, :name, :ancestors, :attr, :attr_reader, :attr_writer, :attr_accessor, :instance_methods, :public_instance_methods, :protected_instance_methods, :private_instance_methods, :constants, :const_get, :const_set, :const_defined?, :class_variables, :remove_class_variable, :class_variable_get, :class_variable_set, :class_variable_defined?, :public_constant, :freeze, :inspect, :deprecate_constant, :private_constant, :const_missing, :singleton_class?, :prepend, :class_exec, :module_eval, :class_eval, :include, :<, :>, :remove_method, :undef_method, :alias_method, :protected_method_defined?, :module_exec, :method_defined?, :public_method_defined?, :to_s, :public_class_method, :public_instance_method, :define_method, :private_method_defined?, :private_class_method, :instance_method, :to_json, :instance_variable_set, :instance_variable_defined?, :remove_instance_variable, :instance_of?, :kind_of?, :is_a?, :tap, :instance_variable_get, :instance_variables, :method, :public_method, :singleton_method, :define_singleton_method, :public_send, :extend, :to_enum, :enum_for, :pp, :=~, :!~, :eql?, :respond_to?, :object_id, :send, :display, :nil?, :hash, :class, :singleton_class, :clone, :dup, :itself, :yield_self, :taint, :tainted?, :untrust, :untaint, :trust, :untrusted?, :methods, :frozen?, :protected_methods, :singleton_methods, :public_methods, :private_methods, :!, :equal?, :instance_eval, :instance_exec, :!=, :__send__, :__id__]"
      ]
     },
     "execution_count": 53,
     "metadata": {},
     "output_type": "execute_result"
    }
   ],
   "source": [
    "Array.methods"
   ]
  },
  {
   "cell_type": "markdown",
   "metadata": {},
   "source": [
    "<div style=\"background-color: lightgreen\">\n",
    "Course exercise - SEQUEL 2 <br><br>\n",
    "Complete (and test) the following method:\n",
    "</div>"
   ]
  },
  {
   "cell_type": "code",
   "execution_count": 40,
   "metadata": {},
   "outputs": [
    {
     "data": {
      "text/plain": [
       ":<"
      ]
     },
     "execution_count": 40,
     "metadata": {},
     "output_type": "execute_result"
    }
   ],
   "source": [
    "class Array\n",
    "  def <(a)\n",
    "    min_size = [self.size, a.size].min\n",
    "    (0..min_size-1).each{ |i| \n",
    "      if self[i] < a[i] then return true end\n",
    "      if self[i] > a[i] then return false end\n",
    "    }\n",
    "    return self.size < a.size\n",
    "  end  \n",
    "end  \n"
   ]
  },
  {
   "cell_type": "code",
   "execution_count": 41,
   "metadata": {},
   "outputs": [
    {
     "name": "stdout",
     "output_type": "stream",
     "text": [
      "true\n"
     ]
    }
   ],
   "source": [
    "a = ['a', 'b', 'c']\n",
    "b = ['a', 'b', 'c', 'd']\n",
    "puts (a < b)"
   ]
  },
  {
   "cell_type": "markdown",
   "metadata": {},
   "source": [
    "<div style=\"background-color: lightgreen\">\n",
    "where $<$ is the lexicographical order between arrays\n",
    "</div>"
   ]
  },
  {
   "cell_type": "code",
   "execution_count": 76,
   "metadata": {},
   "outputs": [
    {
     "data": {
      "text/plain": [
       "#<Sequel::Model::Associations::ManyToManyAssociationReflection Report.many_to_many :drugs, :join_table=>:treatments>"
      ]
     },
     "execution_count": 76,
     "metadata": {},
     "output_type": "execute_result"
    }
   ],
   "source": [
    "class Report < Sequel::Model(PG_DB)\n",
    "  many_to_many :adrs, join_table: :reported_adrs\n",
    "  many_to_many :drugs, join_table: :treatments\n",
    "end"
   ]
  },
  {
   "cell_type": "code",
   "execution_count": 57,
   "metadata": {},
   "outputs": [
    {
     "data": {
      "text/plain": [
       "#<Sequel::Model::Associations::ManyToOneAssociationReflection ReportedAdr.many_to_one :adr>"
      ]
     },
     "execution_count": 57,
     "metadata": {},
     "output_type": "execute_result"
    }
   ],
   "source": [
    "class ReportedAdr < Sequel::Model(PG_DB) \n",
    "  many_to_one :report                     \n",
    "  many_to_one :adr\n",
    "end"
   ]
  },
  {
   "cell_type": "code",
   "execution_count": 58,
   "metadata": {},
   "outputs": [],
   "source": [
    "class Adr < Sequel::Model(PG_DB) \n",
    "end  "
   ]
  },
  {
   "cell_type": "markdown",
   "metadata": {},
   "source": [
    " \"ReportedAdr\" is an example of \"camel notation\"  where spaces are replaced by uppercase letters, SEQUEL by convention\n",
    " will look, if not specified otherwise, for the table \"reported_adrs\" in the database."
   ]
  },
  {
   "cell_type": "markdown",
   "metadata": {},
   "source": [
    "\"many_to_one :report\" \"many_to_one :adr\" establish entity-relation asssociation between tables and generate the \n",
    "associated methods without extra code."
   ]
  },
  {
   "cell_type": "code",
   "execution_count": 59,
   "metadata": {},
   "outputs": [
    {
     "data": {
      "text/plain": [
       "#<Report @values={:id=>2, :date=>#<Date: 2020-03-23 ((2458932j,0s,0n),+0s,2299161j)>}>"
      ]
     },
     "execution_count": 59,
     "metadata": {},
     "output_type": "execute_result"
    }
   ],
   "source": [
    "r = Report.create(date: Date.today)"
   ]
  },
  {
   "cell_type": "code",
   "execution_count": 60,
   "metadata": {},
   "outputs": [
    {
     "data": {
      "text/plain": [
       "#<ReportedAdr @values={:id=>3, :report_id=>nil, :adr_id=>nil}>"
      ]
     },
     "execution_count": 60,
     "metadata": {},
     "output_type": "execute_result"
    }
   ],
   "source": [
    "ra = ReportedAdr.create"
   ]
  },
  {
   "cell_type": "code",
   "execution_count": 61,
   "metadata": {},
   "outputs": [
    {
     "data": {
      "text/plain": [
       "#<Report @values={:id=>2, :date=>#<Date: 2020-03-23 ((2458932j,0s,0n),+0s,2299161j)>}>"
      ]
     },
     "execution_count": 61,
     "metadata": {},
     "output_type": "execute_result"
    }
   ],
   "source": [
    "ra.report = r"
   ]
  },
  {
   "cell_type": "code",
   "execution_count": 62,
   "metadata": {},
   "outputs": [
    {
     "data": {
      "text/plain": [
       "#<Adr @values={:id=>1, :meddra_name=>\"Headache\"}>"
      ]
     },
     "execution_count": 62,
     "metadata": {},
     "output_type": "execute_result"
    }
   ],
   "source": [
    "adr  = Adr.all.sample "
   ]
  },
  {
   "cell_type": "code",
   "execution_count": 63,
   "metadata": {},
   "outputs": [
    {
     "data": {
      "text/plain": [
       "#<Adr @values={:id=>1, :meddra_name=>\"Headache\"}>"
      ]
     },
     "execution_count": 63,
     "metadata": {},
     "output_type": "execute_result"
    }
   ],
   "source": [
    "ra.adr = adr"
   ]
  },
  {
   "cell_type": "markdown",
   "metadata": {},
   "source": [
    "<div style=\"background-color: lightgreen\">\n",
    "Course exercise - SEQUEL 3 <br><br>\n",
    "Complete the class declaration according to the schema ADR proposed in the past lectures.\n",
    "<img src=\"sequel_material/adr_schema.png\"/>\n",
    "</div>"
   ]
  },
  {
   "cell_type": "markdown",
   "metadata": {},
   "source": [
    "<div style=\"background-color: lightgreen\">\n",
    "Course exercise - SEQUEL 4 <br><br>\n",
    "Rewrite the prr calculation of \n",
    "Course Exercises ETL 1, ETL 2, ETL 3 codes using sequel methods.\n",
    "</div>"
   ]
  },
  {
   "cell_type": "code",
   "execution_count": 64,
   "metadata": {},
   "outputs": [
    {
     "data": {
      "text/plain": [
       "[#<Adr @values={:id=>1, :meddra_name=>\"Headache\"}>, #<Adr @values={:id=>2, :meddra_name=>\"Astenia\"}>]"
      ]
     },
     "execution_count": 64,
     "metadata": {},
     "output_type": "execute_result"
    }
   ],
   "source": [
    "Report[1].adrs"
   ]
  },
  {
   "cell_type": "code",
   "execution_count": 71,
   "metadata": {},
   "outputs": [
    {
     "data": {
      "text/plain": [
       "#<Sequel::Model::Associations::ManyToManyAssociationReflection Drug.many_to_many :reports, :join_table=>:treatments>"
      ]
     },
     "execution_count": 71,
     "metadata": {},
     "output_type": "execute_result"
    }
   ],
   "source": [
    "class Drug < Sequel::Model(PG_DB)\n",
    "  many_to_many :reports,  join_table: :treatments\n",
    "end  "
   ]
  },
  {
   "cell_type": "code",
   "execution_count": 72,
   "metadata": {},
   "outputs": [
    {
     "data": {
      "text/plain": [
       "#<Drug @values={:id=>1, :name=>\"Paracetamol\", :atc=>\"N02BE01\"}>"
      ]
     },
     "execution_count": 72,
     "metadata": {},
     "output_type": "execute_result"
    }
   ],
   "source": [
    "Drug.create(name: \"Paracetamol\", atc: \"N02BE01\")"
   ]
  },
  {
   "cell_type": "code",
   "execution_count": 77,
   "metadata": {},
   "outputs": [
    {
     "data": {
      "text/plain": [
       "[]"
      ]
     },
     "execution_count": 77,
     "metadata": {},
     "output_type": "execute_result"
    }
   ],
   "source": [
    "Report[1].drugs"
   ]
  },
  {
   "cell_type": "code",
   "execution_count": 78,
   "metadata": {},
   "outputs": [
    {
     "data": {
      "text/plain": [
       "#<Drug @values={:id=>2, :name=>\"ibuprofen\", :atc=>\"M01AE01\"}>"
      ]
     },
     "execution_count": 78,
     "metadata": {},
     "output_type": "execute_result"
    }
   ],
   "source": [
    "Drug.create(name: \"ibuprofen\", atc: \"M01AE01\")"
   ]
  },
  {
   "cell_type": "code",
   "execution_count": 79,
   "metadata": {},
   "outputs": [
    {
     "data": {
      "text/plain": [
       "#<Drug @values={:id=>1, :name=>\"Paracetamol\", :atc=>\"N02BE01\"}>"
      ]
     },
     "execution_count": 79,
     "metadata": {},
     "output_type": "execute_result"
    }
   ],
   "source": [
    "Report[1].add_drug(Drug[1])"
   ]
  },
  {
   "cell_type": "code",
   "execution_count": 81,
   "metadata": {},
   "outputs": [
    {
     "data": {
      "text/plain": [
       "[#<Drug @values={:id=>1, :name=>\"Paracetamol\", :atc=>\"N02BE01\"}>]"
      ]
     },
     "execution_count": 81,
     "metadata": {},
     "output_type": "execute_result"
    }
   ],
   "source": [
    "Report[1].drugs"
   ]
  },
  {
   "cell_type": "code",
   "execution_count": 82,
   "metadata": {},
   "outputs": [
    {
     "data": {
      "text/plain": [
       "#<Report @values={:id=>1, :date=>#<Date: 2020-03-23 ((2458932j,0s,0n),+0s,2299161j)>}>"
      ]
     },
     "execution_count": 82,
     "metadata": {},
     "output_type": "execute_result"
    }
   ],
   "source": [
    "Drug[2].add_report(Report[1])"
   ]
  },
  {
   "cell_type": "code",
   "execution_count": 83,
   "metadata": {},
   "outputs": [
    {
     "data": {
      "text/plain": [
       "[#<Drug @values={:id=>1, :name=>\"Paracetamol\", :atc=>\"N02BE01\"}>, #<Drug @values={:id=>2, :name=>\"ibuprofen\", :atc=>\"M01AE01\"}>]"
      ]
     },
     "execution_count": 83,
     "metadata": {},
     "output_type": "execute_result"
    }
   ],
   "source": [
    "Report[1].drugs"
   ]
  },
  {
   "cell_type": "markdown",
   "metadata": {},
   "source": [
    "Python Alternative for OBJECT RELATIONAL MAPPING (ORM): <a href=\"https://www.sqlalchemy.org/\">SQLAlchemy</a>"
   ]
  }
 ],
 "metadata": {
  "kernelspec": {
   "display_name": "Ruby 2.5.1",
   "language": "ruby",
   "name": "ruby"
  },
  "language_info": {
   "file_extension": ".rb",
   "mimetype": "application/x-ruby",
   "name": "ruby",
   "version": "2.5.1"
  }
 },
 "nbformat": 4,
 "nbformat_minor": 2
}
