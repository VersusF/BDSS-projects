{
 "cells": [
  {
   "cell_type": "markdown",
   "metadata": {},
   "source": [
    "# Compute the PRR for a given pair drug-adverse reaction"
   ]
  },
  {
   "cell_type": "code",
   "execution_count": 1,
   "metadata": {},
   "outputs": [
    {
     "data": {
      "text/plain": [
       "true"
      ]
     },
     "execution_count": 1,
     "metadata": {},
     "output_type": "execute_result"
    }
   ],
   "source": [
    "require 'pg'"
   ]
  },
  {
   "cell_type": "code",
   "execution_count": 2,
   "metadata": {},
   "outputs": [
    {
     "data": {
      "text/plain": [
       "#<PG::Connection:0x000056533b909f68>"
      ]
     },
     "execution_count": 2,
     "metadata": {},
     "output_type": "execute_result"
    }
   ],
   "source": [
    "conn = PG::Connection.open(host: \"postgres\", \n",
    "                      port: 5432, \n",
    "                      user: \"postgres\",\n",
    "                      password: \"mysecretpassword\",\n",
    "                      dbname: \"adr\")"
   ]
  },
  {
   "cell_type": "markdown",
   "metadata": {},
   "source": [
    "Retrieve All the Drug/Reaction pairs with count"
   ]
  },
  {
   "cell_type": "code",
   "execution_count": 4,
   "metadata": {},
   "outputs": [],
   "source": [
    "query = \n",
    "\"SELECT D.name AS drug, A.name_en AS reaction, count(*) AS n\n",
    "FROM \n",
    "mpd.pharmaceutical_products AS D\n",
    "JOIN \n",
    "mpd.medicinal_products AS BD\n",
    "ON \n",
    "D.id = BD.pharmaceutical_product_id \n",
    "JOIN\n",
    "reports.treatments  AS T\n",
    "ON \n",
    "BD.id = T.mpd_medicinal_product_id\n",
    "JOIN \n",
    "reports.reports  AS R\n",
    "ON \n",
    "T.report_id = R.id\n",
    "JOIN \n",
    "reports.meddra_adrs AS M\n",
    "ON \n",
    "R.id = M.report_id\n",
    "JOIN \n",
    "meddra.low_level_terms AS A\n",
    "ON\n",
    "A.id  = M.meddra_low_level_term_id\n",
    "GROUP BY D.name, A.name_en\n",
    "ORDER BY count(*) DESC\"\n",
    "\n",
    "nil"
   ]
  },
  {
   "cell_type": "markdown",
   "metadata": {},
   "source": [
    "Exercise: add ATC code to the results above si the structure become (drug, reaction, ATC, n)"
   ]
  },
  {
   "cell_type": "code",
   "execution_count": null,
   "metadata": {},
   "outputs": [],
   "source": [
    "r = conn.exec(query)"
   ]
  },
  {
   "cell_type": "code",
   "execution_count": 14,
   "metadata": {},
   "outputs": [
    {
     "data": {
      "text/plain": [
       "#<PG::Result:0x000056533be64e40 status=PGRES_TUPLES_OK ntuples=311964 nfields=3 cmd_tuples=311964>"
      ]
     },
     "execution_count": 14,
     "metadata": {},
     "output_type": "execute_result"
    }
   ],
   "source": [
    "adrs = []; r.each{|row| row[\"n\"]= row[\"n\"].to_i; adrs.push(row) } "
   ]
  },
  {
   "cell_type": "code",
   "execution_count": 15,
   "metadata": {},
   "outputs": [
    {
     "data": {
      "text/plain": [
       "{\"drug\"=>\"WARFARIN SODICO\", \"reaction\"=>\"Epistaxis\", \"n\"=>2036}"
      ]
     },
     "execution_count": 15,
     "metadata": {},
     "output_type": "execute_result"
    }
   ],
   "source": [
    "adrs[0]"
   ]
  },
  {
   "cell_type": "code",
   "execution_count": 16,
   "metadata": {},
   "outputs": [
    {
     "data": {
      "text/plain": [
       "[\"WARFARIN SODICO\", \"Epistaxis\", 2036]"
      ]
     },
     "execution_count": 16,
     "metadata": {},
     "output_type": "execute_result"
    }
   ],
   "source": [
    "drug, reaction, a = adrs[0][\"drug\"], adrs[0][\"reaction\"], adrs[0][\"n\"]"
   ]
  },
  {
   "cell_type": "code",
   "execution_count": 20,
   "metadata": {},
   "outputs": [
    {
     "data": {
      "text/plain": [
       "18959"
      ]
     },
     "execution_count": 20,
     "metadata": {},
     "output_type": "execute_result"
    }
   ],
   "source": [
    "c = adrs.select do |tuple| \n",
    "                      tuple[\"drug\"] == drug && \n",
    "                      tuple[\"reaction\"] != reaction \n",
    "                end.map{|tuple| tuple[\"n\"] }.reduce(:+)"
   ]
  },
  {
   "cell_type": "markdown",
   "metadata": {},
   "source": [
    "Exercise: compute b and d in an anlogous way"
   ]
  },
  {
   "cell_type": "code",
   "execution_count": null,
   "metadata": {},
   "outputs": [],
   "source": []
  }
 ],
 "metadata": {
  "kernelspec": {
   "display_name": "Ruby 2.5.1",
   "language": "ruby",
   "name": "ruby"
  },
  "language_info": {
   "file_extension": ".rb",
   "mimetype": "application/x-ruby",
   "name": "ruby",
   "version": "2.5.1"
  }
 },
 "nbformat": 4,
 "nbformat_minor": 4
}
