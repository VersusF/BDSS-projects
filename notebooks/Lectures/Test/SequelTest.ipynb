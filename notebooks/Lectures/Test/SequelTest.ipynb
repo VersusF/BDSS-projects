{
 "cells": [
  {
   "cell_type": "markdown",
   "metadata": {},
   "source": [
    "# Sequel test\n",
    "\n",
    "Salve prof. Ho dei dubbi con Sequel in particolare con la parte di ORM. Ho scritto questo notebook di prova per fare dei test su due tabelle semplici prima di lavorare su MIMIC-III.\n",
    "\n",
    "La parte di connessione e di creazione di tabelle funziona bene"
   ]
  },
  {
   "cell_type": "code",
   "execution_count": 1,
   "metadata": {},
   "outputs": [
    {
     "data": {
      "text/plain": [
       "#<Sequel::Postgres::Database: {:adapter=>\"postgres\", :host=>\"postgres\", :user=>\"postgres\", :database=>\"test\", :password=>\"password\"}>"
      ]
     },
     "execution_count": 1,
     "metadata": {},
     "output_type": "execute_result"
    }
   ],
   "source": [
    "require 'sequel'\n",
    "PG_DB = Sequel.connect(adapter: 'postgres', \n",
    "                    host: 'postgres', \n",
    "                    user: 'postgres',\n",
    "                    database: 'test',\n",
    "                    password: 'password')"
   ]
  },
  {
   "cell_type": "code",
   "execution_count": 2,
   "metadata": {},
   "outputs": [],
   "source": [
    "PG_DB.create_table(:campanili) do\n",
    "  primary_key :id\n",
    "  String :nome\n",
    "end"
   ]
  },
  {
   "cell_type": "code",
   "execution_count": 3,
   "metadata": {},
   "outputs": [],
   "source": [
    "PG_DB.create_table(:campane) do\n",
    "  primary_key :id\n",
    "  Integer :numero\n",
    "  Float :peso\n",
    "  foreign_key :id_campanile, :campanili\n",
    "end"
   ]
  },
  {
   "cell_type": "markdown",
   "metadata": {},
   "source": [
    "## Model\n",
    "\n",
    "Qui creo le due classi. Un campanile ha più campane, quindi one_to_many verso `campane`, in cui la chiave primaria "
   ]
  },
  {
   "cell_type": "code",
   "execution_count": 14,
   "metadata": {},
   "outputs": [],
   "source": [
    "Object.send(:remove_const, :Campana) if defined? (Campana)\n",
    "Object.send(:remove_const, :Campanile) if defined? (Campanile)\n",
    "\n",
    "class Campanile < Sequel::Model(PG_DB[:campanili])\n",
    "  one_to_many :campane, key: :id_campanile, class: :Campana\n",
    "end\n",
    "\n",
    "class Campana < Sequel::Model(PG_DB[:campane])\n",
    "  many_to_one :campanili, key: :id_campanile, class: :Campanile\n",
    "end\n",
    "\n",
    "nil"
   ]
  },
  {
   "cell_type": "code",
   "execution_count": 6,
   "metadata": {},
   "outputs": [
    {
     "data": {
      "text/plain": [
       "#<Campanile @values={:id=>1, :nome=>\"Oppeano\"}>"
      ]
     },
     "execution_count": 6,
     "metadata": {},
     "output_type": "execute_result"
    }
   ],
   "source": [
    "Campanile.create(nome: 'Oppeano')"
   ]
  },
  {
   "cell_type": "code",
   "execution_count": 16,
   "metadata": {},
   "outputs": [
    {
     "data": {
      "text/plain": [
       "#<Campana @values={:id=>1, :numero=>9, :peso=>591.5, :id_campanile=>1}>"
      ]
     },
     "execution_count": 16,
     "metadata": {},
     "output_type": "execute_result"
    }
   ],
   "source": [
    "Campanile.first.add_campane(peso: 591.5, numero: 9)"
   ]
  },
  {
   "cell_type": "code",
   "execution_count": 19,
   "metadata": {},
   "outputs": [
    {
     "data": {
      "text/plain": [
       "#<Campana @values={:id=>1, :numero=>9, :peso=>591.5, :id_campanile=>1}>"
      ]
     },
     "execution_count": 19,
     "metadata": {},
     "output_type": "execute_result"
    }
   ],
   "source": [
    "Campanile.first.campane.first.camp"
   ]
  },
  {
   "cell_type": "code",
   "execution_count": null,
   "metadata": {},
   "outputs": [],
   "source": []
  }
 ],
 "metadata": {
  "kernelspec": {
   "display_name": "Ruby 2.5.1",
   "language": "ruby",
   "name": "ruby"
  },
  "language_info": {
   "file_extension": ".rb",
   "mimetype": "application/x-ruby",
   "name": "ruby",
   "version": "2.5.1"
  }
 },
 "nbformat": 4,
 "nbformat_minor": 4
}
