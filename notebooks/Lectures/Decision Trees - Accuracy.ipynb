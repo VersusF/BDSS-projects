{
 "cells": [
  {
   "cell_type": "code",
   "execution_count": 1,
   "metadata": {},
   "outputs": [
    {
     "name": "stderr",
     "output_type": "stream",
     "text": [
      "/opt/conda/lib/python3.7/site-packages/sklearn/externals/six.py:31: FutureWarning: The module is deprecated in version 0.21 and will be removed in version 0.23 since we've dropped support for Python 2.7. Please rely on the official version of six (https://pypi.org/project/six/).\n",
      "  \"(https://pypi.org/project/six/).\", FutureWarning)\n"
     ]
    }
   ],
   "source": [
    "import pandas as pd\n",
    "from sklearn.tree import DecisionTreeClassifier\n",
    "from sklearn import preprocessing\n",
    "import numpy as np\n",
    "\n",
    "# Visualization\n",
    "from sklearn.externals.six import StringIO  \n",
    "from IPython.display import Image  \n",
    "from sklearn.tree import export_graphviz\n",
    "import pydotplus"
   ]
  },
  {
   "cell_type": "code",
   "execution_count": 2,
   "metadata": {},
   "outputs": [],
   "source": [
    "col_names = [\"classification\",\n",
    "             \"age\" ,\n",
    "             \"menopause\" ,\n",
    "             \"tumor-size\",\n",
    "             \"inv-nodes\",\n",
    "             \"node-caps\" ,\n",
    "             \"deg-malig\" ,\n",
    "             \"breast\" ,\n",
    "             \"breast-quad\" ,\n",
    "             \"irradiat\"]\n",
    "feature_names = [ \"age\" ,\n",
    "              \"menopause\" ,\n",
    "             \"tumor-size\",\n",
    "             \"inv-nodes\",\n",
    "             \"node-caps\" ,\n",
    "             \"deg-malig\" ,\n",
    "             \"breast\" ,\n",
    "             \"breast-quad\" ,\n",
    "             \"irradiat\"]"
   ]
  },
  {
   "cell_type": "code",
   "execution_count": 3,
   "metadata": {},
   "outputs": [],
   "source": [
    "ds = pd.read_csv(\"../Datasets/breast-cancer.data\", header=None, names=col_names)"
   ]
  },
  {
   "cell_type": "code",
   "execution_count": 4,
   "metadata": {},
   "outputs": [
    {
     "data": {
      "text/html": [
       "<div>\n",
       "<style scoped>\n",
       "    .dataframe tbody tr th:only-of-type {\n",
       "        vertical-align: middle;\n",
       "    }\n",
       "\n",
       "    .dataframe tbody tr th {\n",
       "        vertical-align: top;\n",
       "    }\n",
       "\n",
       "    .dataframe thead th {\n",
       "        text-align: right;\n",
       "    }\n",
       "</style>\n",
       "<table border=\"1\" class=\"dataframe\">\n",
       "  <thead>\n",
       "    <tr style=\"text-align: right;\">\n",
       "      <th></th>\n",
       "      <th>classification</th>\n",
       "      <th>age</th>\n",
       "      <th>menopause</th>\n",
       "      <th>tumor-size</th>\n",
       "      <th>inv-nodes</th>\n",
       "      <th>node-caps</th>\n",
       "      <th>deg-malig</th>\n",
       "      <th>breast</th>\n",
       "      <th>breast-quad</th>\n",
       "      <th>irradiat</th>\n",
       "    </tr>\n",
       "  </thead>\n",
       "  <tbody>\n",
       "    <tr>\n",
       "      <th>0</th>\n",
       "      <td>no-recurrence-events</td>\n",
       "      <td>30-39</td>\n",
       "      <td>premeno</td>\n",
       "      <td>30-34</td>\n",
       "      <td>0-2</td>\n",
       "      <td>no</td>\n",
       "      <td>3</td>\n",
       "      <td>left</td>\n",
       "      <td>left_low</td>\n",
       "      <td>no</td>\n",
       "    </tr>\n",
       "    <tr>\n",
       "      <th>1</th>\n",
       "      <td>no-recurrence-events</td>\n",
       "      <td>40-49</td>\n",
       "      <td>premeno</td>\n",
       "      <td>20-24</td>\n",
       "      <td>0-2</td>\n",
       "      <td>no</td>\n",
       "      <td>2</td>\n",
       "      <td>right</td>\n",
       "      <td>right_up</td>\n",
       "      <td>no</td>\n",
       "    </tr>\n",
       "    <tr>\n",
       "      <th>2</th>\n",
       "      <td>no-recurrence-events</td>\n",
       "      <td>40-49</td>\n",
       "      <td>premeno</td>\n",
       "      <td>20-24</td>\n",
       "      <td>0-2</td>\n",
       "      <td>no</td>\n",
       "      <td>2</td>\n",
       "      <td>left</td>\n",
       "      <td>left_low</td>\n",
       "      <td>no</td>\n",
       "    </tr>\n",
       "    <tr>\n",
       "      <th>3</th>\n",
       "      <td>no-recurrence-events</td>\n",
       "      <td>60-69</td>\n",
       "      <td>ge40</td>\n",
       "      <td>15-19</td>\n",
       "      <td>0-2</td>\n",
       "      <td>no</td>\n",
       "      <td>2</td>\n",
       "      <td>right</td>\n",
       "      <td>left_up</td>\n",
       "      <td>no</td>\n",
       "    </tr>\n",
       "    <tr>\n",
       "      <th>4</th>\n",
       "      <td>no-recurrence-events</td>\n",
       "      <td>40-49</td>\n",
       "      <td>premeno</td>\n",
       "      <td>0-4</td>\n",
       "      <td>0-2</td>\n",
       "      <td>no</td>\n",
       "      <td>2</td>\n",
       "      <td>right</td>\n",
       "      <td>right_low</td>\n",
       "      <td>no</td>\n",
       "    </tr>\n",
       "  </tbody>\n",
       "</table>\n",
       "</div>"
      ],
      "text/plain": [
       "         classification    age menopause tumor-size inv-nodes node-caps  \\\n",
       "0  no-recurrence-events  30-39   premeno      30-34       0-2        no   \n",
       "1  no-recurrence-events  40-49   premeno      20-24       0-2        no   \n",
       "2  no-recurrence-events  40-49   premeno      20-24       0-2        no   \n",
       "3  no-recurrence-events  60-69      ge40      15-19       0-2        no   \n",
       "4  no-recurrence-events  40-49   premeno        0-4       0-2        no   \n",
       "\n",
       "   deg-malig breast breast-quad irradiat  \n",
       "0          3   left    left_low       no  \n",
       "1          2  right    right_up       no  \n",
       "2          2   left    left_low       no  \n",
       "3          2  right     left_up       no  \n",
       "4          2  right   right_low       no  "
      ]
     },
     "execution_count": 4,
     "metadata": {},
     "output_type": "execute_result"
    }
   ],
   "source": [
    "ds.head()"
   ]
  },
  {
   "cell_type": "code",
   "execution_count": 5,
   "metadata": {},
   "outputs": [],
   "source": [
    "ds[\"deg-malig\"] = ds[\"deg-malig\"].astype('category')"
   ]
  },
  {
   "cell_type": "code",
   "execution_count": 6,
   "metadata": {},
   "outputs": [
    {
     "data": {
      "text/plain": [
       "{'ge40', 'lt40', 'premeno'}"
      ]
     },
     "execution_count": 6,
     "metadata": {},
     "output_type": "execute_result"
    }
   ],
   "source": [
    "set(ds[\"menopause\"].values)"
   ]
  },
  {
   "cell_type": "code",
   "execution_count": 7,
   "metadata": {},
   "outputs": [
    {
     "data": {
      "text/plain": [
       "array(['age_20-29', 'age_30-39', 'age_40-49', 'age_50-59', 'age_60-69',\n",
       "       'age_70-79', 'menopause_ge40', 'menopause_lt40',\n",
       "       'menopause_premeno', 'tumor-size_0-4', 'tumor-size_10-14',\n",
       "       'tumor-size_15-19', 'tumor-size_20-24', 'tumor-size_25-29',\n",
       "       'tumor-size_30-34', 'tumor-size_35-39', 'tumor-size_40-44',\n",
       "       'tumor-size_45-49', 'tumor-size_5-9', 'tumor-size_50-54',\n",
       "       'inv-nodes_0-2', 'inv-nodes_12-14', 'inv-nodes_15-17',\n",
       "       'inv-nodes_24-26', 'inv-nodes_3-5', 'inv-nodes_6-8',\n",
       "       'inv-nodes_9-11', 'node-caps_?', 'node-caps_no', 'node-caps_yes',\n",
       "       'deg-malig_1', 'deg-malig_2', 'deg-malig_3', 'breast_left',\n",
       "       'breast_right', 'breast-quad_?', 'breast-quad_central',\n",
       "       'breast-quad_left_low', 'breast-quad_left_up',\n",
       "       'breast-quad_right_low', 'breast-quad_right_up', 'irradiat_no',\n",
       "       'irradiat_yes'], dtype=object)"
      ]
     },
     "execution_count": 7,
     "metadata": {},
     "output_type": "execute_result"
    }
   ],
   "source": [
    "one_hot_feature_names = pd.get_dummies(ds[feature_names]).columns.values\n",
    "one_hot_feature_names"
   ]
  },
  {
   "cell_type": "code",
   "execution_count": 8,
   "metadata": {},
   "outputs": [],
   "source": [
    "enc = preprocessing.OneHotEncoder()\n",
    "enc.fit(ds[feature_names])\n",
    "FEATURES = enc.transform(ds[feature_names]).toarray()"
   ]
  },
  {
   "cell_type": "code",
   "execution_count": 9,
   "metadata": {},
   "outputs": [
    {
     "data": {
      "text/plain": [
       "array([[0., 1., 0., ..., 0., 1., 0.],\n",
       "       [0., 0., 1., ..., 1., 1., 0.],\n",
       "       [0., 0., 1., ..., 0., 1., 0.],\n",
       "       ...,\n",
       "       [0., 0., 0., ..., 0., 1., 0.],\n",
       "       [0., 0., 1., ..., 0., 1., 0.],\n",
       "       [0., 0., 0., ..., 0., 1., 0.]])"
      ]
     },
     "execution_count": 9,
     "metadata": {},
     "output_type": "execute_result"
    }
   ],
   "source": [
    "FEATURES"
   ]
  },
  {
   "cell_type": "code",
   "execution_count": 10,
   "metadata": {},
   "outputs": [],
   "source": [
    "le = preprocessing.LabelEncoder().fit(ds[\"classification\"])"
   ]
  },
  {
   "cell_type": "code",
   "execution_count": 11,
   "metadata": {},
   "outputs": [],
   "source": [
    "LABELS = le.transform(ds[\"classification\"])"
   ]
  },
  {
   "cell_type": "code",
   "execution_count": 12,
   "metadata": {},
   "outputs": [
    {
     "data": {
      "text/plain": [
       "array([0, 0, 0, 0, 0, 0, 0, 0, 0, 0, 0, 0, 0, 0, 0, 0, 0, 0, 0, 0, 0, 0,\n",
       "       0, 0, 0, 0, 0, 0, 0, 0, 0, 0, 0, 0, 0, 0, 0, 0, 0, 0, 0, 0, 0, 0,\n",
       "       0, 0, 0, 0, 0, 0, 0, 0, 0, 0, 0, 0, 0, 0, 0, 0, 0, 0, 0, 0, 0, 0,\n",
       "       0, 0, 0, 0, 0, 0, 0, 0, 0, 0, 0, 0, 0, 0, 0, 0, 0, 0, 0, 0, 0, 0,\n",
       "       0, 0, 0, 0, 0, 0, 0, 0, 0, 0, 0, 0, 0, 0, 0, 0, 0, 0, 0, 0, 0, 0,\n",
       "       0, 0, 0, 0, 0, 0, 0, 0, 0, 0, 0, 0, 0, 0, 0, 0, 0, 0, 0, 0, 0, 0,\n",
       "       0, 0, 0, 0, 0, 0, 0, 0, 0, 0, 0, 0, 0, 0, 0, 0, 0, 0, 0, 0, 0, 0,\n",
       "       0, 0, 0, 0, 0, 0, 0, 0, 0, 0, 0, 0, 0, 0, 0, 0, 0, 0, 0, 0, 0, 0,\n",
       "       0, 0, 0, 0, 0, 0, 0, 0, 0, 0, 0, 0, 0, 0, 0, 0, 0, 0, 0, 0, 0, 0,\n",
       "       0, 0, 0, 1, 1, 1, 1, 1, 1, 1, 1, 1, 1, 1, 1, 1, 1, 1, 1, 1, 1, 1,\n",
       "       1, 1, 1, 1, 1, 1, 1, 1, 1, 1, 1, 1, 1, 1, 1, 1, 1, 1, 1, 1, 1, 1,\n",
       "       1, 1, 1, 1, 1, 1, 1, 1, 1, 1, 1, 1, 1, 1, 1, 1, 1, 1, 1, 1, 1, 1,\n",
       "       1, 1, 1, 1, 1, 1, 1, 1, 1, 1, 1, 1, 1, 1, 1, 1, 1, 1, 1, 1, 1, 1])"
      ]
     },
     "execution_count": 12,
     "metadata": {},
     "output_type": "execute_result"
    }
   ],
   "source": [
    "LABELS"
   ]
  },
  {
   "cell_type": "code",
   "execution_count": null,
   "metadata": {},
   "outputs": [
    {
     "name": "stdout",
     "output_type": "stream",
     "text": [
      "max_depth set to 1\n",
      "best_max_depth (accuracy) 1\n",
      "best_min_samples_split (accuracy) 2\n",
      "best_criterion (accuracy) gini\n",
      "best ACCURACY so far 0.7202797202797202\n",
      "sensitivity: 0.5294117647058824\n",
      "best_max_depth (sensitivity) 1\n",
      "best_min_samples_split (sensitivity) 2\n",
      "best_criterion (accuracy) gini\n",
      "best SENSITIVITY so far 0.5294117647058824\n",
      "accuracy: 0.7202797202797202\n",
      "max_depth set to 2\n",
      "best_max_depth (accuracy) 2\n",
      "best_min_samples_split (accuracy) 2\n",
      "best_criterion (accuracy) gini\n",
      "best ACCURACY so far 0.7272727272727273\n",
      "sensitivity: 0.24705882352941178\n",
      "best_max_depth (accuracy) 2\n",
      "best_min_samples_split (accuracy) 2\n",
      "best_criterion (accuracy) entropy\n",
      "best ACCURACY so far 0.7342657342657343\n",
      "sensitivity: 0.24705882352941178\n"
     ]
    }
   ],
   "source": [
    "#hyperparameters criterion min_samples_split max_depth \n",
    "\n",
    "\n",
    "N = len(FEATURES)\n",
    "best_accuracy = 0\n",
    "best_sensitivity = 0\n",
    "for p_max_depth in range(1, N):\n",
    "    print (\"max_depth set to \" + str(p_max_depth))\n",
    "    for p_min_samples_split in range(2,N):\n",
    "        for p_criterion in [\"gini\", \"entropy\"]:\n",
    "            misses = np.array([])\n",
    "            true_positive   = np.array([])\n",
    "            true_negative   = np.array([])\n",
    "            false_positive  = np.array([])\n",
    "            false_negative  = np.array([])\n",
    "            for i in range(0,N):\n",
    "                if i == 0:\n",
    "                    indexes = np.array(range(1,N))\n",
    "                elif i < len(FEATURES) - 1:\n",
    "                    indexes = np.append(np.array(range(0,i)), np.array(range(i + 1,N)))\n",
    "                else:\n",
    "                    indexes = np.array(range(0,N - 1))\n",
    "                    \n",
    "                dt = DecisionTreeClassifier(criterion=p_criterion, \n",
    "                                            max_depth= p_max_depth, \n",
    "                                            min_samples_split = p_min_samples_split)    \n",
    "                \n",
    "                dt = dt.fit(FEATURES[indexes], LABELS[indexes])  \n",
    "                if dt.predict(FEATURES[i].reshape(1,-1))[0] != LABELS[i]:\n",
    "                    misses = np.append(misses, np.array([i]))\n",
    "                    if LABELS[i] == 0: # here we predicted 1 and the class is 0\n",
    "                        false_positive = np.append(false_positive, np.array([i]))\n",
    "                    else: # here we predicted 0 and the class is 1\n",
    "                        false_negative = np.append(false_negative, np.array([i]))  \n",
    "                else:\n",
    "                    if LABELS[i] == 0:\n",
    "                        true_negative = np.append(true_negative, np.array([i]))\n",
    "                    else:    \n",
    "                        true_positive = np.append(true_positive, np.array([i]))\n",
    "            accuracy = 1 - (len(misses)/N)\n",
    "            sensitivity = len(true_positive) / ( len(true_positive) + len(false_negative) )            \n",
    "            if best_accuracy < accuracy:    \n",
    "                best_accuracy = accuracy\n",
    "                best_min_samples_split_acc = p_min_samples_split\n",
    "                best_max_depth_acc = p_max_depth\n",
    "                best_criterion_acc = p_criterion\n",
    "                print(\"best_max_depth (accuracy) \" + str(best_max_depth_acc))\n",
    "                print(\"best_min_samples_split (accuracy) \" + str(best_min_samples_split_acc))\n",
    "                print(\"best_criterion (accuracy) \" + best_criterion_acc)\n",
    "                print(\"best ACCURACY so far \" + str(best_accuracy))\n",
    "                print(\"sensitivity: \" + str(sensitivity))\n",
    "            if best_sensitivity < sensitivity:    \n",
    "                best_sensitivity = sensitivity\n",
    "                best_min_samples_split_sen = p_min_samples_split\n",
    "                best_max_depth_sen = p_max_depth\n",
    "                best_criterion_sen = p_criterion\n",
    "                print(\"best_max_depth (sensitivity) \" + str(best_max_depth_sen))\n",
    "                print(\"best_min_samples_split (sensitivity) \" + str(best_min_samples_split_sen))\n",
    "                print(\"best_criterion (accuracy) \" + best_criterion_sen)\n",
    "                print(\"best SENSITIVITY so far \" + str(best_sensitivity))\n",
    "                print(\"accuracy: \" + str(accuracy))   \n",
    "        \n",
    "    \n",
    "            \n",
    "#print(len(misses)/N) \n",
    "#print(1 - (len(misses)/N)) \n",
    "\n",
    "        \n",
    "    "
   ]
  },
  {
   "cell_type": "code",
   "execution_count": null,
   "metadata": {},
   "outputs": [],
   "source": [
    "dt = DecisionTreeClassifier(criterion=p_criterion, \n",
    "                                max_depth= best_max_depth, \n",
    "                                min_samples_split = best_min_samples_split) \n",
    "dt = dt.fit(FEATURES, LABELS)\n",
    "dot_data = StringIO()\n",
    "export_graphviz(dt, out_file=dot_data,  \n",
    "                filled=True, rounded=True,\n",
    "                special_characters=True, feature_names = one_hot_feature_names, class_names=[\"no-recurrence-events\", \"RECURRENCE-EVENTS\"])\n",
    "graph = pydotplus.graph_from_dot_data(dot_data.getvalue())  \n",
    "graph.write_png('dt.png')\n",
    "Image(graph.create_png())"
   ]
  },
  {
   "cell_type": "code",
   "execution_count": null,
   "metadata": {},
   "outputs": [],
   "source": []
  }
 ],
 "metadata": {
  "kernelspec": {
   "display_name": "Python 3",
   "language": "python",
   "name": "python3"
  },
  "language_info": {
   "codemirror_mode": {
    "name": "ipython",
    "version": 3
   },
   "file_extension": ".py",
   "mimetype": "text/x-python",
   "name": "python",
   "nbconvert_exporter": "python",
   "pygments_lexer": "ipython3",
   "version": "3.7.6"
  }
 },
 "nbformat": 4,
 "nbformat_minor": 4
}
