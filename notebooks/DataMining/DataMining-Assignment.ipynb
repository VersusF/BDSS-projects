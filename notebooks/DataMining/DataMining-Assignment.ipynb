{
 "cells": [
  {
   "cell_type": "markdown",
   "metadata": {},
   "source": [
    "# Data mining assignment"
   ]
  },
  {
   "cell_type": "code",
   "execution_count": 1,
   "metadata": {},
   "outputs": [
    {
     "name": "stderr",
     "output_type": "stream",
     "text": [
      "/opt/conda/lib/python3.7/site-packages/sklearn/externals/six.py:31: FutureWarning: The module is deprecated in version 0.21 and will be removed in version 0.23 since we've dropped support for Python 2.7. Please rely on the official version of six (https://pypi.org/project/six/).\n",
      "  \"(https://pypi.org/project/six/).\", FutureWarning)\n"
     ]
    }
   ],
   "source": [
    "import pandas as pd\n",
    "from sklearn.tree import DecisionTreeClassifier\n",
    "from sklearn import preprocessing\n",
    "import numpy as np\n",
    "import collections\n",
    "import random\n",
    "# Visualization\n",
    "from sklearn.externals.six import StringIO  \n",
    "from IPython.display import Image  \n",
    "from sklearn.tree import export_graphviz\n",
    "import pydotplus\n",
    "from sklearn.metrics import confusion_matrix\n",
    "import matplotlib.pyplot as plt\n",
    "from sklearn.metrics import plot_confusion_matrix"
   ]
  },
  {
   "cell_type": "markdown",
   "metadata": {},
   "source": [
    "## Exceptions"
   ]
  },
  {
   "cell_type": "code",
   "execution_count": 82,
   "metadata": {},
   "outputs": [],
   "source": [
    "class UnknownClassifier(Exception):\n",
    "    def __init__(self):\n",
    "        super().__init__('Unknown classifier name')"
   ]
  },
  {
   "cell_type": "markdown",
   "metadata": {},
   "source": [
    "## Dataset split"
   ]
  },
  {
   "cell_type": "code",
   "execution_count": 66,
   "metadata": {},
   "outputs": [],
   "source": [
    "def split_dataset(N, ratio):\n",
    "    indexes = [i for i in range(N)]\n",
    "    limit = int(N * ratio)\n",
    "    # 3N scambi casuali\n",
    "    for i in range(3*N):\n",
    "        a = random.randrange(N)\n",
    "        b = random.randrange(N)\n",
    "        indexes[a], indexes[b] = indexes[b], indexes[a]\n",
    "    return indexes[limit:], indexes[:limit]"
   ]
  },
  {
   "cell_type": "markdown",
   "metadata": {},
   "source": [
    "## Classifiers creation"
   ]
  },
  {
   "cell_type": "code",
   "execution_count": 87,
   "metadata": {},
   "outputs": [],
   "source": [
    "def create_dt(parameters):\n",
    "    return DecisionTreeClassifier(parameters)"
   ]
  },
  {
   "cell_type": "code",
   "execution_count": 88,
   "metadata": {},
   "outputs": [],
   "source": [
    "def create_svc(parameters):\n",
    "    return None"
   ]
  },
  {
   "cell_type": "code",
   "execution_count": 90,
   "metadata": {},
   "outputs": [],
   "source": [
    "def create_classifier(name, parameters):\n",
    "    if name == 'DecisionTree':\n",
    "        return create_dt(parameters)\n",
    "    elif name == 'SVC':\n",
    "        return create_svc(parameters)\n",
    "    else:\n",
    "        raise UnknownClassifier()"
   ]
  },
  {
   "cell_type": "markdown",
   "metadata": {},
   "source": [
    "## Main functions"
   ]
  },
  {
   "cell_type": "code",
   "execution_count": 94,
   "metadata": {},
   "outputs": [],
   "source": [
    "def train(\n",
    "        dataset, \n",
    "        class_attribute, \n",
    "        test_set_ratio, \n",
    "        positive_values,\n",
    "        target_metrics,\n",
    "        select_threshold,\n",
    "        max_number,\n",
    "        classifier_list\n",
    "    ):\n",
    "    ds_train, ds_test = split_dataset(len(dataset), test_set_ratio)\n",
    "    classifiers = []\n",
    "    for classifier_spec in classifier_list:\n",
    "        classifiers.append(create_classifier(classifier_spec[0], classifier_spec[1]))\n",
    "    return classifiers"
   ]
  },
  {
   "cell_type": "code",
   "execution_count": 92,
   "metadata": {},
   "outputs": [],
   "source": [
    "def predict(instance, classifiers):\n",
    "    pass"
   ]
  },
  {
   "cell_type": "code",
   "execution_count": 95,
   "metadata": {},
   "outputs": [],
   "source": [
    "classifiers = train(\n",
    "    range(0,100), \n",
    "    None, \n",
    "    0.3, \n",
    "    None, \n",
    "    None, \n",
    "    None, \n",
    "    None, \n",
    "    [\n",
    "        ['DecisionTree', {'max_depth': 5, 'criterion': 'entropy'}],\n",
    "        ['DecisionTree', {'min_samples_split': 25, 'max_features': 10, 'criterion': 'gini'}],\n",
    "        ['SVC', {'kernel': 'rbf', 'degree': 9}]\n",
    "    ])"
   ]
  },
  {
   "cell_type": "code",
   "execution_count": 96,
   "metadata": {},
   "outputs": [
    {
     "data": {
      "text/plain": [
       "[DecisionTreeClassifier(ccp_alpha=0.0, class_weight=None,\n",
       "                        criterion={'criterion': 'entropy', 'max_depth': 5},\n",
       "                        max_depth=None, max_features=None, max_leaf_nodes=None,\n",
       "                        min_impurity_decrease=0.0, min_impurity_split=None,\n",
       "                        min_samples_leaf=1, min_samples_split=2,\n",
       "                        min_weight_fraction_leaf=0.0, presort='deprecated',\n",
       "                        random_state=None, splitter='best'),\n",
       " DecisionTreeClassifier(ccp_alpha=0.0, class_weight=None,\n",
       "                        criterion={'criterion': 'gini', 'max_features': 10,\n",
       "                                   'min_samples_split': 25},\n",
       "                        max_depth=None, max_features=None, max_leaf_nodes=None,\n",
       "                        min_impurity_decrease=0.0, min_impurity_split=None,\n",
       "                        min_samples_leaf=1, min_samples_split=2,\n",
       "                        min_weight_fraction_leaf=0.0, presort='deprecated',\n",
       "                        random_state=None, splitter='best'),\n",
       " None]"
      ]
     },
     "execution_count": 96,
     "metadata": {},
     "output_type": "execute_result"
    }
   ],
   "source": [
    "classifiers"
   ]
  }
 ],
 "metadata": {
  "kernelspec": {
   "display_name": "Python 3",
   "language": "python",
   "name": "python3"
  },
  "language_info": {
   "codemirror_mode": {
    "name": "ipython",
    "version": 3
   },
   "file_extension": ".py",
   "mimetype": "text/x-python",
   "name": "python",
   "nbconvert_exporter": "python",
   "pygments_lexer": "ipython3",
   "version": "3.7.6"
  }
 },
 "nbformat": 4,
 "nbformat_minor": 4
}
