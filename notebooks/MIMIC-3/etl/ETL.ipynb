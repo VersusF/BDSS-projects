{
 "cells": [
  {
   "cell_type": "markdown",
   "metadata": {},
   "source": [
    "# ETL: extraction, tranformation and loading\n",
    "\n",
    "The main purpose of this notebook is the extracion of the data from the csv files of the MIMIC-III dataset and the insertion on the mimic3 database in postgres using the model already created and the library `sequel`.\n",
    "\n",
    "At first I tried to have a general function to import any csv file, but then I found the problem of type casting (i.e. cast to DateTime). So I wrote a script for each table."
   ]
  },
  {
   "cell_type": "markdown",
   "metadata": {},
   "source": [
    "## Imports\n",
    "\n",
    "This file contains the connection to the database and the classes of the model."
   ]
  },
  {
   "cell_type": "code",
   "execution_count": 2,
   "metadata": {},
   "outputs": [],
   "source": [
    "load 'connection.rb'\n",
    "load 'model.rb'\n",
    "require 'csv'\n",
    "nil"
   ]
  },
  {
   "cell_type": "markdown",
   "metadata": {},
   "source": [
    "### Constants\n",
    "- **PATH**: The path to the folder containing all the csv files"
   ]
  },
  {
   "cell_type": "code",
   "execution_count": 3,
   "metadata": {},
   "outputs": [],
   "source": [
    "PATH = \"/mimic3/1.4/\"\n",
    "nil"
   ]
  },
  {
   "cell_type": "markdown",
   "metadata": {},
   "source": [
    "### Useful function\n",
    "- **parse_date**: Parse a date; if it's `nil` return `nil`\n",
    "- **parse_int**: Parse a int; if it's `nil` return `nil`\n",
    "- **parse_double**: Parse a double; if it's `nil` return `nil`"
   ]
  },
  {
   "cell_type": "code",
   "execution_count": 4,
   "metadata": {},
   "outputs": [],
   "source": [
    "def parse_date(date)\n",
    "  return date.nil? ? nil : DateTime.parse(date)\n",
    "end\n",
    "\n",
    "def parse_int(n)\n",
    "  return n.nil? ? nil : n.to_i\n",
    "end\n",
    "\n",
    "def parse_double(n)\n",
    "  return n.nil? ? nil : n.to_f\n",
    "end\n",
    "nil"
   ]
  },
  {
   "cell_type": "markdown",
   "metadata": {},
   "source": [
    "## Patients"
   ]
  },
  {
   "cell_type": "code",
   "execution_count": 33,
   "metadata": {},
   "outputs": [
    {
     "name": "stdout",
     "output_type": "stream",
     "text": [
      "Created 46520 patients\n"
     ]
    }
   ],
   "source": [
    "count = 0\n",
    "\n",
    "CSV.foreach(PATH + \"PATIENTS.csv\", :headers => true, :header_converters => lambda {|h|h.downcase}) do |row|\n",
    "  row_id = row['row_id'].to_i\n",
    "  subject_id = row['subject_id'].to_i\n",
    "  gender = row['gender']\n",
    "  dob = DateTime.parse(row['dob'])\n",
    "  dod = row['dod'].nil? ? nil : DateTime.parse(row['dod'])\n",
    "  dod_hosp = row['dod_hosp'].nil? ? nil : DateTime.parse(row['dod_hosp'])\n",
    "  dod_ssn = row['dod_ssn'].nil? ? nil : DateTime.parse(row['dod_ssn'])\n",
    "  expire_flag = row['expire_flag'].to_i\n",
    "  \n",
    "  Patient.create(\n",
    "    row_id: row_id,\n",
    "    subject_id: subject_id,\n",
    "    gender: gender,\n",
    "    dob: dob,\n",
    "    dod: dod,\n",
    "    dod_hosp: dod_hosp,\n",
    "    dod_ssn: dod_ssn,\n",
    "    expire_flag: expire_flag\n",
    "  )\n",
    "  \n",
    "  count += 1\n",
    "end\n",
    "\n",
    "puts \"Created #{count} patients\""
   ]
  },
  {
   "cell_type": "markdown",
   "metadata": {},
   "source": [
    "## Admissions"
   ]
  },
  {
   "cell_type": "code",
   "execution_count": 35,
   "metadata": {},
   "outputs": [
    {
     "name": "stdout",
     "output_type": "stream",
     "text": [
      "Created 58976 admissions\n"
     ]
    }
   ],
   "source": [
    "count = 0\n",
    "\n",
    "CSV.foreach(PATH + \"ADMISSIONS.csv\", :headers => true, :header_converters => lambda {|h|h.downcase}) do |row|\n",
    "  entry = {\n",
    "    row_id: row['row_id'].to_i,\n",
    "    subject_id: row['subject_id'].to_i,\n",
    "    hadm_id: row['hadm_id'].to_i,\n",
    "    admittime: DateTime.parse(row['admittime']),\n",
    "    dischtime: row['dischtime'].nil? ? nil : DateTime.parse(row['dischtime']),\n",
    "    deathtime: row['deathtime'].nil? ? nil : DateTime.parse(row['deathtime']),\n",
    "    edregtime: row['edregtime'].nil? ? nil : DateTime.parse(row['edregtime']),\n",
    "    edouttime: row['edouttime'].nil? ? nil : DateTime.parse(row['edouttime']),\n",
    "    admission_type: row['admission_type'],\n",
    "    admission_location: row['admission_location'],\n",
    "    discharge_location: row['discharge_location'],\n",
    "    insurance: row['insurance'],\n",
    "    language: row['language'],\n",
    "    religion: row['religion'],\n",
    "    marital_status: row['marital_status'],\n",
    "    ethnicity: row['ethnicity'],\n",
    "    diagnosis: row['diagnosis'],\n",
    "    hospital_expire_flag: row['hospital_expire_flag'].to_i,\n",
    "    has_chartevents_data: row['has_chartevents_data'].to_i\n",
    "  }\n",
    "  \n",
    "  Admission.create(entry)\n",
    "  \n",
    "  count += 1\n",
    "end\n",
    "\n",
    "puts \"Created #{count} admissions\""
   ]
  },
  {
   "cell_type": "markdown",
   "metadata": {},
   "source": [
    "## Drg codes"
   ]
  },
  {
   "cell_type": "code",
   "execution_count": 37,
   "metadata": {},
   "outputs": [
    {
     "name": "stdout",
     "output_type": "stream",
     "text": [
      "Created 9999 DRGs\n"
     ]
    }
   ],
   "source": [
    "count = 0\n",
    "\n",
    "CSV.foreach(PATH + \"DRGCODES_REDUCED.csv\", :headers => true, :header_converters => lambda {|h|h.downcase}) do |row|\n",
    "  entry = {\n",
    "    row_id: row['row_id'].to_i,\n",
    "    subject_id: row['subject_id'].to_i,\n",
    "    hadm_id: row['hadm_id'].to_i,\n",
    "    drg_type: row['drg_type'],\n",
    "    drg_code: row['drg_code'],\n",
    "    description: row['description'],\n",
    "    drg_severity: row['drg_severity'].to_i,\n",
    "    drg_mortality: row['drg_mortality'].to_i\n",
    "  }\n",
    "  \n",
    "  DrgCode.create(entry)\n",
    "  \n",
    "  count += 1\n",
    "end\n",
    "\n",
    "puts \"Created #{count} DRGs\""
   ]
  },
  {
   "cell_type": "markdown",
   "metadata": {},
   "source": [
    "## Microbiology events"
   ]
  },
  {
   "cell_type": "code",
   "execution_count": 40,
   "metadata": {},
   "outputs": [
    {
     "name": "stdout",
     "output_type": "stream",
     "text": [
      "Created 9999 Microbiology events\n"
     ]
    }
   ],
   "source": [
    "count = 0\n",
    "\n",
    "CSV.foreach(PATH + \"MICROBIOLOGYEVENTS_REDUCED.csv\", :headers => true, :header_converters => lambda {|h|h.downcase}) do |row|\n",
    "  entry = {\n",
    "    row_id: row['row_id'].to_i,\n",
    "    subject_id: row['subject_id'].to_i,\n",
    "    hadm_id: row['hadm_id'].to_i,\n",
    "    chartdate: row['chartdate'].nil? ? nil : DateTime.parse(row['chartdate']),\n",
    "    charttime: row['charttime'].nil? ? nil : DateTime.parse(row['charttime']),\n",
    "    spec_itemid: row['spec_itemid'].nil? ? nil : row['chartdate'].to_i,\n",
    "    spec_type_desc: row['spec_type_desc'],\n",
    "    org_itemid: row['org_itemid'].nil? ? nil : row['org_itemid'].to_i,\n",
    "    org_name: row['org_name'],\n",
    "    isolate_num: row['isolate_num'].nil? ? nil : row['isolate_num'].to_i,\n",
    "    ab_itemid: row['ab_itemid'].nil? ? nil : row['ab_itemid'].to_i,\n",
    "    ab_name: row['ab_name'],\n",
    "    dilution_text: row['dilution_text'],\n",
    "    dilution_comparison: row['dilution_comparison'],\n",
    "    dilution_value: row['dilution_value'].nil? ? nil : row['dilution_value'].to_f,\n",
    "    interpretation: row['interpretation']\n",
    "  }\n",
    "  \n",
    "  MicrobiologyEvent.create(entry)\n",
    "  \n",
    "  count += 1\n",
    "end\n",
    "\n",
    "puts \"Created #{count} Microbiology events\""
   ]
  },
  {
   "cell_type": "markdown",
   "metadata": {},
   "source": [
    "## Callouts"
   ]
  },
  {
   "cell_type": "code",
   "execution_count": 41,
   "metadata": {},
   "outputs": [
    {
     "name": "stdout",
     "output_type": "stream",
     "text": [
      "Created 34499 Callouts\n"
     ]
    }
   ],
   "source": [
    "count = 0\n",
    "\n",
    "CSV.foreach(PATH + \"CALLOUT.csv\", :headers => true, :header_converters => lambda {|h|h.downcase}) do |row|\n",
    "  entry = {\n",
    "    row_id: row['row_id'].to_i,\n",
    "    subject_id: row['subject_id'].to_i,\n",
    "    hadm_id: row['hadm_id'].to_i,\n",
    "    submit_wardid: row['submit_wardid'].nil? ? nil : row['submit_wardid'].to_i,\n",
    "    submit_careunit: row['submit_careunit'],\n",
    "    curr_wardid: row['curr_wardid'].nil? ? nil : row['curr_wardid'].to_i,\n",
    "    curr_careunit: row['curr_careunit'],\n",
    "    callout_wardid: row['callout_wardid'].nil? ? nil : row['callout_wardid'].to_i,\n",
    "    callout_service: row['callout_service'],\n",
    "    request_tele: row['request_tele'].nil? ? nil : row['request_tele'].to_i,\n",
    "    request_resp: row['request_resp'].nil? ? nil : row['request_resp'].to_i,\n",
    "    request_cdiff: row['request_cdiff'].nil? ? nil : row['request_cdiff'].to_i,\n",
    "    request_mrsa: row['request_mrsa'].nil? ? nil : row['request_mrsa'].to_i,\n",
    "    request_vre: row['request_vre'].nil? ? nil : row['request_vre'].to_i,\n",
    "    callout_status: row['callout_status'],\n",
    "    callout_outcome: row['callout_outcome'],\n",
    "    discharge_wardid: row['discharge_wardid'].nil? ? nil : row['discharge_wardid'].to_i,\n",
    "    acknowledge_status: row['acknowledge_status'],\n",
    "    createtime: row['createtime'].nil? ? nil : DateTime.parse(row['createtime']),\n",
    "    updatetime: row['updatetime'].nil? ? nil : DateTime.parse(row['updatetime']),\n",
    "    acknowledgetime: row['acknowledgetime'].nil? ? nil : DateTime.parse(row['acknowledgetime']),\n",
    "    outcometime: row['outcometime'].nil? ? nil : DateTime.parse(row['outcometime']),\n",
    "    firstreservationtime: row['firstreservationtime'].nil? ? nil : DateTime.parse(row['firstreservationtime']),\n",
    "    currentreservationtime: row['currentreservationtime'].nil? ? nil : DateTime.parse(row['currentreservationtime']),\n",
    "  }\n",
    "  \n",
    "  Callout.create(entry)\n",
    "  \n",
    "  count += 1\n",
    "end\n",
    "\n",
    "puts \"Created #{count} Callouts\""
   ]
  },
  {
   "cell_type": "markdown",
   "metadata": {},
   "source": [
    "## Diagnoses ICD"
   ]
  },
  {
   "cell_type": "code",
   "execution_count": 43,
   "metadata": {},
   "outputs": [
    {
     "name": "stdout",
     "output_type": "stream",
     "text": [
      "Created 9999 Diagnoses Icd\n"
     ]
    }
   ],
   "source": [
    "count = 0\n",
    "\n",
    "CSV.foreach(PATH + \"DIAGNOSES_ICD_REDUCED.csv\", :headers => true, :header_converters => lambda {|h|h.downcase}) do |row|\n",
    "  entry = {\n",
    "    row_id: parse_int(row['row_id']),\n",
    "    subject_id: parse_int(row['subject_id']),\n",
    "    hadm_id: parse_int(row['hadm_id']),    \n",
    "    seq_num: parse_int(row['seq_num']),\n",
    "    icd9_code: row['icd9_code'],\n",
    "  }\n",
    "  \n",
    "  DiagnoseIcd.create(entry)\n",
    "  \n",
    "  count += 1\n",
    "end\n",
    "\n",
    "puts \"Created #{count} Diagnoses Icd\""
   ]
  },
  {
   "cell_type": "markdown",
   "metadata": {},
   "source": [
    "At this point I realized that it could be useful functions to parse integers and dates returning nil if the string is nil. So I implemented them in the top of the notebook and use them from here on"
   ]
  },
  {
   "cell_type": "markdown",
   "metadata": {},
   "source": [
    "## Cpt Events"
   ]
  },
  {
   "cell_type": "code",
   "execution_count": 44,
   "metadata": {},
   "outputs": [
    {
     "name": "stdout",
     "output_type": "stream",
     "text": [
      "Created 9999 Cpt events\n"
     ]
    }
   ],
   "source": [
    "count = 0\n",
    "\n",
    "CSV.foreach(PATH + \"CPTEVENTS_REDUCED.csv\", :headers => true, :header_converters => lambda {|h|h.downcase}) do |row|\n",
    "  entry = {\n",
    "    row_id: row['row_id'].to_i,\n",
    "    subject_id: row['subject_id'].to_i,\n",
    "    hadm_id: row['hadm_id'].to_i,    \n",
    "    costcenter: row['costcenter'],\n",
    "    chartdate: parse_date(row['chartdate']),\n",
    "    cpt_cd: row['cpt_cd'],\n",
    "    cpt_number: parse_int(row['cpt_number']),\n",
    "    cpt_suffix: row['cpt_suffix'],\n",
    "    ticket_id_seq: parse_int(row['ticket_id_seq']),\n",
    "    sectionheader: row['sectionheader'],\n",
    "    subsectionheader: row['subsectionheader'],\n",
    "    description: row['description']\n",
    "  }\n",
    "  \n",
    "  CptEvent.create(entry)\n",
    "  \n",
    "  count += 1\n",
    "end\n",
    "\n",
    "puts \"Created #{count} Cpt events\""
   ]
  },
  {
   "cell_type": "markdown",
   "metadata": {},
   "source": [
    "## Services"
   ]
  },
  {
   "cell_type": "code",
   "execution_count": 46,
   "metadata": {},
   "outputs": [
    {
     "name": "stdout",
     "output_type": "stream",
     "text": [
      "Created 9999 services\n"
     ]
    }
   ],
   "source": [
    "count = 0\n",
    "\n",
    "CSV.foreach(PATH + \"SERVICES_REDUCED.csv\", :headers => true, :header_converters => lambda {|h|h.downcase}) do |row|\n",
    "  entry = {\n",
    "    row_id: row['row_id'].to_i,\n",
    "    subject_id: row['subject_id'].to_i,\n",
    "    hadm_id: row['hadm_id'].to_i,\n",
    "    transfertime: parse_date(row['transfertime']),\n",
    "    prev_service: row['subsectionheader'],\n",
    "    curr_service: row['description']\n",
    "  }\n",
    "  \n",
    "  Service.create(entry)\n",
    "  \n",
    "  count += 1\n",
    "end\n",
    "\n",
    "puts \"Created #{count} services\""
   ]
  },
  {
   "cell_type": "markdown",
   "metadata": {},
   "source": [
    "## Procedures Icd"
   ]
  },
  {
   "cell_type": "code",
   "execution_count": 47,
   "metadata": {},
   "outputs": [
    {
     "name": "stdout",
     "output_type": "stream",
     "text": [
      "Created 9999 Procedures Icd\n"
     ]
    }
   ],
   "source": [
    "count = 0\n",
    "\n",
    "CSV.foreach(PATH + \"PROCEDURES_ICD_REDUCED.csv\", :headers => true, :header_converters => lambda {|h|h.downcase}) do |row|\n",
    "  entry = {\n",
    "    row_id: row['row_id'].to_i,\n",
    "    subject_id: row['subject_id'].to_i,\n",
    "    hadm_id: row['hadm_id'].to_i,\n",
    "    seq_num: parse_int(row['seq_num']),\n",
    "    icd9_code: row['icd9_code']\n",
    "  }\n",
    "  \n",
    "  ProcedureIcd.create(entry)\n",
    "  \n",
    "  count += 1\n",
    "end\n",
    "\n",
    "puts \"Created #{count} Procedures Icd\""
   ]
  },
  {
   "cell_type": "markdown",
   "metadata": {},
   "source": [
    "## Icustays"
   ]
  },
  {
   "cell_type": "code",
   "execution_count": 48,
   "metadata": {},
   "outputs": [
    {
     "name": "stdout",
     "output_type": "stream",
     "text": [
      "Created 61532 icustays\n"
     ]
    }
   ],
   "source": [
    "count = 0\n",
    "\n",
    "CSV.foreach(PATH + \"ICUSTAYS.csv\", :headers => true, :header_converters => lambda {|h|h.downcase}) do |row|\n",
    "  entry = {\n",
    "    row_id: row['row_id'].to_i,\n",
    "    subject_id: row['subject_id'].to_i,\n",
    "    hadm_id: row['hadm_id'].to_i,\n",
    "    icustay_id: row['icustay_id'].to_i,\n",
    "    dbsource: row['dbsource'],\n",
    "    first_careunit: row['first_careunit'],\n",
    "    last_careunit: row['last_careunit'],\n",
    "    first_wardid: parse_int(row['first_wardid']),\n",
    "    last_wardid: parse_int(row['last_wardid']),\n",
    "    intime: parse_date(row['intime']),\n",
    "    outtime: parse_date(row['outtime']),\n",
    "    los: parse_double(row['los'])\n",
    "  }\n",
    "  \n",
    "  Icustay.create(entry)\n",
    "  \n",
    "  count += 1\n",
    "end\n",
    "\n",
    "puts \"Created #{count} icustays\""
   ]
  },
  {
   "cell_type": "markdown",
   "metadata": {},
   "source": [
    "## Prescriptions"
   ]
  },
  {
   "cell_type": "code",
   "execution_count": 52,
   "metadata": {},
   "outputs": [
    {
     "name": "stdout",
     "output_type": "stream",
     "text": [
      "Created 9999 prescriptions\n"
     ]
    }
   ],
   "source": [
    "count = 0\n",
    "\n",
    "CSV.foreach(PATH + \"PRESCRIPTIONS_REDUCED.csv\", :headers => true, :header_converters => lambda {|h|h.downcase}) do |row|\n",
    "  entry = {\n",
    "    row_id: row['row_id'].to_i,\n",
    "    subject_id: row['subject_id'].to_i,\n",
    "    hadm_id: row['hadm_id'].to_i,\n",
    "    icustay_id: row['icustay_id'].to_i,\n",
    "    startdate: parse_date(row['startdate']),\n",
    "    enddate: parse_date(row['enddate']),\n",
    "    drug_type: row['drug_type'],\n",
    "    drug: row['drug'],\n",
    "    drug_name_poe: row['drug_name_poe'],\n",
    "    drug_name_generic: row['drug_name_generic'],\n",
    "    formulary_drug_cd: row['formulary_drug_cd'],\n",
    "    gsn: row['gsn'],\n",
    "    ndc: row['ndc'],\n",
    "    prod_strength: row['prod_strength'],\n",
    "    dose_val_rx: row['dose_val_rx'],\n",
    "    dose_unit_rx: row['dose_unit_rx'],\n",
    "    form_val_disp: row['form_val_disp'],\n",
    "    form_unit_disp: row['form_unit_disp'],\n",
    "    route: row['route'],\n",
    "  }\n",
    "  \n",
    "  Prescription.create(entry)\n",
    "  \n",
    "  count += 1\n",
    "end\n",
    "\n",
    "puts \"Created #{count} prescriptions\""
   ]
  },
  {
   "cell_type": "markdown",
   "metadata": {},
   "source": [
    "## Transfers"
   ]
  },
  {
   "cell_type": "code",
   "execution_count": 54,
   "metadata": {},
   "outputs": [
    {
     "name": "stdout",
     "output_type": "stream",
     "text": [
      "Created 9999 transfers\n"
     ]
    }
   ],
   "source": [
    "count = 0\n",
    "\n",
    "CSV.foreach(PATH + \"TRANSFERS_REDUCED.csv\", :headers => true, :header_converters => lambda {|h|h.downcase}) do |row|\n",
    "  entry = {\n",
    "    row_id: row['row_id'].to_i,\n",
    "    subject_id: row['subject_id'].to_i,\n",
    "    hadm_id: row['hadm_id'].to_i,\n",
    "    icustay_id: row['icustay_id'].to_i,\n",
    "    dbsource: row['dbsource'],\n",
    "    eventtype: row['eventtype'],\n",
    "    prev_careunit: row['prev_careunit'],\n",
    "    curr_careunit: row['curr_careunit'],\n",
    "    prev_wardid: parse_int(row['prev_wardid']),\n",
    "    curr_wardid: parse_int(row['curr_wardid']),\n",
    "    intime: parse_date(row['intime']),\n",
    "    outtime: parse_date(row['outtime']),\n",
    "    los: parse_int(row['los'])\n",
    "  }\n",
    "  \n",
    "  Transfer.create(entry)\n",
    "  \n",
    "  count += 1\n",
    "end\n",
    "\n",
    "puts \"Created #{count} transfers\""
   ]
  },
  {
   "cell_type": "markdown",
   "metadata": {},
   "source": [
    "## Caregivers"
   ]
  },
  {
   "cell_type": "code",
   "execution_count": 56,
   "metadata": {},
   "outputs": [
    {
     "name": "stdout",
     "output_type": "stream",
     "text": [
      "Created 7567 caregivers\n"
     ]
    }
   ],
   "source": [
    "count = 0\n",
    "\n",
    "CSV.foreach(PATH + \"CAREGIVERS.csv\", :headers => true, :header_converters => lambda {|h|h.downcase}) do |row|\n",
    "  entry = {\n",
    "    row_id: row['row_id'].to_i,\n",
    "    cgid: row['cgid'].to_i,\n",
    "    label: row['label'],\n",
    "    description: row['description'],\n",
    "  }\n",
    "  \n",
    "  Caregiver.create(entry)\n",
    "  \n",
    "  count += 1\n",
    "end\n",
    "\n",
    "puts \"Created #{count} caregivers\""
   ]
  },
  {
   "cell_type": "markdown",
   "metadata": {},
   "source": [
    "## Input events CV"
   ]
  },
  {
   "cell_type": "code",
   "execution_count": 57,
   "metadata": {},
   "outputs": [
    {
     "name": "stdout",
     "output_type": "stream",
     "text": [
      "Created 9999 input events cv\n"
     ]
    }
   ],
   "source": [
    "count = 0\n",
    "\n",
    "CSV.foreach(PATH + \"INPUTEVENTS_CV_REDUCED.csv\", :headers => true, :header_converters => lambda {|h|h.downcase}) do |row|\n",
    "  entry = {\n",
    "    row_id: row['row_id'].to_i,\n",
    "    subject_id: row['subject_id'].to_i,\n",
    "    hadm_id: row['hadm_id'].to_i,\n",
    "    icustay_id: row['icustay_id'].to_i,\n",
    "    cgid: row['cgid'].to_i,\n",
    "    charttime: parse_date(row['charttime']),\n",
    "    itemid: parse_int(row['itemid']),\n",
    "    amount: parse_double(row['amount']),\n",
    "    amountuom: row['amountuom'],\n",
    "    rate: parse_double(row['rate']),\n",
    "    rateuom: row['rateuom'],\n",
    "    storetime: parse_date(row['storetime']),\n",
    "    orderid: parse_int(row['orderid']),\n",
    "    linkorderid: parse_int(row['linkorderid']),\n",
    "    stopped: row['stopped'],\n",
    "    newbottle: parse_int(row['newbottle']),\n",
    "    originalamount: parse_double(row['originalamount']),\n",
    "    originalamountuom: row['originalamountuom'],\n",
    "    originalrate: parse_double(row['originalrate']),\n",
    "    originalroute: row['originalroute'],\n",
    "    originalrateuom: row['originalrateuom'],\n",
    "    originalsite: row['originalsite'],\n",
    "  }\n",
    "  \n",
    "  InputEventCV.create(entry)\n",
    "  \n",
    "  count += 1\n",
    "end\n",
    "\n",
    "puts \"Created #{count} input events cv\""
   ]
  },
  {
   "cell_type": "markdown",
   "metadata": {},
   "source": [
    "## Output events"
   ]
  },
  {
   "cell_type": "code",
   "execution_count": 58,
   "metadata": {},
   "outputs": [
    {
     "name": "stdout",
     "output_type": "stream",
     "text": [
      "Created 9999 output events\n"
     ]
    }
   ],
   "source": [
    "count = 0\n",
    "\n",
    "CSV.foreach(PATH + \"OUTPUTEVENTS_REDUCED.csv\", :headers => true, :header_converters => lambda {|h|h.downcase}) do |row|\n",
    "  entry = {\n",
    "    row_id: row['row_id'].to_i,\n",
    "    subject_id: row['subject_id'].to_i,\n",
    "    hadm_id: row['hadm_id'].to_i,\n",
    "    icustay_id: row['icustay_id'].to_i,\n",
    "    cgid: row['cgid'].to_i,\n",
    "    charttime: parse_date(row['charttime']),\n",
    "    itemid: parse_int(row['itemid']),\n",
    "    value: parse_double(row['value']),\n",
    "    valueuom: row['valueuom'],\n",
    "    storetime: parse_date(row['storetime']),\n",
    "    stopped: row['stopped'],\n",
    "    newbottle: parse_int(row['newbottle']),\n",
    "    iserror: parse_int(row['iserror'])\n",
    "  }\n",
    "  \n",
    "  OutputEvent.create(entry)\n",
    "  \n",
    "  count += 1\n",
    "end\n",
    "\n",
    "puts \"Created #{count} output events\""
   ]
  },
  {
   "cell_type": "markdown",
   "metadata": {},
   "source": [
    "## Procedure events MV"
   ]
  },
  {
   "cell_type": "code",
   "execution_count": 59,
   "metadata": {},
   "outputs": [
    {
     "name": "stdout",
     "output_type": "stream",
     "text": [
      "Created 9999 procedure events MV\n"
     ]
    }
   ],
   "source": [
    "count = 0\n",
    "\n",
    "CSV.foreach(PATH + \"PROCEDUREEVENTS_MV_REDUCED.csv\", :headers => true, :header_converters => lambda {|h|h.downcase}) do |row|\n",
    "  entry = {\n",
    "    row_id: row['row_id'].to_i,\n",
    "    subject_id: row['subject_id'].to_i,\n",
    "    hadm_id: row['hadm_id'].to_i,\n",
    "    icustay_id: row['icustay_id'].to_i,\n",
    "    cgid: row['cgid'].to_i,\n",
    "    starttime: parse_date(row['starttime']),\n",
    "    endtime: parse_date(row['endtime']),\n",
    "    itemid: parse_int(row['itemid']),\n",
    "    value: parse_double(row['value']),\n",
    "    valueuom: row['valueuom'],\n",
    "    location: row['location'],\n",
    "    locationcategory: row['locationcategory'],\n",
    "    storetime: parse_date(row['storetime']),\n",
    "    orderid: parse_int(row['orderid']),\n",
    "    linkorderid: parse_int(row['linkorderid']),\n",
    "    ordercategoryname: row['ordercategoryname'],\n",
    "    secondaryordercategoryname: row['secondaryordercategoryname'],\n",
    "    ordercategorydescription: row['ordercategorydescription'],\n",
    "    isopenbag: parse_int(row['isopenbag']),\n",
    "    continueinnextdept: parse_int(row['continueinnextdept']),\n",
    "    cancelreason: parse_int(row['cancelreason']),\n",
    "    statusdescription: row['statusdescription'],\n",
    "    comments_editedby: row['comments_editedby'],\n",
    "    comments_canceledby: row['comments_canceledby'],\n",
    "    comments_date: parse_date(row['comments_date'])\n",
    "  }\n",
    "\n",
    "  ProcedureEventMV.create(entry)\n",
    "\n",
    "  count += 1\n",
    "end\n",
    "\n",
    "puts \"Created #{count} procedure events MV\""
   ]
  },
  {
   "cell_type": "markdown",
   "metadata": {},
   "source": [
    "## Input events MV\n",
    "\n",
    "**NOTE**: There is a discrepancy between <a href=\"https://mimic.physionet.org/mimictables/inputevents_mv/\">Official documentation</a> and the tables generated by the scripts and the headers of the CSV files."
   ]
  },
  {
   "cell_type": "code",
   "execution_count": 60,
   "metadata": {},
   "outputs": [
    {
     "name": "stdout",
     "output_type": "stream",
     "text": [
      "Created 9999 input events MV\n"
     ]
    }
   ],
   "source": [
    "count = 0\n",
    "\n",
    "CSV.foreach(PATH + \"INPUTEVENTS_MV_REDUCED.csv\", :headers => true, :header_converters => lambda {|h|h.downcase}) do |row|\n",
    "  entry = {\n",
    "    row_id: row['row_id'].to_i,\n",
    "    subject_id: row['subject_id'].to_i,\n",
    "    hadm_id: row['hadm_id'].to_i,\n",
    "    icustay_id: row['icustay_id'].to_i,\n",
    "    cgid: row['cgid'].to_i,\n",
    "    starttime: parse_date(row['starttime']),\n",
    "    endtime: parse_date(row['endtime']),\n",
    "    itemid: parse_int(row['itemid']),\n",
    "    amount: parse_double(row['amount']),\n",
    "    amountuom: row['amountuom'],\n",
    "    rate: parse_double(row['rate']),\n",
    "    rateuom: row['rateuom'],\n",
    "    storetime: parse_date(row['storetime']),\n",
    "    orderid: parse_int(row['orderid']),\n",
    "    linkorderid: parse_int(row['linkorderid']),\n",
    "    ordercategoryname: row['ordercategoryname'],\n",
    "    secondaryordercategoryname: row['secondaryordercategoryname'],\n",
    "    ordercomponenttypedescription: row['ordercomponenttypedescription'],\n",
    "    ordercategorydescription: row['ordercategorydescription'],\n",
    "    patientweight: parse_double(row['patientweight']),\n",
    "    totalamount: parse_double(row['totalamount']),\n",
    "    totalamountuom: row['totalamountuom'],\n",
    "    isopenbag: parse_int(row['isopenbag']),\n",
    "    continueinnextdept: parse_int(row['continueinnextdept']),\n",
    "    cancelreason: parse_int(row['cancelreason']),\n",
    "    statusdescription: row['statusdescription'],\n",
    "    \n",
    "    # Here start the discrepancy\n",
    "    # comments_status: row['comments_status'],\n",
    "    # comments_title: row['comments_title'],\n",
    "    comments_editedby: row['comments_editedby'],\n",
    "    comments_canceledby: row['comments_canceledby'],\n",
    "    \n",
    "    comments_date: parse_date(row['comments_date']),\n",
    "    originalamount: parse_double(row['originalamount']),\n",
    "    originalrate: parse_double(row['originalrate']),\n",
    "  }\n",
    "  \n",
    "  InputEventMV.create(entry)\n",
    "  \n",
    "  count += 1\n",
    "end\n",
    "\n",
    "puts \"Created #{count} input events MV\""
   ]
  },
  {
   "cell_type": "markdown",
   "metadata": {},
   "source": [
    "## Note events"
   ]
  },
  {
   "cell_type": "code",
   "execution_count": 63,
   "metadata": {},
   "outputs": [
    {
     "name": "stdout",
     "output_type": "stream",
     "text": [
      "Created 40 note events\n"
     ]
    }
   ],
   "source": [
    "count = 0\n",
    "\n",
    "CSV.foreach(PATH + \"NOTEEVENTS_REDUCED.csv\", :headers => true, :header_converters => lambda {|h|h.downcase}) do |row|\n",
    "  entry = {\n",
    "    row_id: row['row_id'].to_i,\n",
    "    subject_id: row['subject_id'].to_i,\n",
    "    hadm_id: row['hadm_id'].to_i,\n",
    "    cgid: row['cgid'].to_i,\n",
    "    chartdate: parse_date(row['chartdate']),\n",
    "    charttime: parse_date(row['charttime']),\n",
    "    storetime: parse_date(row['storetime']),\n",
    "    category: row['category'],\n",
    "    description: row['description'],\n",
    "    iserror: row['iserror'],\n",
    "    text: row['text']\n",
    "  }\n",
    "\n",
    "  NoteEvent.create(entry)\n",
    "\n",
    "  count += 1\n",
    "end\n",
    "\n",
    "puts \"Created #{count} note events\""
   ]
  },
  {
   "cell_type": "markdown",
   "metadata": {},
   "source": [
    "## Item definitons"
   ]
  },
  {
   "cell_type": "code",
   "execution_count": 64,
   "metadata": {},
   "outputs": [
    {
     "name": "stdout",
     "output_type": "stream",
     "text": [
      "Created 12487 item definitions\n"
     ]
    }
   ],
   "source": [
    "count = 0\n",
    "\n",
    "CSV.foreach(PATH + \"D_ITEMS.csv\", :headers => true, :header_converters => lambda {|h|h.downcase}) do |row|\n",
    "  entry = {\n",
    "    row_id: row['row_id'].to_i,\n",
    "    itemid: row['itemid'].to_i,\n",
    "    label: row['label'],\n",
    "    abbreviation: row['abbreviation'],\n",
    "    dbsource: row['dbsource'],\n",
    "    linksto: row['linksto'],\n",
    "    category: row['category'],\n",
    "    unitname: row['unitname'],\n",
    "    param_type: row['param_type'],\n",
    "    conceptid: parse_int(row['conceptid'])\n",
    "  }\n",
    "\n",
    "  DItem.create(entry)\n",
    "\n",
    "  count += 1\n",
    "end\n",
    "\n",
    "puts \"Created #{count} item definitions\""
   ]
  },
  {
   "cell_type": "markdown",
   "metadata": {},
   "source": [
    "## Chart events"
   ]
  },
  {
   "cell_type": "code",
   "execution_count": 65,
   "metadata": {},
   "outputs": [
    {
     "name": "stdout",
     "output_type": "stream",
     "text": [
      "Created 9999 chart events\n"
     ]
    }
   ],
   "source": [
    "count = 0\n",
    "\n",
    "CSV.foreach(PATH + \"CHARTEVENTS_REDUCED.csv\", :headers => true, :header_converters => lambda {|h|h.downcase}) do |row|\n",
    "  entry = {\n",
    "    row_id: row['row_id'].to_i,\n",
    "    subject_id: row['subject_id'].to_i,\n",
    "    hadm_id: row['hadm_id'].to_i,\n",
    "    icustay_id: row['icustay_id'].to_i,\n",
    "    cgid: row['cgid'].to_i,\n",
    "    itemid: row['itemid'].to_i,\n",
    "    charttime: parse_date(row['charttime']),\n",
    "    storetime: parse_date(row['storetime']),\n",
    "    value: row['value'],\n",
    "    valuenum: parse_int(row['value']),\n",
    "    valueuom: row['valueuom'],\n",
    "    warning: parse_int(row['warning']),\n",
    "    error: parse_int(row['error']),\n",
    "    resultstatus: row['resultstatus'],\n",
    "    stopped: row['stopped']\n",
    "  }\n",
    "\n",
    "  ChartEvent.create(entry)\n",
    "\n",
    "  count += 1\n",
    "end\n",
    "\n",
    "puts \"Created #{count} chart events\""
   ]
  },
  {
   "cell_type": "markdown",
   "metadata": {},
   "source": [
    "## Datetime events"
   ]
  },
  {
   "cell_type": "code",
   "execution_count": 66,
   "metadata": {},
   "outputs": [
    {
     "name": "stdout",
     "output_type": "stream",
     "text": [
      "Created 9999 datetime events\n"
     ]
    }
   ],
   "source": [
    "count = 0\n",
    "\n",
    "CSV.foreach(PATH + \"DATETIMEEVENTS_REDUCED.csv\", :headers => true, :header_converters => lambda {|h|h.downcase}) do |row|\n",
    "  entry = {\n",
    "    row_id: row['row_id'].to_i,\n",
    "    subject_id: row['subject_id'].to_i,\n",
    "    hadm_id: row['hadm_id'].to_i,\n",
    "    icustay_id: row['icustay_id'].to_i,\n",
    "    cgid: row['cgid'].to_i,\n",
    "    itemid: row['itemid'].to_i,\n",
    "    charttime: parse_date(row['charttime']),\n",
    "    storetime: parse_date(row['storetime']),\n",
    "    value: row['value'],\n",
    "    valueuom: row['valueuom'],\n",
    "    warning: parse_int(row['warning']),\n",
    "    error: parse_int(row['error']),\n",
    "    resultstatus: row['resultstatus'],\n",
    "    stopped: row['stopped']\n",
    "  }\n",
    "\n",
    "  DateTimeEvent.create(entry)\n",
    "\n",
    "  count += 1\n",
    "end\n",
    "\n",
    "puts \"Created #{count} datetime events\""
   ]
  },
  {
   "cell_type": "markdown",
   "metadata": {},
   "source": [
    "## Lab item definition"
   ]
  },
  {
   "cell_type": "code",
   "execution_count": 67,
   "metadata": {},
   "outputs": [
    {
     "name": "stdout",
     "output_type": "stream",
     "text": [
      "Created 753 lab item definitions\n"
     ]
    }
   ],
   "source": [
    "count = 0\n",
    "\n",
    "CSV.foreach(PATH + \"D_LABITEMS.csv\", :headers => true, :header_converters => lambda {|h|h.downcase}) do |row|\n",
    "  entry = {\n",
    "    row_id: row['row_id'].to_i,\n",
    "    itemid: row['itemid'].to_i,\n",
    "    label: row['label'],\n",
    "    fluid: row['fluid'],\n",
    "    category: row['category'],\n",
    "    loinc_code: row['loinc_code']\n",
    "  }\n",
    "\n",
    "  DLabItem.create(entry)\n",
    "\n",
    "  count += 1\n",
    "end\n",
    "\n",
    "puts \"Created #{count} lab item definitions\""
   ]
  },
  {
   "cell_type": "markdown",
   "metadata": {},
   "source": [
    "## Lab events"
   ]
  },
  {
   "cell_type": "code",
   "execution_count": 68,
   "metadata": {},
   "outputs": [
    {
     "name": "stdout",
     "output_type": "stream",
     "text": [
      "Created 9999 lab events\n"
     ]
    }
   ],
   "source": [
    "count = 0\n",
    "\n",
    "CSV.foreach(PATH + \"LABEVENTS_REDUCED.csv\", :headers => true, :header_converters => lambda {|h|h.downcase}) do |row|\n",
    "  entry = {\n",
    "    row_id: row['row_id'].to_i,\n",
    "    subject_id: row['subject_id'].to_i,\n",
    "    hadm_id: row['hadm_id'].to_i,\n",
    "    itemid: row['itemid'].to_i,\n",
    "    charttime: parse_date(row['charttime']),\n",
    "    value: row['value'],\n",
    "    valuenum: parse_double(row['valuenum']),\n",
    "    valueuom: row['valueuom'],\n",
    "    flag: row['flag']\n",
    "  }\n",
    "\n",
    "  LabEvent.create(entry)\n",
    "\n",
    "  count += 1\n",
    "end\n",
    "\n",
    "puts \"Created #{count} lab events\""
   ]
  },
  {
   "cell_type": "markdown",
   "metadata": {},
   "source": [
    "## Icd diagnose definitions"
   ]
  },
  {
   "cell_type": "code",
   "execution_count": 69,
   "metadata": {},
   "outputs": [
    {
     "name": "stdout",
     "output_type": "stream",
     "text": [
      "Created 14567 ICD diagnose definitions\n"
     ]
    }
   ],
   "source": [
    "count = 0\n",
    "\n",
    "CSV.foreach(PATH + \"D_ICD_DIAGNOSES.csv\", :headers => true, :header_converters => lambda {|h|h.downcase}) do |row|\n",
    "  entry = {\n",
    "    row_id: row['row_id'].to_i,\n",
    "    icd9_code: row['icd9_code'],\n",
    "    short_title: row['short_title'],\n",
    "    long_title: row['long_title']\n",
    "  }\n",
    "\n",
    "  DIcdDiagnose.create(entry)\n",
    "\n",
    "  count += 1\n",
    "end\n",
    "\n",
    "puts \"Created #{count} ICD diagnose definitions\""
   ]
  },
  {
   "cell_type": "markdown",
   "metadata": {},
   "source": [
    "## Cpt definitions"
   ]
  },
  {
   "cell_type": "code",
   "execution_count": 70,
   "metadata": {},
   "outputs": [
    {
     "name": "stdout",
     "output_type": "stream",
     "text": [
      "Created 134 cpt definitions\n"
     ]
    }
   ],
   "source": [
    "count = 0\n",
    "\n",
    "CSV.foreach(PATH + \"D_CPT.csv\", :headers => true, :header_converters => lambda {|h|h.downcase}) do |row|\n",
    "  entry = {\n",
    "    row_id: row['row_id'].to_i,\n",
    "    category: parse_int(row['category']),\n",
    "    sectionrange: row['sectionrange'],\n",
    "    sectionheader: row['sectionheader'],\n",
    "    subsectionrange: row['subsectionrange'],\n",
    "    subsectionheader: row['subsectionheader'],\n",
    "    codesuffix: row['codesuffix'],\n",
    "    mincodeinsubsection: parse_int(row['mincodeinsubsection']),\n",
    "    maxcodeinsubsection: parse_int(row['maxcodeinsubsection'])\n",
    "  }\n",
    "\n",
    "  DCpt.create(entry)\n",
    "\n",
    "  count += 1\n",
    "end\n",
    "\n",
    "puts \"Created #{count} cpt definitions\""
   ]
  },
  {
   "cell_type": "markdown",
   "metadata": {},
   "source": [
    "## Icd procedure definitions"
   ]
  },
  {
   "cell_type": "code",
   "execution_count": 71,
   "metadata": {},
   "outputs": [
    {
     "name": "stdout",
     "output_type": "stream",
     "text": [
      "Created 3882 ICD procedure definitions\n"
     ]
    }
   ],
   "source": [
    "count = 0\n",
    "\n",
    "CSV.foreach(PATH + \"D_ICD_PROCEDURES.csv\", :headers => true, :header_converters => lambda {|h|h.downcase}) do |row|\n",
    "  entry = {\n",
    "    row_id: row['row_id'].to_i,\n",
    "    icd9_code: row['icd9_code'],\n",
    "    short_title: row['short_title'],\n",
    "    long_title: row['long_title']\n",
    "  }\n",
    "\n",
    "  DIcdProcedure.create(entry)\n",
    "\n",
    "  count += 1\n",
    "end\n",
    "\n",
    "puts \"Created #{count} ICD procedure definitions\""
   ]
  },
  {
   "cell_type": "markdown",
   "metadata": {},
   "source": [
    "# Test"
   ]
  },
  {
   "cell_type": "code",
   "execution_count": null,
   "metadata": {},
   "outputs": [],
   "source": [
    "Patient.all[0..10].each do |patient|\n",
    "    puts \"ID: #{patient.subject_id},\\tCallout number: #{patient.callout.size}\"\n",
    "end\n",
    "nil"
   ]
  },
  {
   "cell_type": "code",
   "execution_count": null,
   "metadata": {},
   "outputs": [],
   "source": [
    "puts Patient.all.select{|pat| pat.subject_id == 10017}"
   ]
  },
  {
   "cell_type": "code",
   "execution_count": null,
   "metadata": {},
   "outputs": [],
   "source": [
    "puts Admission.first.patient.callout"
   ]
  },
  {
   "cell_type": "code",
   "execution_count": null,
   "metadata": {},
   "outputs": [],
   "source": []
  },
  {
   "cell_type": "code",
   "execution_count": null,
   "metadata": {},
   "outputs": [],
   "source": []
  }
 ],
 "metadata": {
  "kernelspec": {
   "display_name": "Ruby 2.5.1",
   "language": "ruby",
   "name": "ruby"
  },
  "language_info": {
   "file_extension": ".rb",
   "mimetype": "application/x-ruby",
   "name": "ruby",
   "version": "2.5.1"
  }
 },
 "nbformat": 4,
 "nbformat_minor": 4
}
