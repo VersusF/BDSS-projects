{
 "cells": [
  {
   "cell_type": "markdown",
   "metadata": {},
   "source": [
    "## Schema 3: Admissions\n",
    "\n",
    "![Cube 3](img/Cube3.png)"
   ]
  },
  {
   "cell_type": "code",
   "execution_count": 2,
   "metadata": {},
   "outputs": [],
   "source": [
    "# Libraries and connections\n",
    "\n",
    "require 'sequel'\n",
    "\n",
    "DB_MIMIC = Sequel.connect(adapter: 'postgres',\n",
    "                          host: 'postgres',\n",
    "                          user: 'postgres',\n",
    "                          password: 'password',\n",
    "                          database: 'mimic3_demo',\n",
    "                          search_path: ['mimiciii']\n",
    "                          )\n",
    "\n",
    "DB_OLAP = Sequel.connect(adapter: 'postgres',\n",
    "                          host: 'postgres',\n",
    "                          user: 'postgres',\n",
    "                          password: 'password',\n",
    "                          database: 'mimic3_demo',\n",
    "                          search_path: ['olap']\n",
    "                          )\n",
    "\n",
    "load '../etl/model.rb'\n",
    "nil"
   ]
  },
  {
   "cell_type": "markdown",
   "metadata": {},
   "source": [
    "#### Time dimension table"
   ]
  },
  {
   "cell_type": "code",
   "execution_count": 18,
   "metadata": {},
   "outputs": [],
   "source": [
    "# Creation\n",
    "DB_OLAP.drop_table?(:admission_intime)\n",
    "DB_OLAP.create_table(:admission_intime) do\n",
    "  String :day, primary_key: true\n",
    "  String :month\n",
    "  String :year\n",
    "end\n",
    "\n",
    "# Population\n",
    "Admission.all.uniq.each do |admission|\n",
    "  time = admission.admittime\n",
    "  year = time.year\n",
    "  month = time.month\n",
    "  day = time.day\n",
    "  day_str = \"#{year}-#{month}-#{day}\"\n",
    "  if DB_OLAP[:admission_intime].where(day: day_str).empty?\n",
    "    DB_OLAP[:admission_intime].insert(\n",
    "      day: day_str,\n",
    "      month: \"#{year}-#{month}\",\n",
    "      year: year.to_s\n",
    "    )\n",
    "  end\n",
    "end\n",
    "\n",
    "nil"
   ]
  },
  {
   "cell_type": "markdown",
   "metadata": {},
   "source": [
    "#### Death dimension table"
   ]
  },
  {
   "cell_type": "code",
   "execution_count": 8,
   "metadata": {},
   "outputs": [],
   "source": [
    "# Creation\n",
    "DB_OLAP.drop_table?(:admission_death)\n",
    "DB_OLAP.create_table(:admission_death) do\n",
    "  Integer :hospital_expire_flag, primary_key: true\n",
    "  String :status\n",
    "end\n",
    "\n",
    "# Population\n",
    "DB_OLAP[:admission_death].insert(\n",
    "      hospital_expire_flag: 0,\n",
    "      status: \"alive\"\n",
    ")\n",
    "\n",
    "DB_OLAP[:admission_death].insert(\n",
    "      hospital_expire_flag: 1,\n",
    "      status: \"dead\"\n",
    ")\n",
    "\n",
    "\n",
    "nil"
   ]
  },
  {
   "cell_type": "markdown",
   "metadata": {},
   "source": [
    "#### Patient age dimension table"
   ]
  },
  {
   "cell_type": "code",
   "execution_count": 12,
   "metadata": {},
   "outputs": [
    {
     "data": {
      "text/plain": [
       ":age_in_completed_years"
      ]
     },
     "execution_count": 12,
     "metadata": {},
     "output_type": "execute_result"
    }
   ],
   "source": [
    "def age_in_completed_years (bd, d)\n",
    "    # Difference in years, less one if you have not had a birthday this year.\n",
    "    a = d.year - bd.year\n",
    "    a = a - 1 if (\n",
    "         bd.month >  d.month or \n",
    "        (bd.month >= d.month and bd.day > d.day)\n",
    "    )\n",
    "    a\n",
    "end"
   ]
  },
  {
   "cell_type": "code",
   "execution_count": 13,
   "metadata": {},
   "outputs": [],
   "source": [
    "# Creation\n",
    "DB_OLAP.drop_table?(:admission_pat_age)\n",
    "DB_OLAP.create_table(:admission_pat_age) do\n",
    "  Integer :age, primary_key: true\n",
    "  String :decade\n",
    "end\n",
    "\n",
    "# Population\n",
    "Admission.all.uniq.each do |admission|\n",
    "  age = age_in_completed_years(admission.patient.dob, admission.admittime)\n",
    "  decade = age / 10\n",
    "  decade_str = \"#{decade}0 - #{decade}9\"  \n",
    "  if DB_OLAP[:admission_pat_age].where(age: age).empty?\n",
    "    DB_OLAP[:admission_pat_age].insert(\n",
    "      age: age,\n",
    "      decade: decade_str\n",
    "    )\n",
    "  end\n",
    "end\n",
    "\n",
    "nil"
   ]
  },
  {
   "cell_type": "markdown",
   "metadata": {},
   "source": [
    "#### Patient status dimension table"
   ]
  },
  {
   "cell_type": "code",
   "execution_count": 14,
   "metadata": {},
   "outputs": [],
   "source": [
    "# Creation\n",
    "DB_OLAP.drop_table?(:admission_pat_status)\n",
    "DB_OLAP.create_table(:admission_pat_status) do\n",
    "  String :status, primary_key: true\n",
    "  String :gender\n",
    "  String :ethnicity\n",
    "  String :insurance\n",
    "end\n",
    "\n",
    "# Population\n",
    "Admission.all.uniq.each do |admission|\n",
    "  ethnicity = admission.ethnicity\n",
    "  insurance = admission.insurance\n",
    "  gender = admission.patient.gender\n",
    "  status = \"#{gender} - #{ethnicity} - #{insurance}\"\n",
    "  \n",
    "  if DB_OLAP[:admission_pat_status].where(status: status).empty?\n",
    "    DB_OLAP[:admission_pat_status].insert(\n",
    "      status: status,\n",
    "      gender: gender,\n",
    "      ethnicity: ethnicity,\n",
    "      insurance: insurance\n",
    "    )\n",
    "  end\n",
    "end\n",
    "\n",
    "nil"
   ]
  },
  {
   "cell_type": "markdown",
   "metadata": {},
   "source": [
    "#### Fact table"
   ]
  },
  {
   "cell_type": "code",
   "execution_count": 21,
   "metadata": {},
   "outputs": [],
   "source": [
    "# Creation\n",
    "DB_OLAP.drop_table?(:admissions)\n",
    "DB_OLAP.create_table(:admissions) do\n",
    "  Integer :id, primary_key: true\n",
    "  Integer :diagnosis_count\n",
    "  Integer :output_events_count\n",
    "  \n",
    "  Integer :hospital_expire_flag\n",
    "  Integer :age\n",
    "  String :status\n",
    "  String :intime\n",
    "end\n",
    "\n",
    "# Population\n",
    "Admission.all.uniq.each do |admission|\n",
    "  diagnosis_count = admission.diagnosis.length\n",
    "  output_events_count = admission.outputevents.length\n",
    "  DB_OLAP[:admissions].insert(\n",
    "    id: admission.row_id,\n",
    "    diagnosis_count: diagnosis_count,\n",
    "    output_events_count: output_events_count,\n",
    "    \n",
    "    hospital_expire_flag: admission.hospital_expire_flag,\n",
    "    age: age_in_completed_years(admission.patient.dob, admission.admittime),\n",
    "    status: \"#{admission.patient.gender} - #{admission.ethnicity} - #{admission.insurance}\",\n",
    "    intime: \"#{admission.admittime.year}-#{admission.admittime.month}-#{admission.admittime.day}\"\n",
    "  )\n",
    "end\n",
    "\n",
    "nil"
   ]
  },
  {
   "cell_type": "markdown",
   "metadata": {},
   "source": [
    "## XML implementation"
   ]
  },
  {
   "cell_type": "raw",
   "metadata": {},
   "source": [
    "<Schema name=\"Admissions\">\n",
    "  <Cube name=\"Admission\" visible=\"true\" cache=\"true\" enabled=\"true\">\n",
    "    <Table name=\"admissions\" schema=\"olap\">\n",
    "    </Table>\n",
    "    <Dimension type=\"StandardDimension\" visible=\"true\" foreignKey=\"intime\" name=\"Admission date\">\n",
    "      <Hierarchy name=\"dates\" visible=\"true\" hasAll=\"false\" primaryKey=\"day\">\n",
    "        <Table name=\"admission_intime\" schema=\"olap\">\n",
    "        </Table>\n",
    "        <Level name=\"Day\" visible=\"true\" column=\"day\" type=\"String\" uniqueMembers=\"false\" levelType=\"Regular\" hideMemberIf=\"Never\">\n",
    "        </Level>\n",
    "        <Level name=\"Month\" visible=\"true\" column=\"month\" type=\"String\" uniqueMembers=\"false\" levelType=\"Regular\" hideMemberIf=\"Never\">\n",
    "        </Level>\n",
    "        <Level name=\"Year\" visible=\"true\" column=\"year\" type=\"String\" uniqueMembers=\"false\" levelType=\"Regular\" hideMemberIf=\"Never\">\n",
    "        </Level>\n",
    "      </Hierarchy>\n",
    "    </Dimension>\n",
    "    <Dimension type=\"StandardDimension\" visible=\"true\" foreignKey=\"hospital_expire_flag\" name=\"Death\">\n",
    "      <Hierarchy name=\"death\" visible=\"true\" hasAll=\"false\" primaryKey=\"hospital_expire_flag\">\n",
    "        <Table name=\"admission_death\" schema=\"olap\">\n",
    "        </Table>\n",
    "        <Level name=\"Death\" visible=\"true\" column=\"status\" type=\"String\" uniqueMembers=\"false\" levelType=\"Regular\" hideMemberIf=\"Never\">\n",
    "        </Level>\n",
    "      </Hierarchy>\n",
    "    </Dimension>\n",
    "    <Dimension type=\"StandardDimension\" visible=\"true\" foreignKey=\"status\" name=\"Patient status\">\n",
    "      <Hierarchy name=\"types\" visible=\"true\" hasAll=\"false\" primaryKey=\"status\">\n",
    "        <Table name=\"admission_pat_status\" schema=\"olap\">\n",
    "        </Table>\n",
    "        <Level name=\"Gender\" visible=\"true\" column=\"gender\" type=\"String\" uniqueMembers=\"false\" levelType=\"Regular\" hideMemberIf=\"Never\">\n",
    "        </Level>\n",
    "        <Level name=\"Ethnicity\" visible=\"true\" column=\"ethnicity\" type=\"String\" uniqueMembers=\"false\" levelType=\"Regular\" hideMemberIf=\"Never\">\n",
    "        </Level>\n",
    "        <Level name=\"Insurance\" visible=\"true\" column=\"insurance\" type=\"String\" uniqueMembers=\"false\" levelType=\"Regular\" hideMemberIf=\"Never\">\n",
    "        </Level>\n",
    "      </Hierarchy>\n",
    "    </Dimension>\n",
    "    <Dimension type=\"StandardDimension\" visible=\"true\" foreignKey=\"age\" name=\"Patient age\">\n",
    "      <Hierarchy name=\"types\" visible=\"true\" hasAll=\"false\" primaryKey=\"age\">\n",
    "        <Table name=\"admission_pat_age\" schema=\"olap\">\n",
    "        </Table>\n",
    "        <Level name=\"Age\" visible=\"true\" column=\"age\" type=\"Integer\" uniqueMembers=\"false\" levelType=\"Regular\" hideMemberIf=\"Never\">\n",
    "        </Level>\n",
    "        <Level name=\"Decade\" visible=\"true\" column=\"decade\" type=\"String\" uniqueMembers=\"false\" levelType=\"Regular\" hideMemberIf=\"Never\">\n",
    "        </Level>\n",
    "      </Hierarchy>\n",
    "    </Dimension>\n",
    "\n",
    "    <Measure name=\"Count\" column=\"row_id\" aggregator=\"distinct-count\" visible=\"true\">\n",
    "    </Measure>\n",
    "    <Measure name=\"Average diagnosis\" column=\"diagnosis_count\" aggregator=\"avg\" visible=\"true\">\n",
    "    </Measure>\n",
    "    <Measure name=\"Average output events\" column=\"output_events_count\" aggregator=\"avg\" visible=\"true\">\n",
    "    </Measure>\n",
    "  </Cube>\n",
    "</Schema>"
   ]
  }
 ],
 "metadata": {
  "kernelspec": {
   "display_name": "Ruby 2.5.1",
   "language": "ruby",
   "name": "ruby"
  },
  "language_info": {
   "file_extension": ".rb",
   "mimetype": "application/x-ruby",
   "name": "ruby",
   "version": "2.5.1"
  }
 },
 "nbformat": 4,
 "nbformat_minor": 4
}
