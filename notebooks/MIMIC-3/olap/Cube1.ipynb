{
 "cells": [
  {
   "cell_type": "markdown",
   "metadata": {},
   "source": [
    "## Schema 1: Intensive care unit stay\n",
    "\n",
    "![Cube 1](img/Cube1.png)"
   ]
  },
  {
   "cell_type": "code",
   "execution_count": 2,
   "metadata": {},
   "outputs": [],
   "source": [
    "require 'sequel'\n",
    "\n",
    "DB_MIMIC = Sequel.connect(adapter: 'postgres',\n",
    "                          host: 'postgres',\n",
    "                          user: 'postgres',\n",
    "                          password: 'password',\n",
    "                          database: 'mimic3_demo',\n",
    "                          search_path: ['mimiciii']\n",
    "                          )\n",
    "\n",
    "DB_OLAP = Sequel.connect(adapter: 'postgres',\n",
    "                          host: 'postgres',\n",
    "                          user: 'postgres',\n",
    "                          password: 'password',\n",
    "                          database: 'mimic3_demo',\n",
    "                          search_path: ['olap']\n",
    "                          )\n",
    "\n",
    "load '../etl/model.rb'\n",
    "nil"
   ]
  },
  {
   "cell_type": "markdown",
   "metadata": {},
   "source": [
    "#### Time dimension table"
   ]
  },
  {
   "cell_type": "code",
   "execution_count": 2,
   "metadata": {},
   "outputs": [],
   "source": [
    "# Creation\n",
    "DB_OLAP.drop_table?(:icu_stay_time)\n",
    "DB_OLAP.create_table(:icu_stay_time) do\n",
    "  DateTime :intime, primary_key: true\n",
    "  String :day\n",
    "  String :month\n",
    "  String :year\n",
    "end\n",
    "\n",
    "# Population\n",
    "Icustay.all.uniq.each do |icustay|\n",
    "  time = icustay.intime\n",
    "  year = time.year\n",
    "  month = time.month\n",
    "  day = time.day\n",
    "  DB_OLAP[:icu_stay_time].insert(\n",
    "    intime: time,\n",
    "    day: \"#{year}-#{month}-#{day}\",\n",
    "    month: \"#{year}-#{month}\",\n",
    "    year: year.to_s\n",
    "  )\n",
    "end\n",
    "\n",
    "nil"
   ]
  },
  {
   "cell_type": "markdown",
   "metadata": {},
   "source": [
    "#### Patient age dimension table"
   ]
  },
  {
   "cell_type": "code",
   "execution_count": 8,
   "metadata": {},
   "outputs": [
    {
     "data": {
      "text/plain": [
       ":age_in_completed_years"
      ]
     },
     "execution_count": 8,
     "metadata": {},
     "output_type": "execute_result"
    }
   ],
   "source": [
    "def age_in_completed_years (bd, d)\n",
    "    # Difference in years, less one if you have not had a birthday this year.\n",
    "    a = d.year - bd.year\n",
    "    a = a - 1 if (\n",
    "         bd.month >  d.month or \n",
    "        (bd.month >= d.month and bd.day > d.day)\n",
    "    )\n",
    "    a\n",
    "end"
   ]
  },
  {
   "cell_type": "code",
   "execution_count": 76,
   "metadata": {},
   "outputs": [],
   "source": [
    "# Creation\n",
    "DB_OLAP.drop_table?(:icu_stay_pat_age)\n",
    "DB_OLAP.create_table(:icu_stay_pat_age) do\n",
    "  Integer :age_id, primary_key: true\n",
    "  String :age\n",
    "  String :decade\n",
    "end\n",
    "\n",
    "# Population\n",
    "Icustay.all.uniq.each do |icustay|\n",
    "  patient = icustay.patient\n",
    "  age = age_in_completed_years(patient.dob, icustay.intime)\n",
    "  decade = age / 10\n",
    "  decade_str = \"#{decade}0 - #{decade}9\"  \n",
    "  if DB_OLAP[:icu_stay_pat_age].where(age_id: age).empty?\n",
    "    DB_OLAP[:icu_stay_pat_age].insert(\n",
    "      age_id: age,\n",
    "      age: age.to_s,\n",
    "      decade: decade_str\n",
    "    )\n",
    "  end\n",
    "end\n",
    "\n",
    "nil"
   ]
  },
  {
   "cell_type": "markdown",
   "metadata": {},
   "source": [
    "#### Death dimension table"
   ]
  },
  {
   "cell_type": "code",
   "execution_count": 4,
   "metadata": {},
   "outputs": [],
   "source": [
    "#Creation\n",
    "# Creation\n",
    "DB_OLAP.drop_table?(:icu_stay_deaths)\n",
    "DB_OLAP.create_table(:icu_stay_deaths) do\n",
    "  Integer :hospital_expire_flag, primary_key: true\n",
    "  String :death\n",
    "end\n",
    "\n",
    "# Population\n",
    "DB_OLAP[:icu_stay_deaths].insert(\n",
    "  hospital_expire_flag: 0,\n",
    "  death: 'alive'\n",
    ")\n",
    "DB_OLAP[:icu_stay_deaths].insert(\n",
    "  hospital_expire_flag: 1,\n",
    "  death: 'dead'\n",
    ")\n",
    "\n",
    "\n",
    "nil"
   ]
  },
  {
   "cell_type": "markdown",
   "metadata": {},
   "source": [
    "#### Fact table"
   ]
  },
  {
   "cell_type": "code",
   "execution_count": 10,
   "metadata": {},
   "outputs": [],
   "source": [
    "# Creation\n",
    "DB_OLAP.drop_table?(:icustays)\n",
    "DB_OLAP.create_table(:icustays) do\n",
    "  Integer :id, primary_key: true\n",
    "  # Measures\n",
    "  Integer :elapsed_days\n",
    "  Integer :diagnoses_count\n",
    "  # Dimension keys \n",
    "  DateTime :intime\n",
    "  Integer :hospital_expire_flag\n",
    "  Integer :age_id\n",
    "end\n",
    "\n",
    "# Population\n",
    "Icustay.all.uniq.each do |icustay|\n",
    "  \n",
    "  days = nil\n",
    "  if not icustay.outtime.nil?\n",
    "    days = (icustay.outtime - icustay.intime).to_i / ( 3600 * 24 )  # Calculte elapsed days\n",
    "  end\n",
    "  \n",
    "  DB_OLAP[:icustays].insert(\n",
    "    id: icustay.row_id,\n",
    "    \n",
    "    elapsed_days: days,\n",
    "    diagnoses_count: icustay.admission.diagnosis.length,\n",
    "    \n",
    "    hospital_expire_flag: icustay.admission.hospital_expire_flag,\n",
    "    intime: icustay.intime,\n",
    "    age_id: age_in_completed_years(icustay.patient.dob, icustay.intime)\n",
    "  )\n",
    "end\n",
    "\n",
    "nil"
   ]
  },
  {
   "cell_type": "markdown",
   "metadata": {},
   "source": [
    "## XML implementation"
   ]
  },
  {
   "cell_type": "raw",
   "metadata": {},
   "source": [
    "<Schema name=\"I.C.U. stays\">\n",
    "  <Cube name=\"I.C.U. stays\" visible=\"true\" cache=\"true\" enabled=\"true\">\n",
    "    <Table name=\"icustays\" schema=\"olap\">\n",
    "    </Table>\n",
    "    <Dimension type=\"StandardDimension\" visible=\"true\" foreignKey=\"intime\" name=\"In-time\">\n",
    "      <Hierarchy name=\"dates\" visible=\"true\" hasAll=\"false\" primaryKey=\"intime\">\n",
    "        <Table name=\"icu_stay_time\" schema=\"olap\">\n",
    "        </Table>\n",
    "        <Level name=\"Day\" visible=\"true\" column=\"day\" type=\"String\" uniqueMembers=\"false\" levelType=\"Regular\" hideMemberIf=\"Never\">\n",
    "        </Level>\n",
    "        <Level name=\"Month\" visible=\"true\" column=\"month\" type=\"String\" uniqueMembers=\"false\" levelType=\"Regular\" hideMemberIf=\"Never\">\n",
    "        </Level>\n",
    "        <Level name=\"Year\" visible=\"true\" column=\"year\" type=\"String\" uniqueMembers=\"false\" levelType=\"Regular\" hideMemberIf=\"Never\">\n",
    "        </Level>\n",
    "      </Hierarchy>\n",
    "    </Dimension>\n",
    "    <Dimension type=\"StandardDimension\" visible=\"true\" foreignKey=\"hospital_expire_flag\" name=\"Deaths\">\n",
    "      <Hierarchy name=\"deaths\" visible=\"true\" hasAll=\"false\" primaryKey=\"hospital_expire_flag\">\n",
    "        <Table name=\"icu_stay_deaths\" schema=\"olap\">\n",
    "        </Table>\n",
    "        <Level name=\"Deaths\" visible=\"true\" column=\"death\" type=\"String\" uniqueMembers=\"false\" levelType=\"Regular\" hideMemberIf=\"Never\">\n",
    "        </Level>\n",
    "      </Hierarchy>\n",
    "    </Dimension>\n",
    "    <Dimension type=\"StandardDimension\" visible=\"true\" foreignKey=\"age_id\" name=\"Patient age\">\n",
    "      <Hierarchy name=\"ages\" visible=\"true\" hasAll=\"false\" primaryKey=\"age_id\">\n",
    "        <Table name=\"icu_stay_pat_age\" schema=\"olap\">\n",
    "        </Table>\n",
    "        <Level name=\"Age\" visible=\"true\" column=\"age\" type=\"String\" uniqueMembers=\"false\" levelType=\"Regular\" hideMemberIf=\"Never\">\n",
    "        </Level>\n",
    "        <Level name=\"Decade\" visible=\"true\" column=\"decade\" type=\"String\" uniqueMembers=\"false\" levelType=\"Regular\" hideMemberIf=\"Never\">\n",
    "        </Level>\n",
    "      </Hierarchy>\n",
    "    </Dimension>\n",
    "    <Measure name=\"Count\" column=\"id\" aggregator=\"distinct-count\" visible=\"true\">\n",
    "    </Measure>\n",
    "    <Measure name=\"Average duration (days)\" column=\"elapsed_days\" aggregator=\"avg\" visible=\"true\">\n",
    "    </Measure>\n",
    "    <Measure name=\"Average diagnosis count\" column=\"diagnoses_count\" aggregator=\"avg\" visible=\"true\">\n",
    "    </Measure>\n",
    "  </Cube>\n",
    "</Schema>"
   ]
  },
  {
   "cell_type": "markdown",
   "metadata": {},
   "source": [
    "## TESTS"
   ]
  },
  {
   "cell_type": "code",
   "execution_count": 48,
   "metadata": {
    "scrolled": true
   },
   "outputs": [
    {
     "data": {
      "text/plain": [
       "true"
      ]
     },
     "execution_count": 48,
     "metadata": {},
     "output_type": "execute_result"
    }
   ],
   "source": [
    "DB_OLAP[:icu_stay_pat_age].where(age_id: 5).empty?"
   ]
  },
  {
   "cell_type": "code",
   "execution_count": 52,
   "metadata": {},
   "outputs": [
    {
     "data": {
      "text/plain": [
       "[:include?, :any?, :empty?, :eql?, :frozen?, :all?, :one?, :none?, :member?, :instance_variable_defined?, :instance_of?, :kind_of?, :is_a?, :respond_to?, :nil?, :tainted?, :untrusted?, :equal?]"
      ]
     },
     "execution_count": 52,
     "metadata": {},
     "output_type": "execute_result"
    }
   ],
   "source": [
    "[1, 2, 3].methods.grep(/\\?/)"
   ]
  },
  {
   "cell_type": "code",
   "execution_count": 77,
   "metadata": {},
   "outputs": [
    {
     "data": {
      "text/plain": [
       "70"
      ]
     },
     "execution_count": 77,
     "metadata": {},
     "output_type": "execute_result"
    }
   ],
   "source": [
    "a = Icustay.first.intime\n",
    "b = Icustay.first.patient.dob\n",
    "age_in_completed_years(b, a)"
   ]
  },
  {
   "cell_type": "code",
   "execution_count": 3,
   "metadata": {},
   "outputs": [
    {
     "name": "stdout",
     "output_type": "stream",
     "text": [
      "no\n"
     ]
    }
   ],
   "source": [
    "a = \"453\"\n",
    "if a =~ /^(V|E)[0-9]*/\n",
    "  puts 'yes'\n",
    "else\n",
    "  puts 'no'\n",
    "end"
   ]
  },
  {
   "cell_type": "code",
   "execution_count": 26,
   "metadata": {},
   "outputs": [
    {
     "data": {
      "text/plain": [
       "[#<DiagnoseIcd @values={:row_id=>112513, :subject_id=>10027, :hadm_id=>199395, :seq_num=>1, :icd9_code=>\"4280\"}>, #<DiagnoseIcd @values={:row_id=>112514, :subject_id=>10027, :hadm_id=>199395, :seq_num=>2, :icd9_code=>\"4240\"}>, #<DiagnoseIcd @values={:row_id=>112515, :subject_id=>10027, :hadm_id=>199395, :seq_num=>3, :icd9_code=>\"3970\"}>, #<DiagnoseIcd @values={:row_id=>112516, :subject_id=>10027, :hadm_id=>199395, :seq_num=>4, :icd9_code=>\"4266\"}>, #<DiagnoseIcd @values={:row_id=>112517, :subject_id=>10027, :hadm_id=>199395, :seq_num=>5, :icd9_code=>\"42731\"}>, #<DiagnoseIcd @values={:row_id=>112518, :subject_id=>10027, :hadm_id=>199395, :seq_num=>6, :icd9_code=>\"5859\"}>, #<DiagnoseIcd @values={:row_id=>112519, :subject_id=>10027, :hadm_id=>199395, :seq_num=>7, :icd9_code=>\"41401\"}>, #<DiagnoseIcd @values={:row_id=>112520, :subject_id=>10027, :hadm_id=>199395, :seq_num=>8, :icd9_code=>\"4019\"}>, #<DiagnoseIcd @values={:row_id=>112521, :subject_id=>10027, :hadm_id=>199395, :seq_num=>9, :icd9_code=>\"25000\"}>, #<DiagnoseIcd @values={:row_id=>112522, :subject_id=>10027, :hadm_id=>199395, :seq_num=>10, :icd9_code=>\"2948\"}>, #<DiagnoseIcd @values={:row_id=>112523, :subject_id=>10027, :hadm_id=>199395, :seq_num=>11, :icd9_code=>\"5691\"}>, #<DiagnoseIcd @values={:row_id=>112524, :subject_id=>10027, :hadm_id=>199395, :seq_num=>12, :icd9_code=>\"79092\"}>]"
      ]
     },
     "execution_count": 26,
     "metadata": {},
     "output_type": "execute_result"
    }
   ],
   "source": [
    "icustay = Icustay.first\n",
    "DateTime.strptime((icustay.outtime - icustay.intime).to_s, '%s')\n",
    "#Icustay.each do |icustay| \n",
    "#  puts \"#{icustay.row_id}: #{icustay.admission.diagnosis}\"\n",
    "#end\n",
    "Icustay[12763]\n",
    "DiagnoseIcd.where(:hadm_id => Icustay[12763].hadm_id).all"
   ]
  }
 ],
 "metadata": {
  "kernelspec": {
   "display_name": "Ruby 2.5.1",
   "language": "ruby",
   "name": "ruby"
  },
  "language_info": {
   "file_extension": ".rb",
   "mimetype": "application/x-ruby",
   "name": "ruby",
   "version": "2.5.1"
  }
 },
 "nbformat": 4,
 "nbformat_minor": 4
}
