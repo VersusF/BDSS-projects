{
 "cells": [
  {
   "cell_type": "markdown",
   "metadata": {},
   "source": [
    "## Schema 1: Intensive care unit stay\n",
    "\n",
    "![Cube 1](img/Cube1.png)"
   ]
  },
  {
   "cell_type": "code",
   "execution_count": 1,
   "metadata": {},
   "outputs": [],
   "source": [
    "require 'sequel'\n",
    "\n",
    "DB_MIMIC = Sequel.connect(adapter: 'postgres',\n",
    "                          host: 'postgres',\n",
    "                          user: 'postgres',\n",
    "                          password: 'password',\n",
    "                          database: 'mimic3_demo',\n",
    "                          search_path: ['mimiciii']\n",
    "                          )\n",
    "\n",
    "DB_OLAP = Sequel.connect(adapter: 'postgres',\n",
    "                          host: 'postgres',\n",
    "                          user: 'postgres',\n",
    "                          password: 'password',\n",
    "                          database: 'mimic3_demo',\n",
    "                          search_path: ['olap']\n",
    "                          )\n",
    "\n",
    "load '../etl/model.rb'\n",
    "nil"
   ]
  },
  {
   "cell_type": "markdown",
   "metadata": {},
   "source": [
    "#### Time dimension table"
   ]
  },
  {
   "cell_type": "code",
   "execution_count": 2,
   "metadata": {},
   "outputs": [],
   "source": [
    "# Creation\n",
    "DB_OLAP.drop_table?(:icu_stay_time)\n",
    "DB_OLAP.create_table(:icu_stay_time) do\n",
    "  DateTime :intime, primary_key: true\n",
    "  String :day\n",
    "  String :month\n",
    "  String :year\n",
    "end\n",
    "\n",
    "# Population\n",
    "Icustay.all.uniq.each do |icustay|\n",
    "  time = icustay.intime\n",
    "  year = time.year\n",
    "  month = time.month\n",
    "  day = time.day\n",
    "  DB_OLAP[:icu_stay_time].insert(\n",
    "    intime: time,\n",
    "    day: \"#{year}-#{month}-#{day}\",\n",
    "    month: \"#{year}-#{month}\",\n",
    "    year: year.to_s\n",
    "  )\n",
    "end\n",
    "\n",
    "nil"
   ]
  },
  {
   "cell_type": "markdown",
   "metadata": {},
   "source": [
    "#### Patient age dimension table"
   ]
  },
  {
   "cell_type": "code",
   "execution_count": 12,
   "metadata": {},
   "outputs": [
    {
     "data": {
      "text/plain": [
       ":age_in_completed_years"
      ]
     },
     "execution_count": 12,
     "metadata": {},
     "output_type": "execute_result"
    }
   ],
   "source": [
    "def age_in_completed_years (bd, d)\n",
    "    # Difference in years, less one if you have not had a birthday this year.\n",
    "    a = d.year - bd.year\n",
    "    a = a - 1 if (\n",
    "         bd.month >  d.month or \n",
    "        (bd.month >= d.month and bd.day > d.day)\n",
    "    )\n",
    "    a\n",
    "end"
   ]
  },
  {
   "cell_type": "code",
   "execution_count": 76,
   "metadata": {},
   "outputs": [],
   "source": [
    "# Creation\n",
    "DB_OLAP.drop_table?(:icu_stay_pat_age)\n",
    "DB_OLAP.create_table(:icu_stay_pat_age) do\n",
    "  Integer :age_id, primary_key: true\n",
    "  String :age\n",
    "  String :decade\n",
    "end\n",
    "\n",
    "# Population\n",
    "Icustay.all.uniq.each do |icustay|\n",
    "  patient = icustay.patient\n",
    "  age = age_in_completed_years(patient.dob, icustay.intime)\n",
    "  decade = age / 10\n",
    "  decade_str = \"#{decade}0 - #{decade}9\"  \n",
    "  if DB_OLAP[:icu_stay_pat_age].where(age_id: age).empty?\n",
    "    DB_OLAP[:icu_stay_pat_age].insert(\n",
    "      age_id: age,\n",
    "      age: age.to_s,\n",
    "      decade: decade_str\n",
    "    )\n",
    "  end\n",
    "end\n",
    "\n",
    "nil"
   ]
  },
  {
   "cell_type": "markdown",
   "metadata": {},
   "source": [
    "#### Diagnose dimension table"
   ]
  },
  {
   "cell_type": "code",
   "execution_count": 2,
   "metadata": {},
   "outputs": [
    {
     "data": {
      "text/plain": [
       ":find_cat"
      ]
     },
     "execution_count": 2,
     "metadata": {},
     "output_type": "execute_result"
    }
   ],
   "source": [
    "def find_cat (icd9)\n",
    "  if icd9.match /^(V|E)[0-9]*$/\n",
    "    return \"E and V codes: external causes of injury and supplemental classification\"\n",
    "  end\n",
    "  icd9 = icd9[0..2].to_i\n",
    "  if icd9 < 140\n",
    "    return \"001-139: infectious and parasitic diseases\"\n",
    "  end\n",
    "  if icd9 < 240\n",
    "    return \"140-239: neoplasms\"\n",
    "  end\n",
    "  if icd9 < 280\n",
    "    return \"240-279: endocrine, nutritional and metabolic diseases, and immunity disorders\"\n",
    "  end\n",
    "  if icd9 < 290\n",
    "    return \"280-289: diseases of the blood and blood-forming organs\"\n",
    "  end\n",
    "  if icd9 < 320\n",
    "    return \"290-319: mental disorders\"\n",
    "  end\n",
    "  if icd9 < 390\n",
    "    return \"320-389: diseases of the nervous system and sense organs\"\n",
    "  end\n",
    "  if icd9 < 460\n",
    "    return \"390-459: diseases of the circulatory system\"\n",
    "  end\n",
    "  if icd9 < 520\n",
    "    return \"460-519: diseases of the respiratory system\"\n",
    "  end\n",
    "  if icd9 < 580\n",
    "    return \"520-579: diseases of the digestive system\"\n",
    "  end\n",
    "  if icd9 < 630\n",
    "    return \"580-629: diseases of the genitourinary system\"\n",
    "  end\n",
    "  if icd9 < 680\n",
    "    return \"630-679: complications of pregnancy, childbirth, and the puerperium\"\n",
    "  end\n",
    "  if icd9 < 710\n",
    "    return \"680-709: diseases of the skin and subcutaneous tissue\"\n",
    "  end\n",
    "  if icd9 < 740\n",
    "    return \"710-739: diseases of the musculoskeletal system and connective tissue\"\n",
    "  end\n",
    "  if icd9 < 760\n",
    "    return \"740-759: congenital anomalies\"\n",
    "  end\n",
    "  if icd9 < 780\n",
    "    return \"760-779: certain conditions originating in the perinatal period\"\n",
    "  end\n",
    "  if icd9 < 800\n",
    "    return \"780-799: symptoms, signs, and ill-defined conditions\"\n",
    "  end\n",
    "  if icd9 < 1000\n",
    "    return \"800-999: injury and poisoning\"\n",
    "  end\n",
    "  return \"\"\n",
    "end \n",
    "    "
   ]
  },
  {
   "cell_type": "code",
   "execution_count": 4,
   "metadata": {},
   "outputs": [],
   "source": [
    "#Creation\n",
    "# Creation\n",
    "DB_OLAP.drop_table?(:icu_stay_diagnose)\n",
    "DB_OLAP.create_table(:icu_stay_diagnose) do\n",
    "  String :icd9_code, primary_key: true\n",
    "  String :icd9_cat\n",
    "end\n",
    "\n",
    "# Population\n",
    "Icustay.all.uniq.each do |icustay|\n",
    "  admission = icustay.admission\n",
    "  admission.diagnoses_icd.each do |diagnose|\n",
    "    icd9 = diagnose.icd9_code\n",
    "    if DB_OLAP[:icu_stay_diagnose].where(icd9_code: icd9).empty?\n",
    "      DB_OLAP[:icu_stay_diagnose].insert(\n",
    "        icd9_code: icd9,\n",
    "        icd9_cat: find_cat(icd9)\n",
    "      )\n",
    "    end\n",
    "  end\n",
    "end\n",
    "\n",
    "nil"
   ]
  },
  {
   "cell_type": "markdown",
   "metadata": {},
   "source": [
    "#### Fact table"
   ]
  },
  {
   "cell_type": "code",
   "execution_count": null,
   "metadata": {},
   "outputs": [],
   "source": [
    "# Creation\n",
    "DB_OLAP.drop_table?(:icustays)\n",
    "DB_OLAP.create_table(:icustays) do\n",
    "  Integer :id, primary_key: true\n",
    "  # Measures\n",
    "  DateTime :los\n",
    "  Integer :death\n",
    "  # Dimension keys \n",
    "  DateTime :intime\n",
    "  String :icd9_code\n",
    "  Integer :age_id\n",
    "end\n",
    "\n",
    "# Population\n",
    "Icustay.all.uniq.each do |icustay|\n",
    "  DB_OLAP[:admissions].insert(\n",
    "    id: icustay.row_id,\n",
    "    \n",
    "    los: DateTime.strptime((icustay.outtime - icustay.intime).to_s, '%s')\n",
    "    death: icustay.admission.hospital_expire_flag\n",
    "    \n",
    "    intime: icustay.intime,\n",
    "    icd9_code: \n",
    "    age_id: age_in_completed_years(icustay.patient.dob, icustay.intime)\n",
    "  )\n",
    "end\n",
    "\n",
    "nil"
   ]
  },
  {
   "cell_type": "markdown",
   "metadata": {},
   "source": [
    "## XML implementation"
   ]
  },
  {
   "cell_type": "raw",
   "metadata": {},
   "source": []
  },
  {
   "cell_type": "markdown",
   "metadata": {},
   "source": [
    "## TESTS"
   ]
  },
  {
   "cell_type": "code",
   "execution_count": 48,
   "metadata": {
    "scrolled": true
   },
   "outputs": [
    {
     "data": {
      "text/plain": [
       "true"
      ]
     },
     "execution_count": 48,
     "metadata": {},
     "output_type": "execute_result"
    }
   ],
   "source": [
    "DB_OLAP[:icu_stay_pat_age].where(age_id: 5).empty?"
   ]
  },
  {
   "cell_type": "code",
   "execution_count": 52,
   "metadata": {},
   "outputs": [
    {
     "data": {
      "text/plain": [
       "[:include?, :any?, :empty?, :eql?, :frozen?, :all?, :one?, :none?, :member?, :instance_variable_defined?, :instance_of?, :kind_of?, :is_a?, :respond_to?, :nil?, :tainted?, :untrusted?, :equal?]"
      ]
     },
     "execution_count": 52,
     "metadata": {},
     "output_type": "execute_result"
    }
   ],
   "source": [
    "[1, 2, 3].methods.grep(/\\?/)"
   ]
  },
  {
   "cell_type": "code",
   "execution_count": 77,
   "metadata": {},
   "outputs": [
    {
     "data": {
      "text/plain": [
       "70"
      ]
     },
     "execution_count": 77,
     "metadata": {},
     "output_type": "execute_result"
    }
   ],
   "source": [
    "a = Icustay.first.intime\n",
    "b = Icustay.first.patient.dob\n",
    "age_in_completed_years(b, a)"
   ]
  },
  {
   "cell_type": "code",
   "execution_count": 3,
   "metadata": {},
   "outputs": [
    {
     "name": "stdout",
     "output_type": "stream",
     "text": [
      "no\n"
     ]
    }
   ],
   "source": [
    "a = \"453\"\n",
    "if a =~ /^(V|E)[0-9]*/\n",
    "  puts 'yes'\n",
    "else\n",
    "  puts 'no'\n",
    "end"
   ]
  },
  {
   "cell_type": "code",
   "execution_count": 26,
   "metadata": {},
   "outputs": [
    {
     "data": {
      "text/plain": [
       "[#<DiagnoseIcd @values={:row_id=>112513, :subject_id=>10027, :hadm_id=>199395, :seq_num=>1, :icd9_code=>\"4280\"}>, #<DiagnoseIcd @values={:row_id=>112514, :subject_id=>10027, :hadm_id=>199395, :seq_num=>2, :icd9_code=>\"4240\"}>, #<DiagnoseIcd @values={:row_id=>112515, :subject_id=>10027, :hadm_id=>199395, :seq_num=>3, :icd9_code=>\"3970\"}>, #<DiagnoseIcd @values={:row_id=>112516, :subject_id=>10027, :hadm_id=>199395, :seq_num=>4, :icd9_code=>\"4266\"}>, #<DiagnoseIcd @values={:row_id=>112517, :subject_id=>10027, :hadm_id=>199395, :seq_num=>5, :icd9_code=>\"42731\"}>, #<DiagnoseIcd @values={:row_id=>112518, :subject_id=>10027, :hadm_id=>199395, :seq_num=>6, :icd9_code=>\"5859\"}>, #<DiagnoseIcd @values={:row_id=>112519, :subject_id=>10027, :hadm_id=>199395, :seq_num=>7, :icd9_code=>\"41401\"}>, #<DiagnoseIcd @values={:row_id=>112520, :subject_id=>10027, :hadm_id=>199395, :seq_num=>8, :icd9_code=>\"4019\"}>, #<DiagnoseIcd @values={:row_id=>112521, :subject_id=>10027, :hadm_id=>199395, :seq_num=>9, :icd9_code=>\"25000\"}>, #<DiagnoseIcd @values={:row_id=>112522, :subject_id=>10027, :hadm_id=>199395, :seq_num=>10, :icd9_code=>\"2948\"}>, #<DiagnoseIcd @values={:row_id=>112523, :subject_id=>10027, :hadm_id=>199395, :seq_num=>11, :icd9_code=>\"5691\"}>, #<DiagnoseIcd @values={:row_id=>112524, :subject_id=>10027, :hadm_id=>199395, :seq_num=>12, :icd9_code=>\"79092\"}>]"
      ]
     },
     "execution_count": 26,
     "metadata": {},
     "output_type": "execute_result"
    }
   ],
   "source": [
    "icustay = Icustay.first\n",
    "DateTime.strptime((icustay.outtime - icustay.intime).to_s, '%s')\n",
    "#Icustay.each do |icustay| \n",
    "#  puts \"#{icustay.row_id}: #{icustay.admission.diagnosis}\"\n",
    "#end\n",
    "Icustay[12763]\n",
    "DiagnoseIcd.where(:hadm_id => Icustay[12763].hadm_id).all"
   ]
  }
 ],
 "metadata": {
  "kernelspec": {
   "display_name": "Ruby 2.5.1",
   "language": "ruby",
   "name": "ruby"
  },
  "language_info": {
   "file_extension": ".rb",
   "mimetype": "application/x-ruby",
   "name": "ruby",
   "version": "2.5.1"
  }
 },
 "nbformat": 4,
 "nbformat_minor": 4
}
