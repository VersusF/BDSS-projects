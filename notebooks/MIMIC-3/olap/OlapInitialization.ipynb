{
 "cells": [
  {
   "cell_type": "markdown",
   "metadata": {},
   "source": [
    "# Olap initialization\n",
    "\n",
    "This and the following notebooks contain the code dealing with olap analysis:\n",
    "\n",
    "The first thing to do is the creation of a schema for the OLAP analysis and the related connection."
   ]
  },
  {
   "cell_type": "code",
   "execution_count": 1,
   "metadata": {},
   "outputs": [],
   "source": [
    "require 'pg'\n",
    "\n",
    "conn = PG.connect(dbname: 'mimic3', host: 'postgres', user: 'postgres', password: 'password')\n",
    "conn.exec('CREATE SCHEMA olap')\n",
    "conn.close"
   ]
  },
  {
   "cell_type": "code",
   "execution_count": 2,
   "metadata": {},
   "outputs": [],
   "source": [
    "require 'sequel'\n",
    "\n",
    "DB_MIMIC = Sequel.connect(adapter: 'postgres',\n",
    "                          host: 'postgres',\n",
    "                          user: 'postgres',\n",
    "                          password: 'password',\n",
    "                          database: 'mimic3_demo',\n",
    "                          search_path: ['mimiciii']\n",
    "                          )\n",
    "\n",
    "DB_OLAP = Sequel.connect(adapter: 'postgres',\n",
    "                          host: 'postgres',\n",
    "                          user: 'postgres',\n",
    "                          password: 'password',\n",
    "                          database: 'mimic3_demo',\n",
    "                          search_path: ['olap']\n",
    "                          )\n",
    "\n",
    "load '../etl/model.rb'\n",
    "nil"
   ]
  }
 ],
 "metadata": {
  "kernelspec": {
   "display_name": "Ruby 2.5.1",
   "language": "ruby",
   "name": "ruby"
  },
  "language_info": {
   "file_extension": ".rb",
   "mimetype": "application/x-ruby",
   "name": "ruby",
   "version": "2.5.1"
  }
 },
 "nbformat": 4,
 "nbformat_minor": 4
}