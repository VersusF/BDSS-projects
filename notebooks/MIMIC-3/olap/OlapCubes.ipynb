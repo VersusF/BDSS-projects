{
 "cells": [
  {
   "cell_type": "markdown",
   "metadata": {},
   "source": [
    "# Olap analysis\n",
    "\n",
    "This notebook contains the code dealing with olap analysis: cube design, table creation and schema loading.\n",
    "\n",
    "The first thing to do is the creation of a schema for the OLAP analysis and the connection"
   ]
  },
  {
   "cell_type": "code",
   "execution_count": null,
   "metadata": {},
   "outputs": [
    {
     "ename": "PG::DuplicateSchema",
     "evalue": "ERROR:  schema \"olap\" already exists\n",
     "output_type": "error",
     "traceback": [
      "\u001b[31mPG::DuplicateSchema\u001b[0m: ERROR:  schema \"olap\" already exists\n",
      "<main>:3:in `exec'",
      "<main>:3:in `<main>'",
      "/var/lib/gems/2.5.0/gems/iruby-0.4.0/lib/iruby/backend.rb:44:in `eval'",
      "/var/lib/gems/2.5.0/gems/iruby-0.4.0/lib/iruby/backend.rb:44:in `eval'",
      "/var/lib/gems/2.5.0/gems/iruby-0.4.0/lib/iruby/backend.rb:12:in `eval'",
      "/var/lib/gems/2.5.0/gems/iruby-0.4.0/lib/iruby/kernel.rb:90:in `execute_request'",
      "/var/lib/gems/2.5.0/gems/iruby-0.4.0/lib/iruby/kernel.rb:49:in `dispatch'",
      "/var/lib/gems/2.5.0/gems/iruby-0.4.0/lib/iruby/kernel.rb:38:in `run'",
      "/var/lib/gems/2.5.0/gems/iruby-0.4.0/lib/iruby/command.rb:110:in `run_kernel'",
      "/var/lib/gems/2.5.0/gems/iruby-0.4.0/lib/iruby/command.rb:40:in `run'",
      "/var/lib/gems/2.5.0/gems/iruby-0.4.0/bin/iruby:5:in `<top (required)>'",
      "/usr/local/bin/iruby:23:in `load'",
      "/usr/local/bin/iruby:23:in `<main>'"
     ]
    }
   ],
   "source": [
    "require 'pg'\n",
    "\n",
    "conn = PG.connect(dbname: 'mimic3_demo', host: 'postgres', user: 'postgres', password: 'password')\n",
    "conn.exec('CREATE SCHEMA olap')\n",
    "conn.close"
   ]
  },
  {
   "cell_type": "code",
   "execution_count": 1,
   "metadata": {},
   "outputs": [],
   "source": [
    "require 'sequel'\n",
    "\n",
    "DB_MIMIC = Sequel.connect(adapter: 'postgres',\n",
    "                          host: 'postgres',\n",
    "                          user: 'postgres',\n",
    "                          password: 'password',\n",
    "                          database: 'mimic3_demo',\n",
    "                          search_path: ['mimiciii']\n",
    "                          )\n",
    "\n",
    "DB_OLAP = Sequel.connect(adapter: 'postgres',\n",
    "                          host: 'postgres',\n",
    "                          user: 'postgres',\n",
    "                          password: 'password',\n",
    "                          database: 'mimic3_demo',\n",
    "                          search_path: ['olap']\n",
    "                          )\n",
    "\n",
    "load '../etl/model.rb'\n",
    "nil"
   ]
  },
  {
   "cell_type": "markdown",
   "metadata": {},
   "source": [
    "## Schema 0 - Test: Admission\n",
    "\n",
    "![Cube 0](img/Cube0.png)"
   ]
  },
  {
   "cell_type": "markdown",
   "metadata": {},
   "source": [
    "#### Time dimension table"
   ]
  },
  {
   "cell_type": "code",
   "execution_count": null,
   "metadata": {},
   "outputs": [],
   "source": [
    "# Creation\n",
    "DB_OLAP.drop_table?(:admissions_time)\n",
    "DB_OLAP.create_table(:admissions_time) do\n",
    "  DateTime :datetime, primary_key: true\n",
    "  String :day\n",
    "  String :month\n",
    "  String :year\n",
    "end\n",
    "\n",
    "# Population\n",
    "Admission.all.uniq.each do |admission|\n",
    "  time = admission.admittime\n",
    "  year = time.year\n",
    "  month = time.month\n",
    "  day = time.day\n",
    "  DB_OLAP[:admissions_time].insert(\n",
    "    datetime: time,\n",
    "    day: \"#{year}-#{month}-#{day}\",\n",
    "    month: \"#{year}-#{month}\",\n",
    "    year: year.to_s\n",
    "  )\n",
    "end\n",
    "\n",
    "nil"
   ]
  },
  {
   "cell_type": "markdown",
   "metadata": {},
   "source": [
    "#### Fact table"
   ]
  },
  {
   "cell_type": "code",
   "execution_count": null,
   "metadata": {},
   "outputs": [],
   "source": [
    "# Creation\n",
    "DB_OLAP.drop_table?(:admissions)\n",
    "DB_OLAP.create_table(:admissions) do\n",
    "  Integer :id, primary_key: true\n",
    "  DateTime :datetime\n",
    "  String :type\n",
    "  String :insurance\n",
    "  String :location\n",
    "  Integer :death\n",
    "end\n",
    "\n",
    "# Population\n",
    "Admission.all.uniq.each do |admission|\n",
    "  DB_OLAP[:admissions].insert(\n",
    "    id: admission.row_id,\n",
    "    datetime: admission.admittime,\n",
    "    type: admission.admission_type,\n",
    "    insurance: admission.insurance,\n",
    "    location: admission.admission_location,\n",
    "    death: admission.hospital_expire_flag\n",
    "  )\n",
    "end\n",
    "\n",
    "nil"
   ]
  },
  {
   "cell_type": "markdown",
   "metadata": {},
   "source": [
    "## XML implementation"
   ]
  },
  {
   "cell_type": "raw",
   "metadata": {},
   "source": [
    "<Schema name=\"Admissions\">\n",
    "  <Cube name=\"Admission\" visible=\"true\" cache=\"true\" enabled=\"true\">\n",
    "    <Table name=\"admissions\" schema=\"olap\">\n",
    "    </Table>\n",
    "    <Dimension type=\"StandardDimension\" visible=\"true\" foreignKey=\"datetime\" name=\"Admission time\">\n",
    "      <Hierarchy name=\"dates\" visible=\"true\" hasAll=\"false\" primaryKey=\"datetime\">\n",
    "        <Table name=\"admissions_time\" schema=\"olap\">\n",
    "        </Table>\n",
    "        <Level name=\"year\" visible=\"true\" column=\"year\" type=\"String\" uniqueMembers=\"false\" levelType=\"Regular\" hideMemberIf=\"Never\">\n",
    "        </Level>\n",
    "        <Level name=\"month\" visible=\"true\" column=\"month\" type=\"String\" uniqueMembers=\"false\" levelType=\"Regular\" hideMemberIf=\"Never\">\n",
    "        </Level>\n",
    "        <Level name=\"day\" visible=\"true\" column=\"day\" type=\"String\" uniqueMembers=\"false\" levelType=\"Regular\" hideMemberIf=\"Never\">\n",
    "        </Level>\n",
    "      </Hierarchy>\n",
    "    </Dimension>\n",
    "    <Measure name=\"count\" column=\"id\" aggregator=\"distinct-count\" visible=\"true\">\n",
    "    </Measure>\n",
    "    <Measure name=\"deaths\" column=\"death\" aggregator=\"distinct-count\" visible=\"true\">\n",
    "    </Measure>\n",
    "  </Cube>\n",
    "</Schema>"
   ]
  }
 ],
 "metadata": {
  "kernelspec": {
   "display_name": "Ruby 2.5.1",
   "language": "ruby",
   "name": "ruby"
  },
  "language_info": {
   "file_extension": ".rb",
   "mimetype": "application/x-ruby",
   "name": "ruby",
   "version": "2.5.1"
  }
 },
 "nbformat": 4,
 "nbformat_minor": 4
}
