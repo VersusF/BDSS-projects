{
 "cells": [
  {
   "cell_type": "markdown",
   "metadata": {},
   "source": [
    "# Olap analysis\n",
    "\n",
    "This notebook contains the code dealing with olap analysis: cube design, table creation and schema loading.\n",
    "\n",
    "The first thing to do is the creation of a schema for the OLAP analysis and the connection"
   ]
  },
  {
   "cell_type": "code",
   "execution_count": null,
   "metadata": {},
   "outputs": [],
   "source": [
    "require 'pg'\n",
    "\n",
    "conn = PG.connect(dbname: 'mimic3_demo', host: 'postgres', user: 'postgres', password: 'password')\n",
    "conn.exec('CREATE SCHEMA olap')\n",
    "conn.close"
   ]
  },
  {
   "cell_type": "code",
   "execution_count": 1,
   "metadata": {},
   "outputs": [],
   "source": [
    "require 'sequel'\n",
    "\n",
    "DB_MIMIC = Sequel.connect(adapter: 'postgres',\n",
    "                          host: 'postgres',\n",
    "                          user: 'postgres',\n",
    "                          password: 'password',\n",
    "                          database: 'mimic3_demo',\n",
    "                          search_path: ['mimiciii']\n",
    "                          )\n",
    "\n",
    "DB_OLAP = Sequel.connect(adapter: 'postgres',\n",
    "                          host: 'postgres',\n",
    "                          user: 'postgres',\n",
    "                          password: 'password',\n",
    "                          database: 'mimic3_demo',\n",
    "                          search_path: ['olap']\n",
    "                          )\n",
    "\n",
    "load '../etl/model.rb'\n",
    "nil"
   ]
  },
  {
   "cell_type": "markdown",
   "metadata": {},
   "source": [
    "## Schema 0 - Test: Admission\n",
    "\n",
    "![Cube 1](img/Cube1.png)"
   ]
  },
  {
   "cell_type": "markdown",
   "metadata": {},
   "source": [
    "#### Time dimension table"
   ]
  },
  {
   "cell_type": "code",
   "execution_count": null,
   "metadata": {},
   "outputs": [],
   "source": [
    "# Creation\n",
    "DB_OLAP.drop_table?(:admissions_time)\n",
    "DB_OLAP.create_table(:admissions_time) do\n",
    "  DateTime :datetime, primary_key: true\n",
    "  String :day\n",
    "  String :month\n",
    "  String :year\n",
    "end\n",
    "\n",
    "# Population\n",
    "Admission.all.uniq.each do |admission|\n",
    "  time = admission.admittime\n",
    "  year = time.year\n",
    "  month = time.month\n",
    "  day = time.day\n",
    "  DB_OLAP[:admissions_time].insert(\n",
    "    datetime: time,\n",
    "    day: \"#{year}-#{month}-#{day}\",\n",
    "    month: \"#{year}-#{month}\",\n",
    "    year: year.to_s\n",
    "  )\n",
    "end\n",
    "\n",
    "nil"
   ]
  },
  {
   "cell_type": "markdown",
   "metadata": {},
   "source": [
    "#### Fact table"
   ]
  },
  {
   "cell_type": "code",
   "execution_count": null,
   "metadata": {},
   "outputs": [],
   "source": [
    "# Creation\n",
    "DB_OLAP.drop_table?(:admissions)\n",
    "DB_OLAP.create_table(:admissions) do\n",
    "  Integer :id, primary_key: true\n",
    "  DateTime :datetime\n",
    "  String :type\n",
    "  String :insurance\n",
    "  String :location\n",
    "  Integer :death\n",
    "end\n",
    "\n",
    "# Population\n",
    "Admission.all.uniq.each do |admission|\n",
    "  DB_OLAP[:admissions].insert(\n",
    "    id: admission.row_id,\n",
    "    datetime: admission.admittime,\n",
    "    type: admission.admission_type,\n",
    "    insurance: admission.insurance,\n",
    "    location: admission.admission_location,\n",
    "    death: admission.hospital_expire_flag\n",
    "  )\n",
    "end\n",
    "\n",
    "nil"
   ]
  },
  {
   "cell_type": "markdown",
   "metadata": {},
   "source": [
    "## Schema 1: Admission\n",
    "\n",
    "![Cube 1](img/Cube1.png)"
   ]
  },
  {
   "cell_type": "code",
   "execution_count": null,
   "metadata": {},
   "outputs": [],
   "source": []
  }
 ],
 "metadata": {
  "kernelspec": {
   "display_name": "Ruby 2.5.1",
   "language": "ruby",
   "name": "ruby"
  },
  "language_info": {
   "file_extension": ".rb",
   "mimetype": "application/x-ruby",
   "name": "ruby",
   "version": "2.5.1"
  }
 },
 "nbformat": 4,
 "nbformat_minor": 4
}
