{
 "cells": [
  {
   "cell_type": "markdown",
   "metadata": {},
   "source": [
    "# Olap analysis\n",
    "\n",
    "This notebook contains the code dealing with olap analysis: cube design, table creation and schema loading.\n",
    "\n",
    "The first thing to do is the creation of a schema for the OLAP analysis and the connection"
   ]
  },
  {
   "cell_type": "code",
   "execution_count": null,
   "metadata": {},
   "outputs": [
    {
     "ename": "PG::DuplicateSchema",
     "evalue": "ERROR:  schema \"olap\" already exists\n",
     "output_type": "error",
     "traceback": [
      "\u001b[31mPG::DuplicateSchema\u001b[0m: ERROR:  schema \"olap\" already exists\n",
      "<main>:3:in `exec'",
      "<main>:3:in `<main>'",
      "/var/lib/gems/2.5.0/gems/iruby-0.4.0/lib/iruby/backend.rb:44:in `eval'",
      "/var/lib/gems/2.5.0/gems/iruby-0.4.0/lib/iruby/backend.rb:44:in `eval'",
      "/var/lib/gems/2.5.0/gems/iruby-0.4.0/lib/iruby/backend.rb:12:in `eval'",
      "/var/lib/gems/2.5.0/gems/iruby-0.4.0/lib/iruby/kernel.rb:90:in `execute_request'",
      "/var/lib/gems/2.5.0/gems/iruby-0.4.0/lib/iruby/kernel.rb:49:in `dispatch'",
      "/var/lib/gems/2.5.0/gems/iruby-0.4.0/lib/iruby/kernel.rb:38:in `run'",
      "/var/lib/gems/2.5.0/gems/iruby-0.4.0/lib/iruby/command.rb:110:in `run_kernel'",
      "/var/lib/gems/2.5.0/gems/iruby-0.4.0/lib/iruby/command.rb:40:in `run'",
      "/var/lib/gems/2.5.0/gems/iruby-0.4.0/bin/iruby:5:in `<top (required)>'",
      "/usr/local/bin/iruby:23:in `load'",
      "/usr/local/bin/iruby:23:in `<main>'"
     ]
    }
   ],
   "source": [
    "require 'pg'\n",
    "\n",
    "conn = PG.connect(dbname: 'mimic3_demo', host: 'postgres', user: 'postgres', password: 'password')\n",
    "conn.exec('CREATE SCHEMA olap')\n",
    "conn.close"
   ]
  },
  {
   "cell_type": "code",
   "execution_count": 2,
   "metadata": {},
   "outputs": [],
   "source": [
    "require 'sequel'\n",
    "\n",
    "DB_MIMIC = Sequel.connect(adapter: 'postgres',\n",
    "                          host: 'postgres',\n",
    "                          user: 'postgres',\n",
    "                          password: 'password',\n",
    "                          database: 'mimic3_demo',\n",
    "                          search_path: ['mimiciii']\n",
    "                          )\n",
    "\n",
    "DB_OLAP = Sequel.connect(adapter: 'postgres',\n",
    "                          host: 'postgres',\n",
    "                          user: 'postgres',\n",
    "                          password: 'password',\n",
    "                          database: 'mimic3_demo',\n",
    "                          search_path: ['olap']\n",
    "                          )\n",
    "\n",
    "load '../etl/model.rb'\n",
    "nil"
   ]
  },
  {
   "cell_type": "markdown",
   "metadata": {},
   "source": [
    "## Schema 0 - Test: Admission\n",
    "\n",
    "![Cube 0](img/Cube0.png)"
   ]
  },
  {
   "cell_type": "markdown",
   "metadata": {},
   "source": [
    "#### Time dimension table"
   ]
  },
  {
   "cell_type": "code",
   "execution_count": null,
   "metadata": {},
   "outputs": [],
   "source": [
    "# Creation\n",
    "DB_OLAP.drop_table?(:admissions_time)\n",
    "DB_OLAP.create_table(:admissions_time) do\n",
    "  DateTime :datetime, primary_key: true\n",
    "  String :day\n",
    "  String :month\n",
    "  String :year\n",
    "end\n",
    "\n",
    "# Population\n",
    "Admission.all.uniq.each do |admission|\n",
    "  time = admission.admittime\n",
    "  year = time.year\n",
    "  month = time.month\n",
    "  day = time.day\n",
    "  DB_OLAP[:admissions_time].insert(\n",
    "    datetime: time,\n",
    "    day: \"#{year}-#{month}-#{day}\",\n",
    "    month: \"#{year}-#{month}\",\n",
    "    year: year.to_s\n",
    "  )\n",
    "end\n",
    "\n",
    "nil"
   ]
  },
  {
   "cell_type": "markdown",
   "metadata": {},
   "source": [
    "#### Fact table"
   ]
  },
  {
   "cell_type": "code",
   "execution_count": null,
   "metadata": {},
   "outputs": [],
   "source": [
    "# Creation\n",
    "DB_OLAP.drop_table?(:admissions)\n",
    "DB_OLAP.create_table(:admissions) do\n",
    "  Integer :id, primary_key: true\n",
    "  DateTime :datetime\n",
    "  String :type\n",
    "  String :insurance\n",
    "  String :location\n",
    "  Integer :death\n",
    "end\n",
    "\n",
    "# Population\n",
    "Admission.all.uniq.each do |admission|\n",
    "  DB_OLAP[:admissions].insert(\n",
    "    id: admission.row_id,\n",
    "    datetime: admission.admittime,\n",
    "    type: admission.admission_type,\n",
    "    insurance: admission.insurance,\n",
    "    location: admission.admission_location,\n",
    "    death: admission.hospital_expire_flag\n",
    "  )\n",
    "end\n",
    "\n",
    "nil"
   ]
  },
  {
   "cell_type": "markdown",
   "metadata": {},
   "source": [
    "## Schema 1: Intensive care unit stay\n",
    "\n",
    "![Cube 1](img/Cube1.png)"
   ]
  },
  {
   "cell_type": "markdown",
   "metadata": {},
   "source": [
    "#### Time dimension table"
   ]
  },
  {
   "cell_type": "code",
   "execution_count": 4,
   "metadata": {},
   "outputs": [],
   "source": [
    "# Creation\n",
    "DB_OLAP.drop_table?(:icu_stay_time)\n",
    "DB_OLAP.create_table(:icu_stay_time) do\n",
    "  DateTime :datetime, primary_key: true\n",
    "  String :day\n",
    "  String :month\n",
    "  String :year\n",
    "end\n",
    "\n",
    "# Population\n",
    "Icustay.all.uniq.each do |icustay|\n",
    "  time = icustay.intime\n",
    "  year = time.year\n",
    "  month = time.month\n",
    "  day = time.day\n",
    "  DB_OLAP[:icu_stay_time].insert(\n",
    "    datetime: time,\n",
    "    day: \"#{year}-#{month}-#{day}\",\n",
    "    month: \"#{year}-#{month}\",\n",
    "    year: year.to_s\n",
    "  )\n",
    "end\n",
    "\n",
    "nil"
   ]
  },
  {
   "cell_type": "markdown",
   "metadata": {},
   "source": [
    "#### Patient age dimension table"
   ]
  },
  {
   "cell_type": "code",
   "execution_count": 73,
   "metadata": {},
   "outputs": [
    {
     "data": {
      "text/plain": [
       ":age_in_completed_years"
      ]
     },
     "execution_count": 73,
     "metadata": {},
     "output_type": "execute_result"
    }
   ],
   "source": [
    "def age_in_completed_years (bd, d)\n",
    "    # Difference in years, less one if you have not had a birthday this year.\n",
    "    a = d.year - bd.year\n",
    "    a = a - 1 if (\n",
    "         bd.month >  d.month or \n",
    "        (bd.month >= d.month and bd.day > d.day)\n",
    "    )\n",
    "    a\n",
    "end"
   ]
  },
  {
   "cell_type": "code",
   "execution_count": 76,
   "metadata": {},
   "outputs": [],
   "source": [
    "# Creation\n",
    "DB_OLAP.drop_table?(:icu_stay_pat_age)\n",
    "DB_OLAP.create_table(:icu_stay_pat_age) do\n",
    "  Integer :age_id, primary_key: true\n",
    "  String :age\n",
    "  String :decade\n",
    "end\n",
    "\n",
    "# Population\n",
    "Icustay.all.uniq.each do |icustay|\n",
    "  patient = icustay.patient\n",
    "  age = age_in_completed_years(patient.dob, icustay.intime)\n",
    "  decade = age / 10\n",
    "  decade_str = \"#{decade}0 - #{decade}9\"  \n",
    "  if DB_OLAP[:icu_stay_pat_age].where(age_id: age).empty?\n",
    "    DB_OLAP[:icu_stay_pat_age].insert(\n",
    "      age_id: age,\n",
    "      age: age.to_s,\n",
    "      decade: decade_str\n",
    "    )\n",
    "  end\n",
    "end\n",
    "\n",
    "nil"
   ]
  },
  {
   "cell_type": "code",
   "execution_count": 8,
   "metadata": {},
   "outputs": [
    {
     "data": {
      "text/plain": [
       ":find_cat"
      ]
     },
     "execution_count": 8,
     "metadata": {},
     "output_type": "execute_result"
    }
   ],
   "source": [
    "def find_cat (icd9)\n",
    "  if icd9.match /^(V|E)[0-9]*$/\n",
    "    return \"E and V codes: external causes of injury and supplemental classification\"\n",
    "  end\n",
    "  icd9 = icd9[0..2].to_i\n",
    "  if icd9 < 140\n",
    "    return \"001-139: infectious and parasitic diseases\"\n",
    "  end\n",
    "  if icd9 < 240\n",
    "    return \"140-239: neoplasms\"\n",
    "  end\n",
    "  if icd9 < 280\n",
    "    return \"240-279: endocrine, nutritional and metabolic diseases, and immunity disorders\"\n",
    "  end\n",
    "  if icd9 < 290\n",
    "    return \"280-289: diseases of the blood and blood-forming organs\"\n",
    "  end\n",
    "  if icd9 < 320\n",
    "    return \"290-319: mental disorders\"\n",
    "  end\n",
    "  if icd9 < 390\n",
    "    return \"320-389: diseases of the nervous system and sense organs\"\n",
    "  end\n",
    "  if icd9 < 460\n",
    "    return \"390-459: diseases of the circulatory system\"\n",
    "  end\n",
    "  if icd9 < 520\n",
    "    return \"460-519: diseases of the respiratory system\"\n",
    "  end\n",
    "  if icd9 < 580\n",
    "    return \"520-579: diseases of the digestive system\"\n",
    "  end\n",
    "  if icd9 < 630\n",
    "    return \"580-629: diseases of the genitourinary system\"\n",
    "  end\n",
    "  if icd9 < 680\n",
    "    return \"630-679: complications of pregnancy, childbirth, and the puerperium\"\n",
    "  end\n",
    "  if icd9 < 710\n",
    "    return \"680-709: diseases of the skin and subcutaneous tissue\"\n",
    "  end\n",
    "  if icd9 < 740\n",
    "    return \"710-739: diseases of the musculoskeletal system and connective tissue\"\n",
    "  end\n",
    "  if icd9 < 760\n",
    "    return \"740-759: congenital anomalies\"\n",
    "  end\n",
    "  if icd9 < 780\n",
    "    return \"760-779: certain conditions originating in the perinatal period\"\n",
    "  end\n",
    "  if icd9 < 800\n",
    "    return \"780-799: symptoms, signs, and ill-defined conditions\"\n",
    "  end\n",
    "  if icd9 < 1000\n",
    "    return \"800-999: injury and poisoning\"\n",
    "  end\n",
    "  return \"\"\n",
    "end \n",
    "    "
   ]
  },
  {
   "cell_type": "markdown",
   "metadata": {},
   "source": [
    "#### Diagnose dimension table"
   ]
  },
  {
   "cell_type": "code",
   "execution_count": null,
   "metadata": {},
   "outputs": [],
   "source": [
    "#Creation\n",
    "# Creation\n",
    "DB_OLAP.drop_table?(:icu_stay_diagnose)\n",
    "DB_OLAP.create_table(:icu_stay_diagnose) do\n",
    "  String :icd9_code, primary_key: true\n",
    "  String :icd9_cat\n",
    "end\n",
    "\n",
    "# Population\n",
    "Icustay.all.uniq.each do |icustay|\n",
    "  admission = icustay.admission\n",
    "  admission.diagnoses_icd.each do |diagnose|\n",
    "    icd9 = diagnose.icd9_code\n",
    "    if DB_OLAP[:icu_stay_diagnose].where(icd9_code: icd9).empty?\n",
    "      DB_OLAP[:icu_stay_diagnose],insert(\n",
    "        icd9_code: icd9,\n",
    "        icd9_cat: find_cat(icd9)\n",
    "      )\n",
    "    end\n",
    "  end\n",
    "end\n",
    "\n",
    "nil"
   ]
  },
  {
   "cell_type": "markdown",
   "metadata": {},
   "source": [
    "## TESTS"
   ]
  },
  {
   "cell_type": "code",
   "execution_count": 48,
   "metadata": {
    "scrolled": true
   },
   "outputs": [
    {
     "data": {
      "text/plain": [
       "true"
      ]
     },
     "execution_count": 48,
     "metadata": {},
     "output_type": "execute_result"
    }
   ],
   "source": [
    "DB_OLAP[:icu_stay_pat_age].where(age_id: 5).empty?"
   ]
  },
  {
   "cell_type": "code",
   "execution_count": 52,
   "metadata": {},
   "outputs": [
    {
     "data": {
      "text/plain": [
       "[:include?, :any?, :empty?, :eql?, :frozen?, :all?, :one?, :none?, :member?, :instance_variable_defined?, :instance_of?, :kind_of?, :is_a?, :respond_to?, :nil?, :tainted?, :untrusted?, :equal?]"
      ]
     },
     "execution_count": 52,
     "metadata": {},
     "output_type": "execute_result"
    }
   ],
   "source": [
    "[1, 2, 3].methods.grep(/\\?/)"
   ]
  },
  {
   "cell_type": "code",
   "execution_count": 77,
   "metadata": {},
   "outputs": [
    {
     "data": {
      "text/plain": [
       "70"
      ]
     },
     "execution_count": 77,
     "metadata": {},
     "output_type": "execute_result"
    }
   ],
   "source": [
    "a = Icustay.first.intime\n",
    "b = Icustay.first.patient.dob\n",
    "age_in_completed_years(b, a)"
   ]
  },
  {
   "cell_type": "code",
   "execution_count": 87,
   "metadata": {},
   "outputs": [
    {
     "name": "stdout",
     "output_type": "stream",
     "text": [
      "no\n"
     ]
    }
   ],
   "source": [
    "a = \"453\"\n",
    "if a =~ /^(V|E)[0-9]*/\n",
    "  puts 'yes'\n",
    "else\n",
    "  puts 'no'\n",
    "end"
   ]
  }
 ],
 "metadata": {
  "kernelspec": {
   "display_name": "Ruby 2.5.1",
   "language": "ruby",
   "name": "ruby"
  },
  "language_info": {
   "file_extension": ".rb",
   "mimetype": "application/x-ruby",
   "name": "ruby",
   "version": "2.5.1"
  }
 },
 "nbformat": 4,
 "nbformat_minor": 4
}
