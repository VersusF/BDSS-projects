{
 "cells": [
  {
   "cell_type": "markdown",
   "metadata": {},
   "source": [
    "# MIMIC III: Creation, connection and model\n",
    "\n",
    "This notebook is for incrementally building the connection and the model for the MIMIC III database.\n",
    "\n",
    "## Database creation\n",
    "\n",
    "The tables were created using the script provided in <a href=\"https://github.com/MIT-LCP/mimic-code/blob/master/buildmimic/postgres/postgres_create_tables.sql\">Git-hub official repository</a>. Since the tables ID are defined as INTEGER, not as SERIAL, we have to manually provide a primary key using the `unrestricted_primary_key` instruction."
   ]
  },
  {
   "cell_type": "code",
   "execution_count": 1,
   "metadata": {},
   "outputs": [
    {
     "data": {
      "text/plain": [
       "#<PG::Connection:0x0000560604d422d0>"
      ]
     },
     "execution_count": 1,
     "metadata": {},
     "output_type": "execute_result"
    }
   ],
   "source": [
    "require 'pg'\n",
    "conn = PG.connect(dbname: 'postgres', host: 'postgres', user: 'postgres', password: 'password')"
   ]
  },
  {
   "cell_type": "code",
   "execution_count": 2,
   "metadata": {},
   "outputs": [
    {
     "data": {
      "text/plain": [
       "#<PG::Result:0x0000560604cea788 status=PGRES_COMMAND_OK ntuples=0 nfields=0 cmd_tuples=0>"
      ]
     },
     "execution_count": 2,
     "metadata": {},
     "output_type": "execute_result"
    }
   ],
   "source": [
    "conn.exec('CREATE DATABASE mimic3')  # Or mimic3_demo for the old DB"
   ]
  },
  {
   "cell_type": "markdown",
   "metadata": {},
   "source": [
    "## Tables creation"
   ]
  },
  {
   "cell_type": "code",
   "execution_count": 3,
   "metadata": {},
   "outputs": [
    {
     "data": {
      "text/plain": [
       "#<PG::Result:0x0000560604c60150 status=PGRES_COMMAND_OK ntuples=0 nfields=0 cmd_tuples=0>"
      ]
     },
     "execution_count": 3,
     "metadata": {},
     "output_type": "execute_result"
    }
   ],
   "source": [
    "conn = PG.connect(dbname: 'mimic3', host: 'postgres', user: 'postgres', password: 'password')\n",
    "conn.exec('CREATE SCHEMA mimiciii')\n",
    "conn.exec('SET search_path TO mimiciii')\n",
    "\n",
    "input_file = File.open('/mimic3/1.4/create_tables.sql')\n",
    "conn.exec(input_file.read)"
   ]
  },
  {
   "cell_type": "markdown",
   "metadata": {},
   "source": [
    "## Sequel connection\n",
    "\n",
    "Connection is made through the use of the **Sequel** library. "
   ]
  },
  {
   "cell_type": "code",
   "execution_count": 1,
   "metadata": {
    "scrolled": true
   },
   "outputs": [
    {
     "data": {
      "text/plain": [
       "#<Sequel::Postgres::Database: {:adapter=>\"postgres\", :host=>\"postgres\", :user=>\"postgres\", :password=>\"password\", :database=>\"mimic3_demo\", :search_path=>[\"mimiciii\"]}>"
      ]
     },
     "execution_count": 1,
     "metadata": {},
     "output_type": "execute_result"
    }
   ],
   "source": [
    "require 'sequel'\n",
    "DB_MIMIC = Sequel.connect(adapter: 'postgres',\n",
    "                          host: 'postgres',\n",
    "                          user: 'postgres',\n",
    "                          password: 'password',\n",
    "                          database: 'mimic3',\n",
    "                          search_path: ['mimiciii']\n",
    "                          )"
   ]
  },
  {
   "cell_type": "markdown",
   "metadata": {},
   "source": [
    "## ER Schema\n",
    "\n",
    "We found on the MIMIC III Git-Hub repository this image representing the ER schema.\n",
    "\n",
    "<img src=\"img/ER-Schema.png\"></img>"
   ]
  },
  {
   "cell_type": "markdown",
   "metadata": {},
   "source": [
    "## Model\n",
    "\n",
    "Here are the definitions for all the classes dealing with ORM."
   ]
  },
  {
   "cell_type": "markdown",
   "metadata": {},
   "source": [
    "#### Patients"
   ]
  },
  {
   "cell_type": "code",
   "execution_count": 2,
   "metadata": {},
   "outputs": [],
   "source": [
    "Object.send(:remove_const, :Patient) if defined? (Patient)\n",
    "\n",
    "class Patient < Sequel::Model(DB_MIMIC)  # It searches for 'patients' table\n",
    "  unrestrict_primary_key\n",
    "  \n",
    "  one_to_many :admissions, key: :subject_id, primary_key: :subject_id, class: :Admission\n",
    "  one_to_many :drgcodes, key: :subject_id, primary_key: :subject_id, class: :DrgCode\n",
    "  one_to_many :microbiologyevents, key: :subject_id, primary_key: :subject_id, class: :MicrobiologyEvent\n",
    "  one_to_many :callout, key: :subject_id, primary_key: :subject_id, class: :Callout\n",
    "  one_to_many :diagnoses_icd, key: :subject_id, primary_key: :subject_id, class: :DiagnoseIcd\n",
    "  one_to_many :icustays, key: :subject_id, primary_key: :subject_id, class: :Icustay\n",
    "  one_to_many :datetimeevents, key: :subject_id, primary_key: :subject_id, class: :DateTimeEvent\n",
    "  one_to_many :cptevents, key: :subject_id, primary_key: :subject_id, class: :CptEvent\n",
    "  one_to_many :prescriptions, key: :subject_id, primary_key: :subject_id, class: :Prescription\n",
    "  one_to_many :chartevents, key: :subject_id, primary_key: :subject_id, class: :ChartEvent\n",
    "  one_to_many :transfers, key: :subject_id, primary_key: :subject_id, class: :Transfer\n",
    "  one_to_many :inputevents_cv, key: :subject_id, primary_key: :subject_id, class: :InputEventCV\n",
    "  one_to_many :noteevents, key: :subject_id, primary_key: :subject_id, class: :NoteEvent\n",
    "  one_to_many :services, key: :subject_id, primary_key: :subject_id, class: :Service\n",
    "  one_to_many :procedures_icd, key: :subject_id, primary_key: :subject_id, class: :ProcedureIcd\n",
    "  one_to_many :outputevents, key: :subject_id, primary_key: :subject_id, class: :OutputEvent\n",
    "  one_to_many :procedureevents_mv, key: :subject_id, primary_key: :subject_id, class: :ProcedureEventMV\n",
    "  one_to_many :inputevents_mv, key: :subject_id, primary_key: :subject_id, class: :InputEventMV\n",
    "end\n",
    "nil"
   ]
  },
  {
   "cell_type": "markdown",
   "metadata": {},
   "source": [
    "#### Admissions"
   ]
  },
  {
   "cell_type": "code",
   "execution_count": 3,
   "metadata": {},
   "outputs": [],
   "source": [
    "Object.send(:remove_const, :Admission) if defined? (Admission)\n",
    "\n",
    "class Admission < Sequel::Model(DB_MIMIC)\n",
    "  unrestrict_primary_key\n",
    "  \n",
    "  many_to_one :patient, key: :subject_id, primary_key: :subject_id, class: :Patient\n",
    "  \n",
    "  one_to_many :drgcodes, key: :hadm_id, primary_key: :hadm_id, class: :DrgCode\n",
    "  one_to_many :microbiologyevents, key: :hadm_id, primary_key: :hadm_id, class: :MicrobiologyEvent\n",
    "  one_to_many :callout, key: :hadm_id, primary_key: :hadm_id, class: :Callout\n",
    "  one_to_many :diagnoses_icd, key: :hadm_id, primary_key: :hadm_id, class: :DiagnoseIcd\n",
    "  one_to_many :icustays, key: :hadm_id, primary_key: :hadm_id, class: :Icustay\n",
    "  one_to_many :datetimeevents, key: :hadm_id, primary_key: :hadm_id, class: :DateTimeEvent\n",
    "  one_to_many :cptevents, key: :hadm_id, primary_key: :hadm_id, class: :CptEvent\n",
    "  one_to_many :prescriptions, key: :hadm_id, primary_key: :hadm_id, class: :Prescription\n",
    "  one_to_many :chartevents, key: :hadm_id, primary_key: :hadm_id, class: :ChartEvent\n",
    "  one_to_many :transfers, key: :hadm_id, primary_key: :hadm_id, class: :Transfer\n",
    "  one_to_many :inputevents_cv, key: :hadm_id, primary_key: :hadm_id, class: :InputEventCV\n",
    "  one_to_many :noteevents, key: :hadm_id, primary_key: :hadm_id, class: :NoteEvent\n",
    "  one_to_many :services, key: :hadm_id, primary_key: :hadm_id, class: :Service\n",
    "  one_to_many :procedures_icd, key: :hadm_id, primary_key: :hadm_id, class: :ProcedureIcd\n",
    "  one_to_many :outputevents, key: :hadm_id, primary_key: :hadm_id, class: :OutputEvent\n",
    "  one_to_many :procedureevents_mv, key: :hadm_id, primary_key: :hadm_id, class: :ProcedureEventMV\n",
    "  one_to_many :inputevents_mv, key: :hadm_id, primary_key: :hadm_id, class: :InputEventMV\n",
    "end\n",
    "nil"
   ]
  },
  {
   "cell_type": "markdown",
   "metadata": {},
   "source": [
    "#### DRG codes"
   ]
  },
  {
   "cell_type": "code",
   "execution_count": null,
   "metadata": {},
   "outputs": [],
   "source": [
    "Object.send(:remove_const, :DrgCode) if defined? (DrgCode)\n",
    "\n",
    "class DrgCode < Sequel::Model(DB_MIMIC[:drgcodes])  # search for 'drgcodes' table\n",
    "  unrestrict_primary_key\n",
    "  \n",
    "  many_to_one :patient, key: :subject_id, primary_key: :subject_id, class: :Patient\n",
    "  many_to_one :admission, key: :hadm_id, primary_key: :hadm_id, class: :Admission\n",
    "end\n",
    "nil"
   ]
  },
  {
   "cell_type": "markdown",
   "metadata": {},
   "source": [
    "#### Microbiologyevents"
   ]
  },
  {
   "cell_type": "code",
   "execution_count": null,
   "metadata": {},
   "outputs": [],
   "source": [
    "Object.send(:remove_const, :MicrobiologyEvent) if defined? (MicrobiologyEvent)\n",
    "\n",
    "class MicrobiologyEvent < Sequel::Model(DB_MIMIC[:microbiologyevents])\n",
    "  unrestrict_primary_key\n",
    "  \n",
    "  many_to_one :patient, key: :subject_id, primary_key: :subject_id, class: :Patient\n",
    "  many_to_one :admission, key: :hadm_id, primary_key: :hadm_id, class: :Admission\n",
    "end\n",
    "nil"
   ]
  },
  {
   "cell_type": "markdown",
   "metadata": {},
   "source": [
    "#### Callout"
   ]
  },
  {
   "cell_type": "code",
   "execution_count": null,
   "metadata": {},
   "outputs": [],
   "source": [
    "Object.send(:remove_const, :Callout) if defined? (Callout)\n",
    "\n",
    "class Callout < Sequel::Model(DB_MIMIC[:callout])\n",
    "  unrestrict_primary_key\n",
    "  \n",
    "  many_to_one :patient, key: :subject_id, primary_key: :subject_id, class: :Patient\n",
    "  many_to_one :admission, key: :hadm_id, primary_key: :hadm_id, class: :Admission\n",
    "end\n",
    "nil"
   ]
  },
  {
   "cell_type": "markdown",
   "metadata": {},
   "source": [
    "#### Diagnoses_icd"
   ]
  },
  {
   "cell_type": "code",
   "execution_count": null,
   "metadata": {},
   "outputs": [],
   "source": [
    "Object.send(:remove_const, :DiagnoseIcd) if defined? (DiagnoseIcd)\n",
    "\n",
    "class DiagnoseIcd < Sequel::Model(DB_MIMIC[:diagnoses_icd])\n",
    "  unrestrict_primary_key\n",
    "  \n",
    "  many_to_one :patient, key: :subject_id, primary_key: :subject_id, class: :Patient\n",
    "  many_to_one :admission, key: :hadm_id, primary_key: :hadm_id, class: :Admission\n",
    "end\n",
    "nil"
   ]
  },
  {
   "cell_type": "markdown",
   "metadata": {},
   "source": [
    "#### CPT events"
   ]
  },
  {
   "cell_type": "code",
   "execution_count": null,
   "metadata": {},
   "outputs": [],
   "source": [
    "Object.send(:remove_const, :CptEvent) if defined? (CptEvent)\n",
    "\n",
    "class CptEvent < Sequel::Model(DB_MIMIC[:cptevents])\n",
    "  unrestrict_primary_key\n",
    "  \n",
    "  many_to_one :patient, key: :subject_id, primary_key: :subject_id, class: :Patient\n",
    "  many_to_one :admission, key: :hadm_id, primary_key: :hadm_id, class: :Admission\n",
    "end\n",
    "nil"
   ]
  },
  {
   "cell_type": "markdown",
   "metadata": {},
   "source": [
    "#### Services"
   ]
  },
  {
   "cell_type": "code",
   "execution_count": null,
   "metadata": {},
   "outputs": [],
   "source": [
    "Object.send(:remove_const, :Service) if defined? (Service)\n",
    "\n",
    "class Service < Sequel::Model(DB_MIMIC)\n",
    "  unrestrict_primary_key\n",
    "  \n",
    "  many_to_one :patient, key: :subject_id, primary_key: :subject_id, class: :Patient\n",
    "  many_to_one :admission, key: :hadm_id, primary_key: :hadm_id, class: :Admission\n",
    "end\n",
    "nil"
   ]
  },
  {
   "cell_type": "markdown",
   "metadata": {},
   "source": [
    "#### Procedures ICD"
   ]
  },
  {
   "cell_type": "code",
   "execution_count": null,
   "metadata": {},
   "outputs": [],
   "source": [
    "Object.send(:remove_const, :ProcedureIcd) if defined? (ProcedureIcd)\n",
    "\n",
    "class ProcedureIcd < Sequel::Model(DB_MIMIC[:procedures_icd])\n",
    "  unrestrict_primary_key\n",
    "  \n",
    "  many_to_one :patient, key: :subject_id, primary_key: :subject_id, class: :Patient\n",
    "  many_to_one :admission, key: :hadm_id, primary_key: :hadm_id, class: :Admission\n",
    "end\n",
    "nil"
   ]
  },
  {
   "cell_type": "markdown",
   "metadata": {},
   "source": [
    "#### Icustays"
   ]
  },
  {
   "cell_type": "code",
   "execution_count": null,
   "metadata": {},
   "outputs": [],
   "source": [
    "Object.send(:remove_const, :Icustay) if defined? (Icustay)\n",
    "\n",
    "class Icustay < Sequel::Model(DB_MIMIC)\n",
    "  unrestrict_primary_key\n",
    "  \n",
    "  many_to_one :patient, key: :subject_id, primary_key: :subject_id, class: :Patient\n",
    "  many_to_one :admission, key: :hadm_id, primary_key: :hadm_id, class: :Admission\n",
    "  \n",
    "  one_to_many :prescriptions, key: :icustay_id, primary_key: :icustay_id, class: :Icustay\n",
    "  one_to_many :datetimeevents, key: :icustay_id, primary_key: :icustay_id, class: :DateTimeEvent\n",
    "  one_to_many :chartevents, key: :icustay_id, primary_key: :icustay_id, class: :ChartEvent\n",
    "  one_to_many :transfers, key: :icustay_id, primary_key: :icustay_id, class: :Transfer\n",
    "  one_to_many :inputevents_cv, key: :icustay_id, primary_key: :icustay_id, class: :InputEventCV\n",
    "  one_to_many :outputevents, key: :icustay_id, primary_key: :icustay_id, class: :OutputEvent\n",
    "  one_to_many :procedureevents_mv, key: :icustay_id, primary_key: :icustay_id, class: :ProcedureEventMV\n",
    "  one_to_many :inputevents_mv, key: :icustay_id, primary_key: :icustay_id, class: :InputEventMV\n",
    "end\n",
    "nil"
   ]
  },
  {
   "cell_type": "markdown",
   "metadata": {},
   "source": [
    "#### Prescriptions"
   ]
  },
  {
   "cell_type": "code",
   "execution_count": null,
   "metadata": {},
   "outputs": [],
   "source": [
    "Object.send(:remove_const, :Prescription) if defined? (Prescription)\n",
    "\n",
    "class Prescription < Sequel::Model(DB_MIMIC)\n",
    "  unrestrict_primary_key\n",
    "  \n",
    "  many_to_one :patient, key: :subject_id, primary_key: :subject_id, class: :Patient\n",
    "  many_to_one :admission, key: :hadm_id, primary_key: :hadm_id, class: :Admission\n",
    "  many_to_one :icustay, key: :icustay_id, primary_key: :icustay_id, class: :Icustay\n",
    "end\n",
    "nil"
   ]
  },
  {
   "cell_type": "markdown",
   "metadata": {},
   "source": [
    "#### Transfers"
   ]
  },
  {
   "cell_type": "code",
   "execution_count": null,
   "metadata": {},
   "outputs": [],
   "source": [
    "Object.send(:remove_const, :Transfer) if defined? (Transfer)\n",
    "\n",
    "class Transfer < Sequel::Model(DB_MIMIC)\n",
    "  unrestrict_primary_key\n",
    "  \n",
    "  many_to_one :patient, key: :subject_id, primary_key: :subject_id, class: :Patient\n",
    "  many_to_one :admission, key: :hadm_id, primary_key: :hadm_id, class: :Admission\n",
    "  many_to_one :icustay, key: :icustay_id, primary_key: :icustay_id, class: :Icustay\n",
    "end\n",
    "nil"
   ]
  },
  {
   "cell_type": "markdown",
   "metadata": {},
   "source": [
    "#### Caregivers"
   ]
  },
  {
   "cell_type": "code",
   "execution_count": null,
   "metadata": {},
   "outputs": [],
   "source": [
    "Object.send(:remove_const, :Caregiver) if defined? (Caregiver)\n",
    "\n",
    "class Caregiver < Sequel::Model(DB_MIMIC)\n",
    "  unrestrict_primary_key\n",
    "  \n",
    "  one_to_many :datetimeevent, key: :cgid, primary_key: :cgid\n",
    "  one_to_many :chartevent, key: :cgid, primary_key: :cgid\n",
    "  one_to_many :inputevents_cv, key: :cgid, primary_key: :cgid\n",
    "  one_to_many :noteevents, key: :cgid, primary_key: :cgid\n",
    "  one_to_many :outputevents, key: :cgid, primary_key: :cgid\n",
    "  one_to_many :procedureevents_mv, key: :cgid, primary_key: :cgid\n",
    "  one_to_many :inputevents_mv, key: :cgid, primary_key: :cgid\n",
    "end\n",
    "nil"
   ]
  },
  {
   "cell_type": "markdown",
   "metadata": {},
   "source": [
    "#### Input events cv"
   ]
  },
  {
   "cell_type": "code",
   "execution_count": null,
   "metadata": {},
   "outputs": [],
   "source": [
    "Object.send(:remove_const, :InputEventCV) if defined? (InputEventCV)\n",
    "\n",
    "class InputEventCV < Sequel::Model(DB_MIMIC[:inputevents_cv])\n",
    "  unrestrict_primary_key\n",
    "  \n",
    "  many_to_one :patient, key: :subject_id, primary_key: :subject_id, class: :Patient\n",
    "  many_to_one :admission, key: :hadm_id, primary_key: :hadm_id, class: :Admission\n",
    "  many_to_one :icustay, key: :icustay_id, primary_key: :icustay_id, class: :Icustay\n",
    "  many_to_one :caregiver, key: :cgid, primary_key: :cgid, class: :Caregiver\n",
    "end\n",
    "nil"
   ]
  },
  {
   "cell_type": "markdown",
   "metadata": {},
   "source": [
    "#### Output events"
   ]
  },
  {
   "cell_type": "code",
   "execution_count": null,
   "metadata": {},
   "outputs": [],
   "source": [
    "Object.send(:remove_const, :OutputEvent) if defined? (OutputEvent)\n",
    "\n",
    "class OutputEvent < Sequel::Model(DB_MIMIC[:outputevents])\n",
    "  unrestrict_primary_key\n",
    "  \n",
    "  many_to_one :patient, key: :subject_id, primary_key: :subject_id, class: :Patient\n",
    "  many_to_one :admission, key: :hadm_id, primary_key: :hadm_id, class: :Admission\n",
    "  many_to_one :icustay, key: :icustay_id, primary_key: :icustay_id, class: :Icustay\n",
    "  many_to_one :caregiver, key: :cgid, primary_key: :cgid, class: :Caregiver\n",
    "end\n",
    "nil"
   ]
  },
  {
   "cell_type": "markdown",
   "metadata": {},
   "source": [
    "#### Procedure events mv"
   ]
  },
  {
   "cell_type": "code",
   "execution_count": null,
   "metadata": {},
   "outputs": [],
   "source": [
    "Object.send(:remove_const, :ProcedureEventMV) if defined? (ProcedureEventMV)\n",
    "\n",
    "class ProcedureEventMV < Sequel::Model(DB_MIMIC[:procedureevents_mv])\n",
    "  unrestrict_primary_key\n",
    "  \n",
    "  many_to_one :patient, key: :subject_id, primary_key: :subject_id, class: :Patient\n",
    "  many_to_one :admission, key: :hadm_id, primary_key: :hadm_id, class: :Admission\n",
    "  many_to_one :icustay, key: :icustay_id, primary_key: :icustay_id, class: :Icustay\n",
    "  many_to_one :caregiver, key: :cgid, primary_key: :cgid, class: :Caregiver\n",
    "end\n",
    "nil"
   ]
  },
  {
   "cell_type": "markdown",
   "metadata": {},
   "source": [
    "#### Input events mv"
   ]
  },
  {
   "cell_type": "code",
   "execution_count": null,
   "metadata": {},
   "outputs": [],
   "source": [
    "Object.send(:remove_const, :InputEventMV) if defined? (InputEventMV)\n",
    "\n",
    "class InputEventMV < Sequel::Model(DB_MIMIC[:inputevents_mv])\n",
    "  unrestrict_primary_key\n",
    "  \n",
    "  many_to_one :patient, key: :subject_id, primary_key: :subject_id, class: :Patient\n",
    "  many_to_one :admission, key: :hadm_id, primary_key: :hadm_id, class: :Admission\n",
    "  many_to_one :icustay, key: :icustay_id, primary_key: :icustay_id, class: :Icustay\n",
    "  many_to_one :caregiver, key: :cgid, primary_key: :cgid, class: :Caregiver\n",
    "end\n",
    "nil"
   ]
  },
  {
   "cell_type": "markdown",
   "metadata": {},
   "source": [
    "#### Note events"
   ]
  },
  {
   "cell_type": "code",
   "execution_count": null,
   "metadata": {},
   "outputs": [],
   "source": [
    "Object.send(:remove_const, :NoteEvent) if defined? (NoteEvent)\n",
    "\n",
    "class NoteEvent < Sequel::Model(DB_MIMIC[:noteevents])\n",
    "  unrestrict_primary_key\n",
    "  \n",
    "  many_to_one :patient, key: :subject_id, primary_key: :subject_id, class: :Patient\n",
    "  many_to_one :admission, key: :hadm_id, primary_key: :hadm_id, class: :Admission\n",
    "  many_to_one :caregiver, key: :cgid, primary_key: :cgid, class: :Caregiver\n",
    "end\n",
    "nil"
   ]
  },
  {
   "cell_type": "markdown",
   "metadata": {},
   "source": [
    "#### Definitions: Items"
   ]
  },
  {
   "cell_type": "code",
   "execution_count": null,
   "metadata": {},
   "outputs": [],
   "source": [
    "Object.send(:remove_const, :DItem) if defined? (DItem)\n",
    "\n",
    "class DItem < Sequel::Model(DB_MIMIC)\n",
    "  unrestrict_primary_key\n",
    "  \n",
    "  one_to_many :datetimeevents, key: :itemid, primary_key: :itemid, class: :DateTimeEvent\n",
    "  one_to_many :chartevents, key: :itemid, primary_key: :itemid, class: :ChartEvent\n",
    "end\n",
    "nil"
   ]
  },
  {
   "cell_type": "markdown",
   "metadata": {},
   "source": [
    "#### Chart events"
   ]
  },
  {
   "cell_type": "code",
   "execution_count": null,
   "metadata": {},
   "outputs": [],
   "source": [
    "Object.send(:remove_const, :ChartEvent) if defined? (ChartEvent)\n",
    "\n",
    "class ChartEvent < Sequel::Model(DB_MIMIC[:chartevents])\n",
    "  unrestrict_primary_key\n",
    "  \n",
    "  many_to_one :patient, key: :subject_id, primary_key: :subject_id, class: :Patient\n",
    "  many_to_one :admission, key: :hadm_id, primary_key: :hadm_id, class: :Admission\n",
    "  many_to_one :icustay, key: :icustay_id, primary_key: :icustay_id, class: :Icustay\n",
    "  many_to_one :d_item, key: :itemid, primary_key: :itemid, class: :DItem\n",
    "  many_to_one :caregiver, key: :cgid, primary_key: :cgid, class: :Caregiver\n",
    "end\n",
    "nil"
   ]
  },
  {
   "cell_type": "markdown",
   "metadata": {},
   "source": [
    "#### Date-Time events"
   ]
  },
  {
   "cell_type": "code",
   "execution_count": null,
   "metadata": {},
   "outputs": [],
   "source": [
    "Object.send(:remove_const, :DateTimeEvent) if defined? (DateTimeEvent)\n",
    "\n",
    "class DateTimeEvent < Sequel::Model(DB_MIMIC[:datetimeevents])\n",
    "  unrestrict_primary_key\n",
    "  \n",
    "  many_to_one :patients, key: :subject_id, primary_key: :subject_id, class: :Patient\n",
    "  many_to_one :admissions, key: :hadm_id, primary_key: :hadm_id, class: :Admission\n",
    "  many_to_one :icustays, key: :icustay_id, primary_key: :icustay_id, class: :Icustay\n",
    "  many_to_one :d_items, key: :itemid, primary_key: :itemid, class: :DItem\n",
    "  many_to_one :caregivers, key: :cgid, primary_key: :cgid, class: :Caregiver\n",
    "end\n",
    "nil"
   ]
  },
  {
   "cell_type": "markdown",
   "metadata": {},
   "source": [
    "#### Lab items description"
   ]
  },
  {
   "cell_type": "code",
   "execution_count": null,
   "metadata": {},
   "outputs": [],
   "source": [
    "Object.send(:remove_const, :DLabItem) if defined? (DLabItem)\n",
    "\n",
    "class DLabItem < Sequel::Model(DB_MIMIC[:d_labitems])\n",
    "  unrestrict_primary_key\n",
    "  \n",
    "  one_to_many :labevents, key: :itemid, primary_key: :itemid, class: :LabEvent\n",
    "end\n",
    "nil"
   ]
  },
  {
   "cell_type": "markdown",
   "metadata": {},
   "source": [
    "#### Lab events"
   ]
  },
  {
   "cell_type": "code",
   "execution_count": null,
   "metadata": {},
   "outputs": [],
   "source": [
    "Object.send(:remove_const, :LabEvent) if defined? (LabEvent)\n",
    "\n",
    "class LabEvent < Sequel::Model(DB_MIMIC[:labevents])\n",
    "  unrestrict_primary_key\n",
    "  \n",
    "  many_to_one :patient, key: :subject_id, primary_key: :subject_id, class: :Patient\n",
    "  many_to_one :admission, key: :hadm_id, primary_key: :hadm_id, class: :Admission\n",
    "  many_to_one :d_labitem, key: :itemid, primary_key: :itemid, class: :DLabItem\n",
    "end\n",
    "nil"
   ]
  },
  {
   "cell_type": "markdown",
   "metadata": {},
   "source": [
    "#### Diagnoses icd description"
   ]
  },
  {
   "cell_type": "code",
   "execution_count": null,
   "metadata": {},
   "outputs": [],
   "source": [
    "Object.send(:remove_const, :DIcdDiagnose) if defined? (DIcdDiagnose)\n",
    "\n",
    "class DIcdDiagnose < Sequel::Model(DB_MIMIC)\n",
    "  unrestrict_primary_key\n",
    "end\n",
    "nil"
   ]
  },
  {
   "cell_type": "markdown",
   "metadata": {},
   "source": [
    "#### Cpt descriptions"
   ]
  },
  {
   "cell_type": "code",
   "execution_count": null,
   "metadata": {},
   "outputs": [],
   "source": [
    "Object.send(:remove_const, :DCpt) if defined? (DCpt)\n",
    "\n",
    "class DCpt < Sequel::Model(DB_MIMIC[:d_cpt])\n",
    "  unrestrict_primary_key\n",
    "end\n",
    "nil"
   ]
  },
  {
   "cell_type": "markdown",
   "metadata": {},
   "source": [
    "#### Icd procedures description"
   ]
  },
  {
   "cell_type": "code",
   "execution_count": null,
   "metadata": {},
   "outputs": [],
   "source": [
    "Object.send(:remove_const, :DIcdProcedure) if defined? (DIcdProcedure)\n",
    "\n",
    "class DIcdProcedure < Sequel::Model(DB_MIMIC)\n",
    "  unrestrict_primary_key\n",
    "end\n",
    "nil"
   ]
  },
  {
   "cell_type": "markdown",
   "metadata": {},
   "source": [
    "# Tests"
   ]
  },
  {
   "cell_type": "code",
   "execution_count": null,
   "metadata": {},
   "outputs": [],
   "source": [
    "Patient.create(row_id: 1, subject_id: 8888, gender: 'M', dob: Date.parse('196-10-12'), expire_flag: '0')\n",
    "puts Patient.first.methods.grep(/add/)\n",
    "Patient.first.delete\n",
    "nil"
   ]
  },
  {
   "cell_type": "code",
   "execution_count": null,
   "metadata": {},
   "outputs": [],
   "source": [
    "Patient.first.add_admission(row_id: 1, subject_id: 8888, hadm_id: 9999, \n",
    "                            admittime: Date.today, dischtime: Date.today, admission_type: 'EMERGENCY',\n",
    "                            admission_location: 'Here', discharge_location: 'Here', insurance: 'None',\n",
    "                            ethnicity: 'boh', has_chartevents_data: 8)"
   ]
  },
  {
   "cell_type": "code",
   "execution_count": null,
   "metadata": {},
   "outputs": [],
   "source": [
    "Patient.first.methods.grep(/add/)"
   ]
  },
  {
   "cell_type": "code",
   "execution_count": null,
   "metadata": {},
   "outputs": [],
   "source": [
    "Admission.first.methods.grep(/add/)"
   ]
  },
  {
   "cell_type": "code",
   "execution_count": null,
   "metadata": {},
   "outputs": [],
   "source": [
    "DItem.create(row_id: 1, itemid: 1, label: 'Strope')"
   ]
  },
  {
   "cell_type": "code",
   "execution_count": null,
   "metadata": {},
   "outputs": [],
   "source": [
    "Patient.first.delete"
   ]
  },
  {
   "cell_type": "code",
   "execution_count": 13,
   "metadata": {},
   "outputs": [
    {
     "data": {
      "text/plain": [
       "#<Patient @values={:row_id=>9467, :subject_id=>10006, :gender=>\"F\", :dob=>2094-03-05 00:00:00 +0000, :dod=>2165-08-12 00:00:00 +0000, :dod_hosp=>2165-08-12 00:00:00 +0000, :dod_ssn=>2165-08-12 00:00:00 +0000, :expire_flag=>1}>"
      ]
     },
     "execution_count": 13,
     "metadata": {},
     "output_type": "execute_result"
    }
   ],
   "source": [
    "Admission.first.patient"
   ]
  }
 ],
 "metadata": {
  "kernelspec": {
   "display_name": "Ruby 2.5.1",
   "language": "ruby",
   "name": "ruby"
  },
  "language_info": {
   "file_extension": ".rb",
   "mimetype": "application/x-ruby",
   "name": "ruby",
   "version": "2.5.1"
  }
 },
 "nbformat": 4,
 "nbformat_minor": 4
}
