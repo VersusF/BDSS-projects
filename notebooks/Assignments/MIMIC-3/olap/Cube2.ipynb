{
 "cells": [
  {
   "cell_type": "markdown",
   "metadata": {},
   "source": [
    "## Schema 2: Prescriptions\n",
    "\n",
    "![Cube 2](img/Cube2.png)"
   ]
  },
  {
   "cell_type": "code",
   "execution_count": 1,
   "metadata": {},
   "outputs": [],
   "source": [
    "# Libraries and connections\n",
    "\n",
    "require 'sequel'\n",
    "\n",
    "DB_MIMIC = Sequel.connect(adapter: 'postgres',\n",
    "                          host: 'postgres',\n",
    "                          user: 'postgres',\n",
    "                          password: 'password',\n",
    "                          database: 'mimic3',\n",
    "                          search_path: ['mimiciii']\n",
    "                          )\n",
    "\n",
    "DB_OLAP = Sequel.connect(adapter: 'postgres',\n",
    "                          host: 'postgres',\n",
    "                          user: 'postgres',\n",
    "                          password: 'password',\n",
    "                          database: 'mimic3',\n",
    "                          search_path: ['olap']\n",
    "                          )\n",
    "\n",
    "load '../etl/model.rb'\n",
    "nil"
   ]
  },
  {
   "cell_type": "markdown",
   "metadata": {},
   "source": [
    "#### Time dimension table"
   ]
  },
  {
   "cell_type": "code",
   "execution_count": 2,
   "metadata": {},
   "outputs": [],
   "source": [
    "# Creation\n",
    "DB_OLAP.drop_table?(:prescription_date)\n",
    "DB_OLAP.create_table(:prescription_date) do\n",
    "  DateTime :start_date, primary_key: true\n",
    "  String :day\n",
    "  String :month\n",
    "  String :year\n",
    "end\n",
    "\n",
    "# Population\n",
    "Prescription.all.uniq.each do |prescription|\n",
    "  time = prescription.startdate\n",
    "  year = time.year\n",
    "  month = time.month\n",
    "  day = time.day\n",
    "  if DB_OLAP[:prescription_date].where(start_date: time).empty?\n",
    "    DB_OLAP[:prescription_date].insert(\n",
    "      start_date: time,\n",
    "      day: \"#{year}-#{month}-#{day}\",\n",
    "      month: \"#{year}-#{month}\",\n",
    "      year: year.to_s\n",
    "    )\n",
    "  end\n",
    "end\n",
    "\n",
    "nil"
   ]
  },
  {
   "cell_type": "markdown",
   "metadata": {},
   "source": [
    "#### Drug dimension table\n",
    "\n",
    "**Note**: MIMIC has multiple formats for ndc codes, and the community didn't find a method to normalize it.\n",
    "For simplicity we chose to adopt the 5-4-2 format for all the codes. See the [GitHub issue](https://github.com/MIT-LCP/mimic-code/issues/132) and the [ndc conversion from 10 to 11 digits](https://phpa.health.maryland.gov/OIDEOR/IMMUN/Shared%20Documents/Handout%203%20-%20NDC%20conversion%20to%2011%20digits.pdf)."
   ]
  },
  {
   "cell_type": "code",
   "execution_count": 3,
   "metadata": {},
   "outputs": [],
   "source": [
    "# Creation\n",
    "DB_OLAP.drop_table?(:prescription_drug)\n",
    "DB_OLAP.create_table(:prescription_drug) do\n",
    "  String :ndc_code, primary_key: true\n",
    "  String :ndc_product\n",
    "  String :ndc_labeler\n",
    "  String :ndc_package\n",
    "end\n",
    "\n",
    "# Population\n",
    "Prescription.all.uniq.each do |prescription|\n",
    "  ndc_code = prescription.ndc\n",
    "  ndc_labeler = '00000'\n",
    "  ndc_product = ndc_labeler + '-0000'\n",
    "  ndc_package = ndc_product + '-00'\n",
    "  if ndc_code == nil\n",
    "    ndc_code = '0'\n",
    "  end\n",
    "  if ndc_code.length >= 9\n",
    "    ndc_labeler = ndc_code[0..4]\n",
    "    ndc_product = ndc_labeler + '-' + ndc_code[5..8]\n",
    "    ndc_package = ndc_product + '-' + ndc_code[9..10]\n",
    "  end\n",
    "  if DB_OLAP[:prescription_drug].where(ndc_code: ndc_code).empty?\n",
    "    DB_OLAP[:prescription_drug].insert(\n",
    "      ndc_code: ndc_code,\n",
    "      ndc_labeler: ndc_labeler,\n",
    "      ndc_product: ndc_product,\n",
    "      ndc_package: ndc_package\n",
    "    )\n",
    "  end\n",
    "end\n",
    "\n",
    "nil"
   ]
  },
  {
   "cell_type": "markdown",
   "metadata": {},
   "source": [
    "#### Drug type dimension table"
   ]
  },
  {
   "cell_type": "code",
   "execution_count": 4,
   "metadata": {},
   "outputs": [],
   "source": [
    "# Creation\n",
    "DB_OLAP.drop_table?(:prescription_drug_type)\n",
    "DB_OLAP.create_table(:prescription_drug_type) do\n",
    "  String :drug_type, primary_key: true\n",
    "end\n",
    "\n",
    "# Population\n",
    "Prescription.all.uniq.each do |prescription|\n",
    "  type = prescription.drug_type\n",
    "  if DB_OLAP[:prescription_drug_type].where(drug_type: type).empty?\n",
    "    DB_OLAP[:prescription_drug_type].insert(\n",
    "      drug_type: type\n",
    "    )\n",
    "  end\n",
    "end\n",
    "\n",
    "nil"
   ]
  },
  {
   "cell_type": "markdown",
   "metadata": {},
   "source": [
    "#### Fact table"
   ]
  },
  {
   "cell_type": "code",
   "execution_count": 5,
   "metadata": {},
   "outputs": [
    {
     "data": {
      "text/plain": [
       ":age_in_completed_years"
      ]
     },
     "execution_count": 5,
     "metadata": {},
     "output_type": "execute_result"
    }
   ],
   "source": [
    "# Method for calculating a patient's age using the difference between birth year and prescription year.\n",
    "# If the birthday did not occur yet by the time of the prescription then we subract a year from the age.\n",
    "def age_in_completed_years (bd, d)\n",
    "    a = d.year - bd.year\n",
    "    a = a - 1 if (\n",
    "         bd.month >  d.month or \n",
    "        (bd.month >= d.month and bd.day > d.day)\n",
    "    )\n",
    "    a\n",
    "end"
   ]
  },
  {
   "cell_type": "code",
   "execution_count": 6,
   "metadata": {},
   "outputs": [],
   "source": [
    "# Creation\n",
    "DB_OLAP.drop_table?(:prescriptions)\n",
    "DB_OLAP.create_table(:prescriptions) do\n",
    "  Integer :row_id, primary_key: true\n",
    "  Integer :duration\n",
    "  Integer :patient_age\n",
    "  \n",
    "  DateTime :start_date\n",
    "  String :ndc_code\n",
    "  String :drug_type\n",
    "end\n",
    "\n",
    "# Population\n",
    "Prescription.all.uniq.each do |prescription|\n",
    "  \n",
    "  duration = nil\n",
    "  if not prescription.enddate.nil?\n",
    "    duration = (prescription.enddate - prescription.startdate).to_i / ( 3600 * 24 )  # Calculte elapsed days\n",
    "  end\n",
    "  DB_OLAP[:prescriptions].insert(\n",
    "    row_id: prescription.row_id,\n",
    "    duration: duration,\n",
    "    patient_age: age_in_completed_years(prescription.patient.dob, prescription.startdate),\n",
    "    \n",
    "    start_date: prescription.startdate,\n",
    "    ndc_code: prescription.ndc,\n",
    "    drug_type: prescription.drug_type\n",
    "  )\n",
    "  \n",
    "end\n",
    "\n",
    "nil"
   ]
  },
  {
   "cell_type": "markdown",
   "metadata": {},
   "source": [
    "## XML implementation"
   ]
  },
  {
   "cell_type": "raw",
   "metadata": {},
   "source": [
    "<Schema name=\"Prescriptions\">\n",
    "  <Cube name=\"Prescription\" visible=\"true\" cache=\"true\" enabled=\"true\">\n",
    "    <Table name=\"prescriptions\" schema=\"olap\">\n",
    "    </Table>\n",
    "    <Dimension type=\"StandardDimension\" visible=\"true\" foreignKey=\"start_date\" name=\"Start date\">\n",
    "      <Hierarchy name=\"dates\" visible=\"true\" hasAll=\"false\" primaryKey=\"start_date\">\n",
    "        <Table name=\"prescription_date\" schema=\"olap\">\n",
    "        </Table>\n",
    "        <Level name=\"Year\" visible=\"true\" column=\"year\" type=\"String\" uniqueMembers=\"false\" levelType=\"Regular\" hideMemberIf=\"Never\">\n",
    "        </Level>\n",
    "        <Level name=\"Month\" visible=\"true\" column=\"month\" type=\"String\" uniqueMembers=\"false\" levelType=\"Regular\" hideMemberIf=\"Never\">\n",
    "        </Level>\n",
    "        <Level name=\"Day\" visible=\"true\" column=\"day\" type=\"String\" uniqueMembers=\"false\" levelType=\"Regular\" hideMemberIf=\"Never\">\n",
    "        </Level>\n",
    "      </Hierarchy>\n",
    "    </Dimension>\n",
    "    <Dimension type=\"StandardDimension\" visible=\"true\" foreignKey=\"ndc_code\" name=\"Drug NDC\">\n",
    "      <Hierarchy name=\"codes\" visible=\"true\" hasAll=\"false\" primaryKey=\"ndc_code\">\n",
    "        <Table name=\"prescription_drug\" schema=\"olap\">\n",
    "        </Table>\n",
    "        <Level name=\"NDC labeler\" visible=\"true\" column=\"ndc_labeler\" type=\"String\" uniqueMembers=\"false\" levelType=\"Regular\" hideMemberIf=\"Never\">\n",
    "        </Level>\n",
    "        <Level name=\"NDC product\" visible=\"true\" column=\"ndc_product\" type=\"String\" uniqueMembers=\"false\" levelType=\"Regular\" hideMemberIf=\"Never\">\n",
    "        </Level>\n",
    "        <Level name=\"NDC package\" visible=\"true\" column=\"ndc_package\" type=\"String\" uniqueMembers=\"false\" levelType=\"Regular\" hideMemberIf=\"Never\">\n",
    "        </Level>\n",
    "      </Hierarchy>\n",
    "    </Dimension>\n",
    "    <Dimension type=\"StandardDimension\" visible=\"true\" foreignKey=\"drug_type\" name=\"Drug type\">\n",
    "      <Hierarchy name=\"types\" visible=\"true\" hasAll=\"false\" primaryKey=\"drug_type\">\n",
    "        <Table name=\"prescription_drug_type\" schema=\"olap\">\n",
    "        </Table>\n",
    "        <Level name=\"Drug type\" visible=\"true\" column=\"drug_type\" type=\"String\" uniqueMembers=\"false\" levelType=\"Regular\" hideMemberIf=\"Never\">\n",
    "        </Level>\n",
    "      </Hierarchy>\n",
    "    </Dimension>\n",
    "    <Measure name=\"Count\" column=\"row_id\" aggregator=\"count\" visible=\"true\">\n",
    "    </Measure>\n",
    "    <Measure name=\"Average duration (days)\" column=\"duration\" aggregator=\"avg\" visible=\"true\">\n",
    "    </Measure>\n",
    "    <Measure name=\"Average patient age\" column=\"patient_age\" aggregator=\"avg\" visible=\"true\">\n",
    "    </Measure>\n",
    "  </Cube>\n",
    "</Schema>"
   ]
  }
 ],
 "metadata": {
  "kernelspec": {
   "display_name": "Ruby 2.5.1",
   "language": "ruby",
   "name": "ruby"
  },
  "language_info": {
   "file_extension": ".rb",
   "mimetype": "application/x-ruby",
   "name": "ruby",
   "version": "2.5.1"
  }
 },
 "nbformat": 4,
 "nbformat_minor": 4
}
